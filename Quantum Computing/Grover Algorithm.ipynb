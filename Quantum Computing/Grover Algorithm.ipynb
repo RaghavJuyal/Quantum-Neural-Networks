{
 "cells": [
  {
   "cell_type": "code",
   "execution_count": 1,
   "metadata": {},
   "outputs": [],
   "source": [
    "import numpy as np\n",
    "\n",
    "# Importing Qiskit\n",
    "from qiskit import IBMQ, Aer, QuantumCircuit, execute\n",
    "from qiskit.providers.ibmq import least_busy\n",
    "from qiskit.quantum_info import Operator\n",
    "from qiskit.tools.jupyter import *\n",
    "provider = IBMQ.load_account()\n",
    "\n",
    "# For plotting\n",
    "from qiskit.visualization import plot_histogram"
   ]
  },
  {
   "cell_type": "code",
   "execution_count": 3,
   "metadata": {},
   "outputs": [],
   "source": [
    "def phase_oracle(n, indices_to_mark, name='Oracle'):\n",
    "    qc = QuantumCircuit(n,name = name)\n",
    "    oracle_matrix = np.identity(2**n)\n",
    "    for index_to_mark in indices_to_mark:\n",
    "        oracle_matrix[index_to_mark,index_to_mark] = -1\n",
    "    qc.unitary(Operator(oracle_matrix),range(n))\n",
    "    return qc\n",
    "\n",
    "def diffuser(n):\n",
    "    qc = QuantumCircuit(n,name = \"Diff - 'V'\")\n",
    "    qc.h(range(n))\n",
    "    qc.append(phase_oracle(n,[0]),range(n))\n",
    "    qc.h(range(n))\n",
    "    return qc\n",
    "\n",
    "def Grover(n,marked):\n",
    "    qc = QuantumCircuit(n,n)\n",
    "    r = int(np.round(np.pi/(4*np.arcsin(np.sqrt(len(marked)/2**n)))-1/2))\n",
    "    print(f\"{n} qubits, basis state {marked} marked, {r} rounds\")\n",
    "    qc.h(range(n))\n",
    "    for _ in range(r):\n",
    "        qc.append(phase_oracle(n,marked),range(n))\n",
    "        qc.append(diffuser(n),range(n))\n",
    "    qc.measure(range(n),range(n))\n",
    "    return qc"
   ]
  },
  {
   "cell_type": "code",
   "execution_count": 4,
   "metadata": {},
   "outputs": [
    {
     "name": "stdout",
     "output_type": "stream",
     "text": [
      "5 qubits, basis state [28] marked, 4 rounds\n"
     ]
    },
    {
     "data": {
      "text/html": [
       "<pre style=\"word-wrap: normal;white-space: pre;background: #fff0;line-height: 1.1;font-family: &quot;Courier New&quot;,Courier,monospace\">     ┌───┐┌─────────┐┌─────────────┐┌─────────┐┌─────────────┐┌─────────┐»\n",
       "q_0: ┤ H ├┤0        ├┤0            ├┤0        ├┤0            ├┤0        ├»\n",
       "     ├───┤│         ││             ││         ││             ││         │»\n",
       "q_1: ┤ H ├┤1        ├┤1            ├┤1        ├┤1            ├┤1        ├»\n",
       "     ├───┤│         ││             ││         ││             ││         │»\n",
       "q_2: ┤ H ├┤2 Oracle ├┤2 Diff - 'V' ├┤2 Oracle ├┤2 Diff - 'V' ├┤2 Oracle ├»\n",
       "     ├───┤│         ││             ││         ││             ││         │»\n",
       "q_3: ┤ H ├┤3        ├┤3            ├┤3        ├┤3            ├┤3        ├»\n",
       "     ├───┤│         ││             ││         ││             ││         │»\n",
       "q_4: ┤ H ├┤4        ├┤4            ├┤4        ├┤4            ├┤4        ├»\n",
       "     └───┘└─────────┘└─────────────┘└─────────┘└─────────────┘└─────────┘»\n",
       "c: 5/════════════════════════════════════════════════════════════════════»\n",
       "                                                                         »\n",
       "«     ┌─────────────┐┌─────────┐┌─────────────┐┌─┐            \n",
       "«q_0: ┤0            ├┤0        ├┤0            ├┤M├────────────\n",
       "«     │             ││         ││             │└╥┘┌─┐         \n",
       "«q_1: ┤1            ├┤1        ├┤1            ├─╫─┤M├─────────\n",
       "«     │             ││         ││             │ ║ └╥┘┌─┐      \n",
       "«q_2: ┤2 Diff - 'V' ├┤2 Oracle ├┤2 Diff - 'V' ├─╫──╫─┤M├──────\n",
       "«     │             ││         ││             │ ║  ║ └╥┘┌─┐   \n",
       "«q_3: ┤3            ├┤3        ├┤3            ├─╫──╫──╫─┤M├───\n",
       "«     │             ││         ││             │ ║  ║  ║ └╥┘┌─┐\n",
       "«q_4: ┤4            ├┤4        ├┤4            ├─╫──╫──╫──╫─┤M├\n",
       "«     └─────────────┘└─────────┘└─────────────┘ ║  ║  ║  ║ └╥┘\n",
       "«c: 5/══════════════════════════════════════════╩══╩══╩══╩══╩═\n",
       "«                                               0  1  2  3  4 </pre>"
      ],
      "text/plain": [
       "     ┌───┐┌─────────┐┌─────────────┐┌─────────┐┌─────────────┐┌─────────┐»\n",
       "q_0: ┤ H ├┤0        ├┤0            ├┤0        ├┤0            ├┤0        ├»\n",
       "     ├───┤│         ││             ││         ││             ││         │»\n",
       "q_1: ┤ H ├┤1        ├┤1            ├┤1        ├┤1            ├┤1        ├»\n",
       "     ├───┤│         ││             ││         ││             ││         │»\n",
       "q_2: ┤ H ├┤2 Oracle ├┤2 Diff - 'V' ├┤2 Oracle ├┤2 Diff - 'V' ├┤2 Oracle ├»\n",
       "     ├───┤│         ││             ││         ││             ││         │»\n",
       "q_3: ┤ H ├┤3        ├┤3            ├┤3        ├┤3            ├┤3        ├»\n",
       "     ├───┤│         ││             ││         ││             ││         │»\n",
       "q_4: ┤ H ├┤4        ├┤4            ├┤4        ├┤4            ├┤4        ├»\n",
       "     └───┘└─────────┘└─────────────┘└─────────┘└─────────────┘└─────────┘»\n",
       "c: 5/════════════════════════════════════════════════════════════════════»\n",
       "                                                                         »\n",
       "«     ┌─────────────┐┌─────────┐┌─────────────┐┌─┐            \n",
       "«q_0: ┤0            ├┤0        ├┤0            ├┤M├────────────\n",
       "«     │             ││         ││             │└╥┘┌─┐         \n",
       "«q_1: ┤1            ├┤1        ├┤1            ├─╫─┤M├─────────\n",
       "«     │             ││         ││             │ ║ └╥┘┌─┐      \n",
       "«q_2: ┤2 Diff - 'V' ├┤2 Oracle ├┤2 Diff - 'V' ├─╫──╫─┤M├──────\n",
       "«     │             ││         ││             │ ║  ║ └╥┘┌─┐   \n",
       "«q_3: ┤3            ├┤3        ├┤3            ├─╫──╫──╫─┤M├───\n",
       "«     │             ││         ││             │ ║  ║  ║ └╥┘┌─┐\n",
       "«q_4: ┤4            ├┤4        ├┤4            ├─╫──╫──╫──╫─┤M├\n",
       "«     └─────────────┘└─────────┘└─────────────┘ ║  ║  ║  ║ └╥┘\n",
       "«c: 5/══════════════════════════════════════════╩══╩══╩══╩══╩═\n",
       "«                                               0  1  2  3  4 "
      ]
     },
     "execution_count": 4,
     "metadata": {},
     "output_type": "execute_result"
    }
   ],
   "source": [
    "n = 5\n",
    "x = np.random.randint(2**n)\n",
    "marked = [x]\n",
    "qc = Grover(n,marked)\n",
    "\n",
    "qc.draw()"
   ]
  },
  {
   "cell_type": "code",
   "execution_count": 6,
   "metadata": {},
   "outputs": [
    {
     "name": "stdout",
     "output_type": "stream",
     "text": [
      "{'11100': 9990, '00110': 1, '01111': 1, '10111': 1, '01010': 2, '01001': 2, '11110': 1, '00000': 1, '00010': 1}\n",
      "3.919534679768385\n"
     ]
    },
    {
     "data": {
      "image/png": "[encoded data removed]",
      "text/plain": [
       "<Figure size 504x360 with 1 Axes>"
      ]
     },
     "execution_count": 6,
     "metadata": {},
     "output_type": "execute_result"
    }
   ],
   "source": [
    "backend = Aer.get_backend('qasm_simulator')\n",
    "result = execute(qc,backend,shots = 10000).result()\n",
    "counts = result.get_counts(qc)\n",
    "print(counts)\n",
    "print(np.pi/(4*np.arcsin(np.sqrt(len(marked)/2**n)))-1/2)\n",
    "plot_histogram(counts)"
   ]
  },
  {
   "cell_type": "code",
   "execution_count": 9,
   "metadata": {},
   "outputs": [
    {
     "name": "stdout",
     "output_type": "stream",
     "text": [
      "3 qubits, basis state [2, 3] marked, 1 rounds\n",
      "Least busy backend:  ibmq_belem\n"
     ]
    },
    {
     "data": {
      "application/vnd.jupyter.widget-view+json": {
       "model_id": "f4d4a891f94f463f830d04487ea9664c",
       "version_major": 2,
       "version_minor": 0
      },
      "text/plain": [
       "Accordion(children=(VBox(layout=Layout(max_width='710px', min_width='710px')),), layout=Layout(max_height='500…"
      ]
     },
     "metadata": {},
     "output_type": "display_data"
    },
    {
     "data": {
      "application/javascript": "\n        const isLab = window['Jupyter'] === undefined;\n        const notebook = document.querySelector( isLab ? 'div.jp-Notebook' : '#site');\n        const jobWidget = document.querySelector('div.job_widget');\n        notebook.prepend(jobWidget);\n        jobWidget.style.zIndex = '999';\n        jobWidget.style.position = isLab ? 'sticky' : 'fixed';\n        jobWidget.style.boxShadow = '5px 5px 5px -3px black';\n        jobWidget.style.opacity = '0.95';\n        if (isLab) {\n            jobWidget.style.top = '0';\n            jobWidget.style.left = '0';\n        }\n        ",
      "text/plain": [
       "<IPython.core.display.Javascript object>"
      ]
     },
     "metadata": {},
     "output_type": "display_data"
    }
   ],
   "source": [
    "n=3\n",
    "x = np.random.randint(2**n)\n",
    "y = np.random.randint(2**n)\n",
    "while y==x:\n",
    "    y=np.random.randint(2**n)\n",
    "marked = [x,y]\n",
    "qc = Grover(n,marked)\n",
    "\n",
    "backend = least_busy(provider.backends(filters = lambda x: x.configuration().n_qubits == 5 and not x.configuration().simulator and x.status().operational==True))\n",
    "print(\"Least busy backend: \",backend)\n",
    "%qiskit_job_watcher\n",
    "shots = 1024\n",
    "job = execute(qc,backend = backend, shots = shots, optimization_level=3)"
   ]
  },
  {
   "cell_type": "code",
   "execution_count": 10,
   "metadata": {},
   "outputs": [
    {
     "data": {
      "image/png": "[encoded data removed]",
      "text/plain": [
       "<Figure size 504x360 with 1 Axes>"
      ]
     },
     "execution_count": 10,
     "metadata": {},
     "output_type": "execute_result"
    }
   ],
   "source": [
    "results = job.result()\n",
    "answer = results.get_counts()\n",
    "plot_histogram(answer)"
   ]
  },
  {
   "cell_type": "code",
   "execution_count": null,
   "metadata": {},
   "outputs": [],
   "source": [
    "# 6356ac8ec585ea6a0c7a9b3b"
   ]
  }
 ],
 "metadata": {
  "kernelspec": {
   "display_name": "Python 3.9.12 ('base')",
   "language": "python",
   "name": "python3"
  },
  "language_info": {
   "codemirror_mode": {
    "name": "ipython",
    "version": 3
   },
   "file_extension": ".py",
   "mimetype": "text/x-python",
   "name": "python",
   "nbconvert_exporter": "python",
   "pygments_lexer": "ipython3",
   "version": "3.9.12"
  },
  "orig_nbformat": 4,
  "vscode": {
   "interpreter": {
    "hash": "2043299c89c8cd0b4d1a6f5cf4529bd58e6a4e0fe3181a25e0d328c821cdc5c5"
   }
  }
 },
 "nbformat": 4,
 "nbformat_minor": 2
}
