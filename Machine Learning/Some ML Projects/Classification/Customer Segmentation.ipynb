{
 "cells": [
  {
   "cell_type": "code",
   "execution_count": 1,
   "id": "826d0364",
   "metadata": {},
   "outputs": [],
   "source": [
    "import numpy as np\n",
    "import pandas as pd\n",
    "import matplotlib.pyplot as plt\n",
    "import seaborn as sns"
   ]
  },
  {
   "cell_type": "code",
   "execution_count": 2,
   "id": "3ad23f09",
   "metadata": {},
   "outputs": [
    {
     "data": {
      "text/html": [
       "<div>\n",
       "<style scoped>\n",
       "    .dataframe tbody tr th:only-of-type {\n",
       "        vertical-align: middle;\n",
       "    }\n",
       "\n",
       "    .dataframe tbody tr th {\n",
       "        vertical-align: top;\n",
       "    }\n",
       "\n",
       "    .dataframe thead th {\n",
       "        text-align: right;\n",
       "    }\n",
       "</style>\n",
       "<table border=\"1\" class=\"dataframe\">\n",
       "  <thead>\n",
       "    <tr style=\"text-align: right;\">\n",
       "      <th></th>\n",
       "      <th>ID</th>\n",
       "      <th>Gender</th>\n",
       "      <th>Ever_Married</th>\n",
       "      <th>Age</th>\n",
       "      <th>Graduated</th>\n",
       "      <th>Profession</th>\n",
       "      <th>Work_Experience</th>\n",
       "      <th>Spending_Score</th>\n",
       "      <th>Family_Size</th>\n",
       "      <th>Var_1</th>\n",
       "      <th>Segmentation</th>\n",
       "    </tr>\n",
       "  </thead>\n",
       "  <tbody>\n",
       "    <tr>\n",
       "      <th>0</th>\n",
       "      <td>462809</td>\n",
       "      <td>Male</td>\n",
       "      <td>No</td>\n",
       "      <td>22</td>\n",
       "      <td>No</td>\n",
       "      <td>Healthcare</td>\n",
       "      <td>1.0</td>\n",
       "      <td>Low</td>\n",
       "      <td>4.0</td>\n",
       "      <td>Cat_4</td>\n",
       "      <td>D</td>\n",
       "    </tr>\n",
       "    <tr>\n",
       "      <th>1</th>\n",
       "      <td>462643</td>\n",
       "      <td>Female</td>\n",
       "      <td>Yes</td>\n",
       "      <td>38</td>\n",
       "      <td>Yes</td>\n",
       "      <td>Engineer</td>\n",
       "      <td>NaN</td>\n",
       "      <td>Average</td>\n",
       "      <td>3.0</td>\n",
       "      <td>Cat_4</td>\n",
       "      <td>A</td>\n",
       "    </tr>\n",
       "    <tr>\n",
       "      <th>2</th>\n",
       "      <td>466315</td>\n",
       "      <td>Female</td>\n",
       "      <td>Yes</td>\n",
       "      <td>67</td>\n",
       "      <td>Yes</td>\n",
       "      <td>Engineer</td>\n",
       "      <td>1.0</td>\n",
       "      <td>Low</td>\n",
       "      <td>1.0</td>\n",
       "      <td>Cat_6</td>\n",
       "      <td>B</td>\n",
       "    </tr>\n",
       "    <tr>\n",
       "      <th>3</th>\n",
       "      <td>461735</td>\n",
       "      <td>Male</td>\n",
       "      <td>Yes</td>\n",
       "      <td>67</td>\n",
       "      <td>Yes</td>\n",
       "      <td>Lawyer</td>\n",
       "      <td>0.0</td>\n",
       "      <td>High</td>\n",
       "      <td>2.0</td>\n",
       "      <td>Cat_6</td>\n",
       "      <td>B</td>\n",
       "    </tr>\n",
       "    <tr>\n",
       "      <th>4</th>\n",
       "      <td>462669</td>\n",
       "      <td>Female</td>\n",
       "      <td>Yes</td>\n",
       "      <td>40</td>\n",
       "      <td>Yes</td>\n",
       "      <td>Entertainment</td>\n",
       "      <td>NaN</td>\n",
       "      <td>High</td>\n",
       "      <td>6.0</td>\n",
       "      <td>Cat_6</td>\n",
       "      <td>A</td>\n",
       "    </tr>\n",
       "  </tbody>\n",
       "</table>\n",
       "</div>"
      ],
      "text/plain": [
       "       ID  Gender Ever_Married  Age Graduated     Profession  Work_Experience  \\\n",
       "0  462809    Male           No   22        No     Healthcare              1.0   \n",
       "1  462643  Female          Yes   38       Yes       Engineer              NaN   \n",
       "2  466315  Female          Yes   67       Yes       Engineer              1.0   \n",
       "3  461735    Male          Yes   67       Yes         Lawyer              0.0   \n",
       "4  462669  Female          Yes   40       Yes  Entertainment              NaN   \n",
       "\n",
       "  Spending_Score  Family_Size  Var_1 Segmentation  \n",
       "0            Low          4.0  Cat_4            D  \n",
       "1        Average          3.0  Cat_4            A  \n",
       "2            Low          1.0  Cat_6            B  \n",
       "3           High          2.0  Cat_6            B  \n",
       "4           High          6.0  Cat_6            A  "
      ]
     },
     "execution_count": 2,
     "metadata": {},
     "output_type": "execute_result"
    }
   ],
   "source": [
    "customer_segment_train = pd.read_csv('Customer_segmentation_train.csv')\n",
    "customer_segment_train.head()"
   ]
  },
  {
   "cell_type": "code",
   "execution_count": 3,
   "id": "0681c975",
   "metadata": {},
   "outputs": [
    {
     "data": {
      "text/html": [
       "<div>\n",
       "<style scoped>\n",
       "    .dataframe tbody tr th:only-of-type {\n",
       "        vertical-align: middle;\n",
       "    }\n",
       "\n",
       "    .dataframe tbody tr th {\n",
       "        vertical-align: top;\n",
       "    }\n",
       "\n",
       "    .dataframe thead th {\n",
       "        text-align: right;\n",
       "    }\n",
       "</style>\n",
       "<table border=\"1\" class=\"dataframe\">\n",
       "  <thead>\n",
       "    <tr style=\"text-align: right;\">\n",
       "      <th></th>\n",
       "      <th>ID</th>\n",
       "      <th>Gender</th>\n",
       "      <th>Ever_Married</th>\n",
       "      <th>Age</th>\n",
       "      <th>Graduated</th>\n",
       "      <th>Profession</th>\n",
       "      <th>Work_Experience</th>\n",
       "      <th>Spending_Score</th>\n",
       "      <th>Family_Size</th>\n",
       "      <th>Var_1</th>\n",
       "    </tr>\n",
       "  </thead>\n",
       "  <tbody>\n",
       "    <tr>\n",
       "      <th>0</th>\n",
       "      <td>458989</td>\n",
       "      <td>Female</td>\n",
       "      <td>Yes</td>\n",
       "      <td>36</td>\n",
       "      <td>Yes</td>\n",
       "      <td>Engineer</td>\n",
       "      <td>0.0</td>\n",
       "      <td>Low</td>\n",
       "      <td>1.0</td>\n",
       "      <td>Cat_6</td>\n",
       "    </tr>\n",
       "    <tr>\n",
       "      <th>1</th>\n",
       "      <td>458994</td>\n",
       "      <td>Male</td>\n",
       "      <td>Yes</td>\n",
       "      <td>37</td>\n",
       "      <td>Yes</td>\n",
       "      <td>Healthcare</td>\n",
       "      <td>8.0</td>\n",
       "      <td>Average</td>\n",
       "      <td>4.0</td>\n",
       "      <td>Cat_6</td>\n",
       "    </tr>\n",
       "    <tr>\n",
       "      <th>2</th>\n",
       "      <td>458996</td>\n",
       "      <td>Female</td>\n",
       "      <td>Yes</td>\n",
       "      <td>69</td>\n",
       "      <td>No</td>\n",
       "      <td>NaN</td>\n",
       "      <td>0.0</td>\n",
       "      <td>Low</td>\n",
       "      <td>1.0</td>\n",
       "      <td>Cat_6</td>\n",
       "    </tr>\n",
       "    <tr>\n",
       "      <th>3</th>\n",
       "      <td>459000</td>\n",
       "      <td>Male</td>\n",
       "      <td>Yes</td>\n",
       "      <td>59</td>\n",
       "      <td>No</td>\n",
       "      <td>Executive</td>\n",
       "      <td>11.0</td>\n",
       "      <td>High</td>\n",
       "      <td>2.0</td>\n",
       "      <td>Cat_6</td>\n",
       "    </tr>\n",
       "    <tr>\n",
       "      <th>4</th>\n",
       "      <td>459001</td>\n",
       "      <td>Female</td>\n",
       "      <td>No</td>\n",
       "      <td>19</td>\n",
       "      <td>No</td>\n",
       "      <td>Marketing</td>\n",
       "      <td>NaN</td>\n",
       "      <td>Low</td>\n",
       "      <td>4.0</td>\n",
       "      <td>Cat_6</td>\n",
       "    </tr>\n",
       "  </tbody>\n",
       "</table>\n",
       "</div>"
      ],
      "text/plain": [
       "       ID  Gender Ever_Married  Age Graduated  Profession  Work_Experience  \\\n",
       "0  458989  Female          Yes   36       Yes    Engineer              0.0   \n",
       "1  458994    Male          Yes   37       Yes  Healthcare              8.0   \n",
       "2  458996  Female          Yes   69        No         NaN              0.0   \n",
       "3  459000    Male          Yes   59        No   Executive             11.0   \n",
       "4  459001  Female           No   19        No   Marketing              NaN   \n",
       "\n",
       "  Spending_Score  Family_Size  Var_1  \n",
       "0            Low          1.0  Cat_6  \n",
       "1        Average          4.0  Cat_6  \n",
       "2            Low          1.0  Cat_6  \n",
       "3           High          2.0  Cat_6  \n",
       "4            Low          4.0  Cat_6  "
      ]
     },
     "execution_count": 3,
     "metadata": {},
     "output_type": "execute_result"
    }
   ],
   "source": [
    "customer_segment_test = pd.read_csv('Customer_segmentation_test.csv')\n",
    "customer_segment_test.head()"
   ]
  },
  {
   "cell_type": "code",
   "execution_count": 4,
   "id": "54e08683",
   "metadata": {},
   "outputs": [
    {
     "name": "stdout",
     "output_type": "stream",
     "text": [
      "<class 'pandas.core.frame.DataFrame'>\n",
      "RangeIndex: 8068 entries, 0 to 8067\n",
      "Data columns (total 11 columns):\n",
      " #   Column           Non-Null Count  Dtype  \n",
      "---  ------           --------------  -----  \n",
      " 0   ID               8068 non-null   int64  \n",
      " 1   Gender           8068 non-null   object \n",
      " 2   Ever_Married     7928 non-null   object \n",
      " 3   Age              8068 non-null   int64  \n",
      " 4   Graduated        7990 non-null   object \n",
      " 5   Profession       7944 non-null   object \n",
      " 6   Work_Experience  7239 non-null   float64\n",
      " 7   Spending_Score   8068 non-null   object \n",
      " 8   Family_Size      7733 non-null   float64\n",
      " 9   Var_1            7992 non-null   object \n",
      " 10  Segmentation     8068 non-null   object \n",
      "dtypes: float64(2), int64(2), object(7)\n",
      "memory usage: 693.5+ KB\n"
     ]
    }
   ],
   "source": [
    "customer_segment_train.info()"
   ]
  },
  {
   "cell_type": "code",
   "execution_count": 5,
   "id": "78aa1881",
   "metadata": {},
   "outputs": [
    {
     "data": {
      "text/plain": [
       "ID                   0\n",
       "Gender               0\n",
       "Ever_Married       140\n",
       "Age                  0\n",
       "Graduated           78\n",
       "Profession         124\n",
       "Work_Experience    829\n",
       "Spending_Score       0\n",
       "Family_Size        335\n",
       "Var_1               76\n",
       "Segmentation         0\n",
       "dtype: int64"
      ]
     },
     "execution_count": 5,
     "metadata": {},
     "output_type": "execute_result"
    }
   ],
   "source": [
    "customer_segment_train.isna().sum(axis=0)"
   ]
  },
  {
   "cell_type": "code",
   "execution_count": 6,
   "id": "3fd5a7e1",
   "metadata": {},
   "outputs": [
    {
     "data": {
      "text/plain": [
       "ID                 0.000000\n",
       "Gender             0.000000\n",
       "Ever_Married       0.017353\n",
       "Age                0.000000\n",
       "Graduated          0.009668\n",
       "Profession         0.015369\n",
       "Work_Experience    0.102752\n",
       "Spending_Score     0.000000\n",
       "Family_Size        0.041522\n",
       "Var_1              0.009420\n",
       "Segmentation       0.000000\n",
       "dtype: float64"
      ]
     },
     "execution_count": 6,
     "metadata": {},
     "output_type": "execute_result"
    }
   ],
   "source": [
    "customer_segment_train.isna().sum(axis=0)/len(customer_segment_train['ID'])"
   ]
  },
  {
   "cell_type": "code",
   "execution_count": null,
   "id": "28cfe036",
   "metadata": {},
   "outputs": [],
   "source": [
    "# customer_segment_train[customer_segment_train['Ever_Married'].isna()==True]"
   ]
  },
  {
   "cell_type": "code",
   "execution_count": null,
   "id": "72636b5d",
   "metadata": {},
   "outputs": [],
   "source": [
    "# customer_segment_train[customer_segment_train['Graduated'].isna()==True]"
   ]
  },
  {
   "cell_type": "code",
   "execution_count": null,
   "id": "34a6803b",
   "metadata": {},
   "outputs": [],
   "source": [
    "# customer_segment_train[customer_segment_train['Profession'].isna()==True]"
   ]
  },
  {
   "cell_type": "code",
   "execution_count": null,
   "id": "6828f4ee",
   "metadata": {},
   "outputs": [],
   "source": [
    "# customer_segment_train[customer_segment_train['Work_Experience'].isna()==True]"
   ]
  },
  {
   "cell_type": "code",
   "execution_count": null,
   "id": "ea492f01",
   "metadata": {},
   "outputs": [],
   "source": [
    "# customer_segment_train[customer_segment_train['Family_Size'].isna()==True]"
   ]
  },
  {
   "cell_type": "code",
   "execution_count": null,
   "id": "13463925",
   "metadata": {},
   "outputs": [],
   "source": [
    "# customer_segment_train[customer_segment_train['Var_1'].isna()==True]"
   ]
  },
  {
   "cell_type": "code",
   "execution_count": 7,
   "id": "2cdf2489",
   "metadata": {},
   "outputs": [
    {
     "data": {
      "text/plain": [
       "<AxesSubplot:xlabel='Family_Size', ylabel='count'>"
      ]
     },
     "execution_count": 7,
     "metadata": {},
     "output_type": "execute_result"
    },
    {
     "data": {
      "image/png": "[encoded data removed]",
      "text/plain": [
       "<Figure size 432x288 with 1 Axes>"
      ]
     },
     "metadata": {
      "needs_background": "light"
     },
     "output_type": "display_data"
    }
   ],
   "source": [
    "sns.countplot(data = customer_segment_train,x = 'Family_Size', hue = 'Segmentation')"
   ]
  },
  {
   "cell_type": "code",
   "execution_count": 8,
   "id": "8418a148",
   "metadata": {},
   "outputs": [
    {
     "data": {
      "text/plain": [
       "<AxesSubplot:xlabel='Family_Size', ylabel='count'>"
      ]
     },
     "execution_count": 8,
     "metadata": {},
     "output_type": "execute_result"
    },
    {
     "data": {
      "image/png": "[encoded data removed]",
      "text/plain": [
       "<Figure size 432x288 with 1 Axes>"
      ]
     },
     "metadata": {
      "needs_background": "light"
     },
     "output_type": "display_data"
    }
   ],
   "source": [
    "sns.countplot(data = customer_segment_train,x = 'Family_Size', hue = 'Ever_Married')"
   ]
  },
  {
   "cell_type": "code",
   "execution_count": 9,
   "id": "4508aafd",
   "metadata": {},
   "outputs": [
    {
     "data": {
      "image/png": "[encoded data removed]",
      "text/plain": [
       "<Figure size 432x288 with 1 Axes>"
      ]
     },
     "metadata": {
      "needs_background": "light"
     },
     "output_type": "display_data"
    }
   ],
   "source": [
    "sns.kdeplot(data = customer_segment_train,x = 'Age', hue = 'Ever_Married')\n",
    "plt.xticks(np.arange(0,100,5));"
   ]
  },
  {
   "cell_type": "code",
   "execution_count": 10,
   "id": "4731b3f3",
   "metadata": {},
   "outputs": [],
   "source": [
    "# customer_segment_train[(customer_segment_train['Ever_Married']=='Yes')& (customer_segment_train['Age']>=40 )]"
   ]
  },
  {
   "cell_type": "code",
   "execution_count": null,
   "id": "b2534e7e",
   "metadata": {},
   "outputs": [],
   "source": [
    "230/1647 # 28"
   ]
  },
  {
   "cell_type": "code",
   "execution_count": null,
   "id": "fb911cf9",
   "metadata": {
    "scrolled": true
   },
   "outputs": [],
   "source": [
    "325/2026 # 30"
   ]
  },
  {
   "cell_type": "code",
   "execution_count": null,
   "id": "beb0cf74",
   "metadata": {},
   "outputs": [],
   "source": [
    "274/1830 #29"
   ]
  },
  {
   "cell_type": "code",
   "execution_count": null,
   "id": "38b66d6b",
   "metadata": {},
   "outputs": [],
   "source": [
    "73/998 # 25"
   ]
  },
  {
   "cell_type": "code",
   "execution_count": 10,
   "id": "549722c5",
   "metadata": {},
   "outputs": [
    {
     "data": {
      "text/plain": [
       "27"
      ]
     },
     "execution_count": 10,
     "metadata": {},
     "output_type": "execute_result"
    }
   ],
   "source": [
    "len(customer_segment_train[(customer_segment_train['Age']>30)&(customer_segment_train['Age']<40)&(customer_segment_train['Ever_Married'].isna()==True)]['ID'])"
   ]
  },
  {
   "cell_type": "code",
   "execution_count": null,
   "id": "d3f71253",
   "metadata": {},
   "outputs": [],
   "source": [
    "# I am going to put all ages <=30 as not married, >=40as married and drop 30<age<40(27 entries)"
   ]
  },
  {
   "cell_type": "code",
   "execution_count": 10,
   "id": "e541525c",
   "metadata": {},
   "outputs": [
    {
     "data": {
      "image/png": "[encoded data removed]",
      "text/plain": [
       "<Figure size 432x288 with 1 Axes>"
      ]
     },
     "metadata": {
      "needs_background": "light"
     },
     "output_type": "display_data"
    }
   ],
   "source": [
    "sns.kdeplot(data = customer_segment_train,x = 'Age', hue = 'Graduated')\n",
    "plt.xticks(np.arange(0,100,5));"
   ]
  },
  {
   "cell_type": "code",
   "execution_count": null,
   "id": "1f63b101",
   "metadata": {},
   "outputs": [],
   "source": [
    "# <=25 most probably not graduated, >=35 graduated and 25<age<35=>drop(11)\n"
   ]
  },
  {
   "cell_type": "code",
   "execution_count": 11,
   "id": "ec46cc53",
   "metadata": {},
   "outputs": [
    {
     "data": {
      "text/html": [
       "<div>\n",
       "<style scoped>\n",
       "    .dataframe tbody tr th:only-of-type {\n",
       "        vertical-align: middle;\n",
       "    }\n",
       "\n",
       "    .dataframe tbody tr th {\n",
       "        vertical-align: top;\n",
       "    }\n",
       "\n",
       "    .dataframe thead th {\n",
       "        text-align: right;\n",
       "    }\n",
       "</style>\n",
       "<table border=\"1\" class=\"dataframe\">\n",
       "  <thead>\n",
       "    <tr style=\"text-align: right;\">\n",
       "      <th></th>\n",
       "      <th>ID</th>\n",
       "      <th>Gender</th>\n",
       "      <th>Ever_Married</th>\n",
       "      <th>Age</th>\n",
       "      <th>Graduated</th>\n",
       "      <th>Profession</th>\n",
       "      <th>Work_Experience</th>\n",
       "      <th>Spending_Score</th>\n",
       "      <th>Family_Size</th>\n",
       "      <th>Var_1</th>\n",
       "      <th>Segmentation</th>\n",
       "    </tr>\n",
       "  </thead>\n",
       "  <tbody>\n",
       "    <tr>\n",
       "      <th>5</th>\n",
       "      <td>461319</td>\n",
       "      <td>Male</td>\n",
       "      <td>Yes</td>\n",
       "      <td>56</td>\n",
       "      <td>No</td>\n",
       "      <td>Artist</td>\n",
       "      <td>0.0</td>\n",
       "      <td>Average</td>\n",
       "      <td>2.0</td>\n",
       "      <td>Cat_6</td>\n",
       "      <td>C</td>\n",
       "    </tr>\n",
       "    <tr>\n",
       "      <th>13</th>\n",
       "      <td>459573</td>\n",
       "      <td>Male</td>\n",
       "      <td>Yes</td>\n",
       "      <td>70</td>\n",
       "      <td>No</td>\n",
       "      <td>Lawyer</td>\n",
       "      <td>NaN</td>\n",
       "      <td>Low</td>\n",
       "      <td>1.0</td>\n",
       "      <td>Cat_6</td>\n",
       "      <td>A</td>\n",
       "    </tr>\n",
       "    <tr>\n",
       "      <th>14</th>\n",
       "      <td>460849</td>\n",
       "      <td>Female</td>\n",
       "      <td>Yes</td>\n",
       "      <td>58</td>\n",
       "      <td>No</td>\n",
       "      <td>Doctor</td>\n",
       "      <td>0.0</td>\n",
       "      <td>Low</td>\n",
       "      <td>1.0</td>\n",
       "      <td>Cat_3</td>\n",
       "      <td>B</td>\n",
       "    </tr>\n",
       "    <tr>\n",
       "      <th>15</th>\n",
       "      <td>460563</td>\n",
       "      <td>Female</td>\n",
       "      <td>No</td>\n",
       "      <td>41</td>\n",
       "      <td>No</td>\n",
       "      <td>Healthcare</td>\n",
       "      <td>1.0</td>\n",
       "      <td>Low</td>\n",
       "      <td>2.0</td>\n",
       "      <td>Cat_1</td>\n",
       "      <td>C</td>\n",
       "    </tr>\n",
       "    <tr>\n",
       "      <th>24</th>\n",
       "      <td>461021</td>\n",
       "      <td>Female</td>\n",
       "      <td>NaN</td>\n",
       "      <td>58</td>\n",
       "      <td>No</td>\n",
       "      <td>Executive</td>\n",
       "      <td>1.0</td>\n",
       "      <td>Average</td>\n",
       "      <td>3.0</td>\n",
       "      <td>Cat_3</td>\n",
       "      <td>B</td>\n",
       "    </tr>\n",
       "    <tr>\n",
       "      <th>...</th>\n",
       "      <td>...</td>\n",
       "      <td>...</td>\n",
       "      <td>...</td>\n",
       "      <td>...</td>\n",
       "      <td>...</td>\n",
       "      <td>...</td>\n",
       "      <td>...</td>\n",
       "      <td>...</td>\n",
       "      <td>...</td>\n",
       "      <td>...</td>\n",
       "      <td>...</td>\n",
       "    </tr>\n",
       "    <tr>\n",
       "      <th>8049</th>\n",
       "      <td>461292</td>\n",
       "      <td>Female</td>\n",
       "      <td>Yes</td>\n",
       "      <td>81</td>\n",
       "      <td>No</td>\n",
       "      <td>Lawyer</td>\n",
       "      <td>NaN</td>\n",
       "      <td>High</td>\n",
       "      <td>2.0</td>\n",
       "      <td>Cat_3</td>\n",
       "      <td>D</td>\n",
       "    </tr>\n",
       "    <tr>\n",
       "      <th>8051</th>\n",
       "      <td>464853</td>\n",
       "      <td>Male</td>\n",
       "      <td>Yes</td>\n",
       "      <td>39</td>\n",
       "      <td>No</td>\n",
       "      <td>Executive</td>\n",
       "      <td>8.0</td>\n",
       "      <td>Average</td>\n",
       "      <td>4.0</td>\n",
       "      <td>Cat_4</td>\n",
       "      <td>A</td>\n",
       "    </tr>\n",
       "    <tr>\n",
       "      <th>8057</th>\n",
       "      <td>466460</td>\n",
       "      <td>Male</td>\n",
       "      <td>Yes</td>\n",
       "      <td>85</td>\n",
       "      <td>No</td>\n",
       "      <td>Lawyer</td>\n",
       "      <td>1.0</td>\n",
       "      <td>Low</td>\n",
       "      <td>1.0</td>\n",
       "      <td>Cat_6</td>\n",
       "      <td>D</td>\n",
       "    </tr>\n",
       "    <tr>\n",
       "      <th>8061</th>\n",
       "      <td>465231</td>\n",
       "      <td>Male</td>\n",
       "      <td>Yes</td>\n",
       "      <td>65</td>\n",
       "      <td>No</td>\n",
       "      <td>Artist</td>\n",
       "      <td>0.0</td>\n",
       "      <td>Average</td>\n",
       "      <td>2.0</td>\n",
       "      <td>Cat_6</td>\n",
       "      <td>C</td>\n",
       "    </tr>\n",
       "    <tr>\n",
       "      <th>8064</th>\n",
       "      <td>464685</td>\n",
       "      <td>Male</td>\n",
       "      <td>No</td>\n",
       "      <td>35</td>\n",
       "      <td>No</td>\n",
       "      <td>Executive</td>\n",
       "      <td>3.0</td>\n",
       "      <td>Low</td>\n",
       "      <td>4.0</td>\n",
       "      <td>Cat_4</td>\n",
       "      <td>D</td>\n",
       "    </tr>\n",
       "  </tbody>\n",
       "</table>\n",
       "<p>1360 rows × 11 columns</p>\n",
       "</div>"
      ],
      "text/plain": [
       "          ID  Gender Ever_Married  Age Graduated  Profession  Work_Experience  \\\n",
       "5     461319    Male          Yes   56        No      Artist              0.0   \n",
       "13    459573    Male          Yes   70        No      Lawyer              NaN   \n",
       "14    460849  Female          Yes   58        No      Doctor              0.0   \n",
       "15    460563  Female           No   41        No  Healthcare              1.0   \n",
       "24    461021  Female          NaN   58        No   Executive              1.0   \n",
       "...      ...     ...          ...  ...       ...         ...              ...   \n",
       "8049  461292  Female          Yes   81        No      Lawyer              NaN   \n",
       "8051  464853    Male          Yes   39        No   Executive              8.0   \n",
       "8057  466460    Male          Yes   85        No      Lawyer              1.0   \n",
       "8061  465231    Male          Yes   65        No      Artist              0.0   \n",
       "8064  464685    Male           No   35        No   Executive              3.0   \n",
       "\n",
       "     Spending_Score  Family_Size  Var_1 Segmentation  \n",
       "5           Average          2.0  Cat_6            C  \n",
       "13              Low          1.0  Cat_6            A  \n",
       "14              Low          1.0  Cat_3            B  \n",
       "15              Low          2.0  Cat_1            C  \n",
       "24          Average          3.0  Cat_3            B  \n",
       "...             ...          ...    ...          ...  \n",
       "8049           High          2.0  Cat_3            D  \n",
       "8051        Average          4.0  Cat_4            A  \n",
       "8057            Low          1.0  Cat_6            D  \n",
       "8061        Average          2.0  Cat_6            C  \n",
       "8064            Low          4.0  Cat_4            D  \n",
       "\n",
       "[1360 rows x 11 columns]"
      ]
     },
     "execution_count": 11,
     "metadata": {},
     "output_type": "execute_result"
    }
   ],
   "source": [
    "customer_segment_train[(customer_segment_train['Graduated']=='No')&(customer_segment_train['Age']>=35 )]"
   ]
  },
  {
   "cell_type": "code",
   "execution_count": 13,
   "id": "0b31627c",
   "metadata": {},
   "outputs": [
    {
     "data": {
      "text/plain": [
       "11"
      ]
     },
     "execution_count": 13,
     "metadata": {},
     "output_type": "execute_result"
    }
   ],
   "source": [
    "len(customer_segment_train[(customer_segment_train['Age']>25)&(customer_segment_train['Age']<35)&(customer_segment_train['Graduated'].isna()==True)]['ID'])"
   ]
  },
  {
   "cell_type": "code",
   "execution_count": null,
   "id": "0e4bf2ca",
   "metadata": {},
   "outputs": [],
   "source": []
  },
  {
   "cell_type": "code",
   "execution_count": 12,
   "id": "91e1e932",
   "metadata": {},
   "outputs": [
    {
     "data": {
      "text/plain": [
       "array(['Healthcare', 'Engineer', 'Lawyer', 'Entertainment', 'Artist',\n",
       "       'Executive', 'Doctor', 'Homemaker', 'Marketing', nan], dtype=object)"
      ]
     },
     "execution_count": 12,
     "metadata": {},
     "output_type": "execute_result"
    }
   ],
   "source": [
    "customer_segment_train['Profession'].unique()"
   ]
  },
  {
   "cell_type": "code",
   "execution_count": 13,
   "id": "5f96866a",
   "metadata": {},
   "outputs": [
    {
     "data": {
      "text/html": [
       "<div>\n",
       "<style scoped>\n",
       "    .dataframe tbody tr th:only-of-type {\n",
       "        vertical-align: middle;\n",
       "    }\n",
       "\n",
       "    .dataframe tbody tr th {\n",
       "        vertical-align: top;\n",
       "    }\n",
       "\n",
       "    .dataframe thead th {\n",
       "        text-align: right;\n",
       "    }\n",
       "</style>\n",
       "<table border=\"1\" class=\"dataframe\">\n",
       "  <thead>\n",
       "    <tr style=\"text-align: right;\">\n",
       "      <th></th>\n",
       "      <th>ID</th>\n",
       "      <th>Gender</th>\n",
       "      <th>Ever_Married</th>\n",
       "      <th>Age</th>\n",
       "      <th>Graduated</th>\n",
       "      <th>Profession</th>\n",
       "      <th>Work_Experience</th>\n",
       "      <th>Spending_Score</th>\n",
       "      <th>Family_Size</th>\n",
       "      <th>Var_1</th>\n",
       "      <th>Segmentation</th>\n",
       "    </tr>\n",
       "  </thead>\n",
       "  <tbody>\n",
       "    <tr>\n",
       "      <th>118</th>\n",
       "      <td>465827</td>\n",
       "      <td>Male</td>\n",
       "      <td>No</td>\n",
       "      <td>27</td>\n",
       "      <td>No</td>\n",
       "      <td>NaN</td>\n",
       "      <td>2.0</td>\n",
       "      <td>Low</td>\n",
       "      <td>7.0</td>\n",
       "      <td>Cat_4</td>\n",
       "      <td>D</td>\n",
       "    </tr>\n",
       "    <tr>\n",
       "      <th>437</th>\n",
       "      <td>461410</td>\n",
       "      <td>Male</td>\n",
       "      <td>Yes</td>\n",
       "      <td>79</td>\n",
       "      <td>No</td>\n",
       "      <td>NaN</td>\n",
       "      <td>0.0</td>\n",
       "      <td>Average</td>\n",
       "      <td>2.0</td>\n",
       "      <td>NaN</td>\n",
       "      <td>C</td>\n",
       "    </tr>\n",
       "    <tr>\n",
       "      <th>440</th>\n",
       "      <td>460532</td>\n",
       "      <td>Female</td>\n",
       "      <td>No</td>\n",
       "      <td>18</td>\n",
       "      <td>No</td>\n",
       "      <td>NaN</td>\n",
       "      <td>0.0</td>\n",
       "      <td>Low</td>\n",
       "      <td>6.0</td>\n",
       "      <td>Cat_6</td>\n",
       "      <td>D</td>\n",
       "    </tr>\n",
       "    <tr>\n",
       "      <th>498</th>\n",
       "      <td>459656</td>\n",
       "      <td>Male</td>\n",
       "      <td>No</td>\n",
       "      <td>22</td>\n",
       "      <td>No</td>\n",
       "      <td>NaN</td>\n",
       "      <td>NaN</td>\n",
       "      <td>Low</td>\n",
       "      <td>6.0</td>\n",
       "      <td>Cat_1</td>\n",
       "      <td>D</td>\n",
       "    </tr>\n",
       "    <tr>\n",
       "      <th>545</th>\n",
       "      <td>466009</td>\n",
       "      <td>Female</td>\n",
       "      <td>No</td>\n",
       "      <td>32</td>\n",
       "      <td>No</td>\n",
       "      <td>NaN</td>\n",
       "      <td>10.0</td>\n",
       "      <td>Low</td>\n",
       "      <td>5.0</td>\n",
       "      <td>Cat_6</td>\n",
       "      <td>C</td>\n",
       "    </tr>\n",
       "    <tr>\n",
       "      <th>...</th>\n",
       "      <td>...</td>\n",
       "      <td>...</td>\n",
       "      <td>...</td>\n",
       "      <td>...</td>\n",
       "      <td>...</td>\n",
       "      <td>...</td>\n",
       "      <td>...</td>\n",
       "      <td>...</td>\n",
       "      <td>...</td>\n",
       "      <td>...</td>\n",
       "      <td>...</td>\n",
       "    </tr>\n",
       "    <tr>\n",
       "      <th>7717</th>\n",
       "      <td>462628</td>\n",
       "      <td>Female</td>\n",
       "      <td>Yes</td>\n",
       "      <td>28</td>\n",
       "      <td>No</td>\n",
       "      <td>NaN</td>\n",
       "      <td>NaN</td>\n",
       "      <td>Average</td>\n",
       "      <td>3.0</td>\n",
       "      <td>Cat_4</td>\n",
       "      <td>D</td>\n",
       "    </tr>\n",
       "    <tr>\n",
       "      <th>7870</th>\n",
       "      <td>462301</td>\n",
       "      <td>Female</td>\n",
       "      <td>No</td>\n",
       "      <td>27</td>\n",
       "      <td>No</td>\n",
       "      <td>NaN</td>\n",
       "      <td>12.0</td>\n",
       "      <td>Low</td>\n",
       "      <td>3.0</td>\n",
       "      <td>Cat_6</td>\n",
       "      <td>D</td>\n",
       "    </tr>\n",
       "    <tr>\n",
       "      <th>7899</th>\n",
       "      <td>464548</td>\n",
       "      <td>Female</td>\n",
       "      <td>Yes</td>\n",
       "      <td>47</td>\n",
       "      <td>No</td>\n",
       "      <td>NaN</td>\n",
       "      <td>1.0</td>\n",
       "      <td>Low</td>\n",
       "      <td>1.0</td>\n",
       "      <td>Cat_4</td>\n",
       "      <td>A</td>\n",
       "    </tr>\n",
       "    <tr>\n",
       "      <th>7935</th>\n",
       "      <td>464977</td>\n",
       "      <td>Female</td>\n",
       "      <td>Yes</td>\n",
       "      <td>66</td>\n",
       "      <td>No</td>\n",
       "      <td>NaN</td>\n",
       "      <td>1.0</td>\n",
       "      <td>Average</td>\n",
       "      <td>2.0</td>\n",
       "      <td>Cat_4</td>\n",
       "      <td>B</td>\n",
       "    </tr>\n",
       "    <tr>\n",
       "      <th>8063</th>\n",
       "      <td>464018</td>\n",
       "      <td>Male</td>\n",
       "      <td>No</td>\n",
       "      <td>22</td>\n",
       "      <td>No</td>\n",
       "      <td>NaN</td>\n",
       "      <td>0.0</td>\n",
       "      <td>Low</td>\n",
       "      <td>7.0</td>\n",
       "      <td>Cat_1</td>\n",
       "      <td>D</td>\n",
       "    </tr>\n",
       "  </tbody>\n",
       "</table>\n",
       "<p>64 rows × 11 columns</p>\n",
       "</div>"
      ],
      "text/plain": [
       "          ID  Gender Ever_Married  Age Graduated Profession  Work_Experience  \\\n",
       "118   465827    Male           No   27        No        NaN              2.0   \n",
       "437   461410    Male          Yes   79        No        NaN              0.0   \n",
       "440   460532  Female           No   18        No        NaN              0.0   \n",
       "498   459656    Male           No   22        No        NaN              NaN   \n",
       "545   466009  Female           No   32        No        NaN             10.0   \n",
       "...      ...     ...          ...  ...       ...        ...              ...   \n",
       "7717  462628  Female          Yes   28        No        NaN              NaN   \n",
       "7870  462301  Female           No   27        No        NaN             12.0   \n",
       "7899  464548  Female          Yes   47        No        NaN              1.0   \n",
       "7935  464977  Female          Yes   66        No        NaN              1.0   \n",
       "8063  464018    Male           No   22        No        NaN              0.0   \n",
       "\n",
       "     Spending_Score  Family_Size  Var_1 Segmentation  \n",
       "118             Low          7.0  Cat_4            D  \n",
       "437         Average          2.0    NaN            C  \n",
       "440             Low          6.0  Cat_6            D  \n",
       "498             Low          6.0  Cat_1            D  \n",
       "545             Low          5.0  Cat_6            C  \n",
       "...             ...          ...    ...          ...  \n",
       "7717        Average          3.0  Cat_4            D  \n",
       "7870            Low          3.0  Cat_6            D  \n",
       "7899            Low          1.0  Cat_4            A  \n",
       "7935        Average          2.0  Cat_4            B  \n",
       "8063            Low          7.0  Cat_1            D  \n",
       "\n",
       "[64 rows x 11 columns]"
      ]
     },
     "execution_count": 13,
     "metadata": {},
     "output_type": "execute_result"
    }
   ],
   "source": [
    "customer_segment_train[(customer_segment_train['Profession'].isna()==True) & (customer_segment_train['Graduated']=='No')]"
   ]
  },
  {
   "cell_type": "code",
   "execution_count": 14,
   "id": "a3d4676e",
   "metadata": {},
   "outputs": [
    {
     "data": {
      "text/plain": [
       "<AxesSubplot:xlabel='Age', ylabel='Work_Experience'>"
      ]
     },
     "execution_count": 14,
     "metadata": {},
     "output_type": "execute_result"
    },
    {
     "data": {
      "image/png": "[encoded data removed]",
      "text/plain": [
       "<Figure size 432x288 with 1 Axes>"
      ]
     },
     "metadata": {
      "needs_background": "light"
     },
     "output_type": "display_data"
    }
   ],
   "source": [
    "sns.scatterplot(data = customer_segment_train,  x= 'Age', y='Work_Experience',alpha=0.3)"
   ]
  },
  {
   "cell_type": "code",
   "execution_count": 18,
   "id": "bb81af70",
   "metadata": {},
   "outputs": [],
   "source": [
    "# Delete var_1 missing values, Delete Family size missing values, Put missing values of Profession as none, Delete Work Experience missing values"
   ]
  },
  {
   "cell_type": "code",
   "execution_count": 15,
   "id": "152e8c11",
   "metadata": {},
   "outputs": [],
   "source": [
    "Modified_train = customer_segment_train.dropna(axis=0,subset=['Var_1','Work_Experience','Family_Size'])"
   ]
  },
  {
   "cell_type": "code",
   "execution_count": 16,
   "id": "079e5519",
   "metadata": {},
   "outputs": [
    {
     "name": "stdout",
     "output_type": "stream",
     "text": [
      "<class 'pandas.core.frame.DataFrame'>\n",
      "Int64Index: 6913 entries, 0 to 8067\n",
      "Data columns (total 11 columns):\n",
      " #   Column           Non-Null Count  Dtype  \n",
      "---  ------           --------------  -----  \n",
      " 0   ID               6913 non-null   int64  \n",
      " 1   Gender           6913 non-null   object \n",
      " 2   Ever_Married     6806 non-null   object \n",
      " 3   Age              6913 non-null   int64  \n",
      " 4   Graduated        6853 non-null   object \n",
      " 5   Profession       6824 non-null   object \n",
      " 6   Work_Experience  6913 non-null   float64\n",
      " 7   Spending_Score   6913 non-null   object \n",
      " 8   Family_Size      6913 non-null   float64\n",
      " 9   Var_1            6913 non-null   object \n",
      " 10  Segmentation     6913 non-null   object \n",
      "dtypes: float64(2), int64(2), object(7)\n",
      "memory usage: 648.1+ KB\n"
     ]
    }
   ],
   "source": [
    "Modified_train.info()"
   ]
  },
  {
   "cell_type": "code",
   "execution_count": 17,
   "id": "83fe3e95",
   "metadata": {},
   "outputs": [
    {
     "name": "stderr",
     "output_type": "stream",
     "text": [
      "C:\\Users\\Admin\\AppData\\Local\\Temp\\ipykernel_16424\\730613302.py:1: SettingWithCopyWarning: \n",
      "A value is trying to be set on a copy of a slice from a DataFrame.\n",
      "Try using .loc[row_indexer,col_indexer] = value instead\n",
      "\n",
      "See the caveats in the documentation: https://pandas.pydata.org/pandas-docs/stable/user_guide/indexing.html#returning-a-view-versus-a-copy\n",
      "  Modified_train['Profession'] = Modified_train['Profession'].fillna('None')\n"
     ]
    }
   ],
   "source": [
    "Modified_train['Profession'] = Modified_train['Profession'].fillna('None')"
   ]
  },
  {
   "cell_type": "code",
   "execution_count": 22,
   "id": "77daf66a",
   "metadata": {},
   "outputs": [
    {
     "name": "stdout",
     "output_type": "stream",
     "text": [
      "<class 'pandas.core.frame.DataFrame'>\n",
      "Int64Index: 6913 entries, 0 to 8067\n",
      "Data columns (total 11 columns):\n",
      " #   Column           Non-Null Count  Dtype  \n",
      "---  ------           --------------  -----  \n",
      " 0   ID               6913 non-null   int64  \n",
      " 1   Gender           6913 non-null   object \n",
      " 2   Ever_Married     6806 non-null   object \n",
      " 3   Age              6913 non-null   int64  \n",
      " 4   Graduated        6853 non-null   object \n",
      " 5   Profession       6913 non-null   object \n",
      " 6   Work_Experience  6913 non-null   float64\n",
      " 7   Spending_Score   6913 non-null   object \n",
      " 8   Family_Size      6913 non-null   float64\n",
      " 9   Var_1            6913 non-null   object \n",
      " 10  Segmentation     6913 non-null   object \n",
      "dtypes: float64(2), int64(2), object(7)\n",
      "memory usage: 648.1+ KB\n"
     ]
    }
   ],
   "source": [
    "# Modified_train.info()"
   ]
  },
  {
   "cell_type": "code",
   "execution_count": 18,
   "id": "69b8034b",
   "metadata": {},
   "outputs": [
    {
     "name": "stderr",
     "output_type": "stream",
     "text": [
      "C:\\Users\\Admin\\AppData\\Local\\Temp\\ipykernel_16424\\1357848846.py:1: SettingWithCopyWarning: \n",
      "A value is trying to be set on a copy of a slice from a DataFrame.\n",
      "Try using .loc[row_indexer,col_indexer] = value instead\n",
      "\n",
      "See the caveats in the documentation: https://pandas.pydata.org/pandas-docs/stable/user_guide/indexing.html#returning-a-view-versus-a-copy\n",
      "  Modified_train[Modified_train['Age']<=30]['Ever_Married'] = Modified_train[Modified_train['Age']<=30]['Ever_Married'].fillna('No')\n"
     ]
    }
   ],
   "source": [
    "Modified_train[Modified_train['Age']<=30]['Ever_Married'] = Modified_train[Modified_train['Age']<=30]['Ever_Married'].fillna('No')"
   ]
  },
  {
   "cell_type": "code",
   "execution_count": 19,
   "id": "8b18633f",
   "metadata": {},
   "outputs": [
    {
     "name": "stderr",
     "output_type": "stream",
     "text": [
      "C:\\Users\\Admin\\AppData\\Local\\Temp\\ipykernel_16424\\395103786.py:1: SettingWithCopyWarning: \n",
      "A value is trying to be set on a copy of a slice from a DataFrame.\n",
      "Try using .loc[row_indexer,col_indexer] = value instead\n",
      "\n",
      "See the caveats in the documentation: https://pandas.pydata.org/pandas-docs/stable/user_guide/indexing.html#returning-a-view-versus-a-copy\n",
      "  Modified_train[Modified_train['Age']>=40]['Ever_Married'] = Modified_train[Modified_train['Age']>=40]['Ever_Married'].fillna('Yes')\n"
     ]
    }
   ],
   "source": [
    "Modified_train[Modified_train['Age']>=40]['Ever_Married'] = Modified_train[Modified_train['Age']>=40]['Ever_Married'].fillna('Yes')"
   ]
  },
  {
   "cell_type": "code",
   "execution_count": 20,
   "id": "b58a8bbc",
   "metadata": {},
   "outputs": [],
   "source": [
    "Modified_train = Modified_train.dropna(axis=0,subset=['Ever_Married'])"
   ]
  },
  {
   "cell_type": "code",
   "execution_count": null,
   "id": "15ca4545",
   "metadata": {},
   "outputs": [],
   "source": [
    "# Modified_train.info()"
   ]
  },
  {
   "cell_type": "code",
   "execution_count": 21,
   "id": "6d760db2",
   "metadata": {},
   "outputs": [
    {
     "name": "stderr",
     "output_type": "stream",
     "text": [
      "C:\\Users\\Admin\\AppData\\Local\\Temp\\ipykernel_16424\\4264010769.py:1: SettingWithCopyWarning: \n",
      "A value is trying to be set on a copy of a slice from a DataFrame.\n",
      "Try using .loc[row_indexer,col_indexer] = value instead\n",
      "\n",
      "See the caveats in the documentation: https://pandas.pydata.org/pandas-docs/stable/user_guide/indexing.html#returning-a-view-versus-a-copy\n",
      "  Modified_train[Modified_train['Age']<=25]['Graduated'] = Modified_train[Modified_train['Age']<=25]['Graduated'].fillna('No')\n"
     ]
    }
   ],
   "source": [
    "Modified_train[Modified_train['Age']<=25]['Graduated'] = Modified_train[Modified_train['Age']<=25]['Graduated'].fillna('No')"
   ]
  },
  {
   "cell_type": "code",
   "execution_count": 22,
   "id": "392f4d55",
   "metadata": {},
   "outputs": [
    {
     "name": "stderr",
     "output_type": "stream",
     "text": [
      "C:\\Users\\Admin\\AppData\\Local\\Temp\\ipykernel_16424\\2017856501.py:1: SettingWithCopyWarning: \n",
      "A value is trying to be set on a copy of a slice from a DataFrame.\n",
      "Try using .loc[row_indexer,col_indexer] = value instead\n",
      "\n",
      "See the caveats in the documentation: https://pandas.pydata.org/pandas-docs/stable/user_guide/indexing.html#returning-a-view-versus-a-copy\n",
      "  Modified_train[Modified_train['Age']>=35]['Graduated'] = Modified_train[Modified_train['Age']>=35]['Graduated'].fillna('Yes')\n"
     ]
    }
   ],
   "source": [
    "Modified_train[Modified_train['Age']>=35]['Graduated'] = Modified_train[Modified_train['Age']>=35]['Graduated'].fillna('Yes')"
   ]
  },
  {
   "cell_type": "code",
   "execution_count": 23,
   "id": "5409438a",
   "metadata": {},
   "outputs": [],
   "source": [
    "Modified_train = Modified_train.dropna(axis=0,subset=['Graduated'])"
   ]
  },
  {
   "cell_type": "code",
   "execution_count": 24,
   "id": "ac0ca864",
   "metadata": {},
   "outputs": [
    {
     "name": "stdout",
     "output_type": "stream",
     "text": [
      "<class 'pandas.core.frame.DataFrame'>\n",
      "Int64Index: 6749 entries, 0 to 8067\n",
      "Data columns (total 11 columns):\n",
      " #   Column           Non-Null Count  Dtype  \n",
      "---  ------           --------------  -----  \n",
      " 0   ID               6749 non-null   int64  \n",
      " 1   Gender           6749 non-null   object \n",
      " 2   Ever_Married     6749 non-null   object \n",
      " 3   Age              6749 non-null   int64  \n",
      " 4   Graduated        6749 non-null   object \n",
      " 5   Profession       6749 non-null   object \n",
      " 6   Work_Experience  6749 non-null   float64\n",
      " 7   Spending_Score   6749 non-null   object \n",
      " 8   Family_Size      6749 non-null   float64\n",
      " 9   Var_1            6749 non-null   object \n",
      " 10  Segmentation     6749 non-null   object \n",
      "dtypes: float64(2), int64(2), object(7)\n",
      "memory usage: 632.7+ KB\n"
     ]
    }
   ],
   "source": [
    "Modified_train.info()"
   ]
  },
  {
   "cell_type": "code",
   "execution_count": null,
   "id": "6021086c",
   "metadata": {},
   "outputs": [],
   "source": []
  },
  {
   "cell_type": "code",
   "execution_count": null,
   "id": "ba350fcc",
   "metadata": {},
   "outputs": [],
   "source": []
  },
  {
   "cell_type": "code",
   "execution_count": 25,
   "id": "7343e892",
   "metadata": {},
   "outputs": [
    {
     "data": {
      "text/plain": [
       "ID                   0\n",
       "Gender               0\n",
       "Ever_Married        50\n",
       "Age                  0\n",
       "Graduated           24\n",
       "Profession          38\n",
       "Work_Experience    269\n",
       "Spending_Score       0\n",
       "Family_Size        113\n",
       "Var_1               32\n",
       "dtype: int64"
      ]
     },
     "execution_count": 25,
     "metadata": {},
     "output_type": "execute_result"
    }
   ],
   "source": [
    "customer_segment_test.isna().sum(axis=0)"
   ]
  },
  {
   "cell_type": "code",
   "execution_count": 26,
   "id": "21a2ddd4",
   "metadata": {},
   "outputs": [
    {
     "data": {
      "text/plain": [
       "ID                 0.000000\n",
       "Gender             0.000000\n",
       "Ever_Married       0.019033\n",
       "Age                0.000000\n",
       "Graduated          0.009136\n",
       "Profession         0.014465\n",
       "Work_Experience    0.102398\n",
       "Spending_Score     0.000000\n",
       "Family_Size        0.043015\n",
       "Var_1              0.012181\n",
       "dtype: float64"
      ]
     },
     "execution_count": 26,
     "metadata": {},
     "output_type": "execute_result"
    }
   ],
   "source": [
    "customer_segment_test.isna().sum(axis=0)/len(customer_segment_test['ID'])"
   ]
  },
  {
   "cell_type": "code",
   "execution_count": 27,
   "id": "33d7d201",
   "metadata": {},
   "outputs": [],
   "source": [
    "Modified_test = customer_segment_test.dropna(axis=0,subset=['Var_1','Work_Experience','Family_Size'])"
   ]
  },
  {
   "cell_type": "code",
   "execution_count": null,
   "id": "cd54e0f4",
   "metadata": {},
   "outputs": [],
   "source": [
    "# Modified_test.info()"
   ]
  },
  {
   "cell_type": "code",
   "execution_count": 28,
   "id": "d07d7652",
   "metadata": {},
   "outputs": [
    {
     "name": "stderr",
     "output_type": "stream",
     "text": [
      "C:\\Users\\Admin\\AppData\\Local\\Temp\\ipykernel_16424\\217367325.py:1: SettingWithCopyWarning: \n",
      "A value is trying to be set on a copy of a slice from a DataFrame.\n",
      "Try using .loc[row_indexer,col_indexer] = value instead\n",
      "\n",
      "See the caveats in the documentation: https://pandas.pydata.org/pandas-docs/stable/user_guide/indexing.html#returning-a-view-versus-a-copy\n",
      "  Modified_test['Profession'] = Modified_test['Profession'].fillna('None')\n"
     ]
    }
   ],
   "source": [
    "Modified_test['Profession'] = Modified_test['Profession'].fillna('None')"
   ]
  },
  {
   "cell_type": "code",
   "execution_count": 29,
   "id": "0545a570",
   "metadata": {},
   "outputs": [
    {
     "name": "stderr",
     "output_type": "stream",
     "text": [
      "C:\\Users\\Admin\\AppData\\Local\\Temp\\ipykernel_16424\\155289367.py:1: SettingWithCopyWarning: \n",
      "A value is trying to be set on a copy of a slice from a DataFrame.\n",
      "Try using .loc[row_indexer,col_indexer] = value instead\n",
      "\n",
      "See the caveats in the documentation: https://pandas.pydata.org/pandas-docs/stable/user_guide/indexing.html#returning-a-view-versus-a-copy\n",
      "  Modified_test[Modified_test['Age']<=30]['Ever_Married'] = Modified_test[Modified_test['Age']<=30]['Ever_Married'].fillna('No')\n"
     ]
    }
   ],
   "source": [
    "Modified_test[Modified_test['Age']<=30]['Ever_Married'] = Modified_test[Modified_test['Age']<=30]['Ever_Married'].fillna('No')"
   ]
  },
  {
   "cell_type": "code",
   "execution_count": 30,
   "id": "6636b432",
   "metadata": {},
   "outputs": [
    {
     "name": "stderr",
     "output_type": "stream",
     "text": [
      "C:\\Users\\Admin\\AppData\\Local\\Temp\\ipykernel_16424\\211081756.py:1: SettingWithCopyWarning: \n",
      "A value is trying to be set on a copy of a slice from a DataFrame.\n",
      "Try using .loc[row_indexer,col_indexer] = value instead\n",
      "\n",
      "See the caveats in the documentation: https://pandas.pydata.org/pandas-docs/stable/user_guide/indexing.html#returning-a-view-versus-a-copy\n",
      "  Modified_test[Modified_test['Age']>=40]['Ever_Married'] = Modified_test[Modified_test['Age']>=40]['Ever_Married'].fillna('Yes')\n"
     ]
    }
   ],
   "source": [
    "Modified_test[Modified_test['Age']>=40]['Ever_Married'] = Modified_test[Modified_test['Age']>=40]['Ever_Married'].fillna('Yes')"
   ]
  },
  {
   "cell_type": "code",
   "execution_count": 31,
   "id": "3557143e",
   "metadata": {},
   "outputs": [],
   "source": [
    "Modified_test = Modified_test.dropna(axis=0,subset=['Ever_Married'])"
   ]
  },
  {
   "cell_type": "code",
   "execution_count": 32,
   "id": "30ef1804",
   "metadata": {},
   "outputs": [
    {
     "name": "stderr",
     "output_type": "stream",
     "text": [
      "C:\\Users\\Admin\\AppData\\Local\\Temp\\ipykernel_16424\\824871520.py:1: SettingWithCopyWarning: \n",
      "A value is trying to be set on a copy of a slice from a DataFrame.\n",
      "Try using .loc[row_indexer,col_indexer] = value instead\n",
      "\n",
      "See the caveats in the documentation: https://pandas.pydata.org/pandas-docs/stable/user_guide/indexing.html#returning-a-view-versus-a-copy\n",
      "  Modified_test[Modified_test['Age']<=25]['Graduated'] = Modified_test[Modified_test['Age']<=25]['Graduated'].fillna('No')\n"
     ]
    }
   ],
   "source": [
    "Modified_test[Modified_test['Age']<=25]['Graduated'] = Modified_test[Modified_test['Age']<=25]['Graduated'].fillna('No')"
   ]
  },
  {
   "cell_type": "code",
   "execution_count": 33,
   "id": "01e31629",
   "metadata": {},
   "outputs": [
    {
     "name": "stderr",
     "output_type": "stream",
     "text": [
      "C:\\Users\\Admin\\AppData\\Local\\Temp\\ipykernel_16424\\2554997953.py:1: SettingWithCopyWarning: \n",
      "A value is trying to be set on a copy of a slice from a DataFrame.\n",
      "Try using .loc[row_indexer,col_indexer] = value instead\n",
      "\n",
      "See the caveats in the documentation: https://pandas.pydata.org/pandas-docs/stable/user_guide/indexing.html#returning-a-view-versus-a-copy\n",
      "  Modified_test[Modified_test['Age']>=35]['Graduated'] = Modified_test[Modified_test['Age']>=35]['Graduated'].fillna('Yes')\n"
     ]
    }
   ],
   "source": [
    "Modified_test[Modified_test['Age']>=35]['Graduated'] = Modified_test[Modified_test['Age']>=35]['Graduated'].fillna('Yes')"
   ]
  },
  {
   "cell_type": "code",
   "execution_count": 34,
   "id": "6a783dde",
   "metadata": {},
   "outputs": [],
   "source": [
    "Modified_test = Modified_test.dropna(axis=0,subset=['Graduated'])"
   ]
  },
  {
   "cell_type": "code",
   "execution_count": 35,
   "id": "3990d99c",
   "metadata": {},
   "outputs": [
    {
     "name": "stdout",
     "output_type": "stream",
     "text": [
      "<class 'pandas.core.frame.DataFrame'>\n",
      "Int64Index: 2183 entries, 0 to 2626\n",
      "Data columns (total 10 columns):\n",
      " #   Column           Non-Null Count  Dtype  \n",
      "---  ------           --------------  -----  \n",
      " 0   ID               2183 non-null   int64  \n",
      " 1   Gender           2183 non-null   object \n",
      " 2   Ever_Married     2183 non-null   object \n",
      " 3   Age              2183 non-null   int64  \n",
      " 4   Graduated        2183 non-null   object \n",
      " 5   Profession       2183 non-null   object \n",
      " 6   Work_Experience  2183 non-null   float64\n",
      " 7   Spending_Score   2183 non-null   object \n",
      " 8   Family_Size      2183 non-null   float64\n",
      " 9   Var_1            2183 non-null   object \n",
      "dtypes: float64(2), int64(2), object(6)\n",
      "memory usage: 187.6+ KB\n"
     ]
    }
   ],
   "source": [
    "Modified_test.info()"
   ]
  },
  {
   "cell_type": "code",
   "execution_count": 36,
   "id": "a7e5efb9",
   "metadata": {},
   "outputs": [
    {
     "data": {
      "text/plain": [
       "array(['Low', 'High', 'Average'], dtype=object)"
      ]
     },
     "execution_count": 36,
     "metadata": {},
     "output_type": "execute_result"
    }
   ],
   "source": [
    "Modified_train['Spending_Score'].unique()"
   ]
  },
  {
   "cell_type": "code",
   "execution_count": 42,
   "id": "12940042",
   "metadata": {},
   "outputs": [],
   "source": [
    "# Spending score - Low = 1 Average = 2 High = 3\n",
    "# Dummy for gender,married,graduated,profession,var1\n",
    "# Drop ID"
   ]
  },
  {
   "cell_type": "code",
   "execution_count": 37,
   "id": "98796d02",
   "metadata": {},
   "outputs": [],
   "source": [
    "Modified_train.loc[Modified_train['Spending_Score'] =='Low', 'Spending_Score'] = 1"
   ]
  },
  {
   "cell_type": "code",
   "execution_count": 38,
   "id": "a843da5e",
   "metadata": {},
   "outputs": [],
   "source": [
    "Modified_train.loc[Modified_train['Spending_Score'] =='Average', 'Spending_Score'] = 2"
   ]
  },
  {
   "cell_type": "code",
   "execution_count": 39,
   "id": "ac6585c4",
   "metadata": {},
   "outputs": [],
   "source": [
    "Modified_train.loc[Modified_train['Spending_Score'] =='High', 'Spending_Score'] = 3"
   ]
  },
  {
   "cell_type": "code",
   "execution_count": 40,
   "id": "b01f03de",
   "metadata": {},
   "outputs": [],
   "source": [
    "Modified_train['Spending_Score'] = Modified_train['Spending_Score'].transform(lambda value:int(value))"
   ]
  },
  {
   "cell_type": "code",
   "execution_count": 41,
   "id": "e9fd2502",
   "metadata": {
    "scrolled": true
   },
   "outputs": [
    {
     "name": "stdout",
     "output_type": "stream",
     "text": [
      "<class 'pandas.core.frame.DataFrame'>\n",
      "Int64Index: 6749 entries, 0 to 8067\n",
      "Data columns (total 11 columns):\n",
      " #   Column           Non-Null Count  Dtype  \n",
      "---  ------           --------------  -----  \n",
      " 0   ID               6749 non-null   int64  \n",
      " 1   Gender           6749 non-null   object \n",
      " 2   Ever_Married     6749 non-null   object \n",
      " 3   Age              6749 non-null   int64  \n",
      " 4   Graduated        6749 non-null   object \n",
      " 5   Profession       6749 non-null   object \n",
      " 6   Work_Experience  6749 non-null   float64\n",
      " 7   Spending_Score   6749 non-null   int64  \n",
      " 8   Family_Size      6749 non-null   float64\n",
      " 9   Var_1            6749 non-null   object \n",
      " 10  Segmentation     6749 non-null   object \n",
      "dtypes: float64(2), int64(3), object(6)\n",
      "memory usage: 632.7+ KB\n"
     ]
    }
   ],
   "source": [
    "Modified_train.info()"
   ]
  },
  {
   "cell_type": "code",
   "execution_count": 42,
   "id": "513ade1e",
   "metadata": {},
   "outputs": [
    {
     "data": {
      "text/plain": [
       "array([1, 3, 2], dtype=int64)"
      ]
     },
     "execution_count": 42,
     "metadata": {},
     "output_type": "execute_result"
    }
   ],
   "source": [
    "Modified_train['Spending_Score'].unique()"
   ]
  },
  {
   "cell_type": "code",
   "execution_count": 43,
   "id": "165fb086",
   "metadata": {},
   "outputs": [],
   "source": [
    "Modified_test.loc[Modified_test['Spending_Score'] =='Low', 'Spending_Score'] = 1"
   ]
  },
  {
   "cell_type": "code",
   "execution_count": 44,
   "id": "6f924580",
   "metadata": {},
   "outputs": [],
   "source": [
    "Modified_test.loc[Modified_test['Spending_Score'] =='Average', 'Spending_Score'] = 2"
   ]
  },
  {
   "cell_type": "code",
   "execution_count": 45,
   "id": "60f58c75",
   "metadata": {},
   "outputs": [],
   "source": [
    "Modified_test.loc[Modified_test['Spending_Score'] =='High', 'Spending_Score'] = 3"
   ]
  },
  {
   "cell_type": "code",
   "execution_count": 46,
   "id": "383db096",
   "metadata": {},
   "outputs": [],
   "source": [
    "Modified_test['Spending_Score'] = Modified_test['Spending_Score'].transform(lambda value:int(value))"
   ]
  },
  {
   "cell_type": "code",
   "execution_count": 47,
   "id": "b851285d",
   "metadata": {},
   "outputs": [
    {
     "name": "stdout",
     "output_type": "stream",
     "text": [
      "<class 'pandas.core.frame.DataFrame'>\n",
      "Int64Index: 2183 entries, 0 to 2626\n",
      "Data columns (total 10 columns):\n",
      " #   Column           Non-Null Count  Dtype  \n",
      "---  ------           --------------  -----  \n",
      " 0   ID               2183 non-null   int64  \n",
      " 1   Gender           2183 non-null   object \n",
      " 2   Ever_Married     2183 non-null   object \n",
      " 3   Age              2183 non-null   int64  \n",
      " 4   Graduated        2183 non-null   object \n",
      " 5   Profession       2183 non-null   object \n",
      " 6   Work_Experience  2183 non-null   float64\n",
      " 7   Spending_Score   2183 non-null   int64  \n",
      " 8   Family_Size      2183 non-null   float64\n",
      " 9   Var_1            2183 non-null   object \n",
      "dtypes: float64(2), int64(3), object(5)\n",
      "memory usage: 187.6+ KB\n"
     ]
    }
   ],
   "source": [
    "Modified_test.info()"
   ]
  },
  {
   "cell_type": "code",
   "execution_count": 48,
   "id": "ff6a1a77",
   "metadata": {},
   "outputs": [],
   "source": [
    "Modified_train = Modified_train.drop('ID',axis=1)"
   ]
  },
  {
   "cell_type": "code",
   "execution_count": 49,
   "id": "03ebc113",
   "metadata": {},
   "outputs": [],
   "source": [
    "Modified_test = Modified_test.drop('ID',axis=1)"
   ]
  },
  {
   "cell_type": "code",
   "execution_count": 50,
   "id": "2b2f5295",
   "metadata": {},
   "outputs": [
    {
     "name": "stdout",
     "output_type": "stream",
     "text": [
      "<class 'pandas.core.frame.DataFrame'>\n",
      "Int64Index: 6749 entries, 0 to 8067\n",
      "Data columns (total 10 columns):\n",
      " #   Column           Non-Null Count  Dtype  \n",
      "---  ------           --------------  -----  \n",
      " 0   Gender           6749 non-null   object \n",
      " 1   Ever_Married     6749 non-null   object \n",
      " 2   Age              6749 non-null   int64  \n",
      " 3   Graduated        6749 non-null   object \n",
      " 4   Profession       6749 non-null   object \n",
      " 5   Work_Experience  6749 non-null   float64\n",
      " 6   Spending_Score   6749 non-null   int64  \n",
      " 7   Family_Size      6749 non-null   float64\n",
      " 8   Var_1            6749 non-null   object \n",
      " 9   Segmentation     6749 non-null   object \n",
      "dtypes: float64(2), int64(2), object(6)\n",
      "memory usage: 580.0+ KB\n"
     ]
    }
   ],
   "source": [
    "Modified_train.info()"
   ]
  },
  {
   "cell_type": "code",
   "execution_count": 53,
   "id": "0cb3f3d0",
   "metadata": {},
   "outputs": [
    {
     "data": {
      "text/plain": [
       "<AxesSubplot:xlabel='Segmentation', ylabel='count'>"
      ]
     },
     "execution_count": 53,
     "metadata": {},
     "output_type": "execute_result"
    },
    {
     "data": {
      "image/png": "[encoded data removed]",
      "text/plain": [
       "<Figure size 432x288 with 1 Axes>"
      ]
     },
     "metadata": {
      "needs_background": "light"
     },
     "output_type": "display_data"
    }
   ],
   "source": [
    "sns.countplot(data = Modified_train,x='Segmentation')"
   ]
  },
  {
   "cell_type": "code",
   "execution_count": 51,
   "id": "3b44ad02",
   "metadata": {},
   "outputs": [
    {
     "data": {
      "text/plain": [
       "D    1792\n",
       "C    1730\n",
       "A    1639\n",
       "B    1588\n",
       "Name: Segmentation, dtype: int64"
      ]
     },
     "execution_count": 51,
     "metadata": {},
     "output_type": "execute_result"
    }
   ],
   "source": [
    "Modified_train['Segmentation'].value_counts()"
   ]
  },
  {
   "cell_type": "code",
   "execution_count": 52,
   "id": "29aaddd9",
   "metadata": {},
   "outputs": [],
   "source": [
    "Modified_train_dummies = Modified_train.drop(['Age','Work_Experience','Spending_Score','Family_Size','Segmentation'],axis=1)\n",
    "Modified_train_notdummies = Modified_train[['Age','Work_Experience','Spending_Score','Family_Size','Segmentation']]"
   ]
  },
  {
   "cell_type": "code",
   "execution_count": 53,
   "id": "42f8b771",
   "metadata": {},
   "outputs": [],
   "source": [
    "Modified_test_dummies = Modified_test.drop(['Age','Work_Experience','Spending_Score','Family_Size'],axis=1)\n",
    "Modified_test_notdummies = Modified_test[['Age','Work_Experience','Spending_Score','Family_Size']]"
   ]
  },
  {
   "cell_type": "code",
   "execution_count": 54,
   "id": "2dca40e8",
   "metadata": {},
   "outputs": [],
   "source": [
    "Modified_train_dummies = pd.get_dummies(Modified_train_dummies,drop_first=True)\n",
    "Modified_test_dummies = pd.get_dummies(Modified_test_dummies,drop_first=True)"
   ]
  },
  {
   "cell_type": "code",
   "execution_count": 55,
   "id": "3314391e",
   "metadata": {},
   "outputs": [
    {
     "data": {
      "text/plain": [
       "Index(['Gender_Male', 'Ever_Married_Yes', 'Graduated_Yes', 'Profession_Doctor',\n",
       "       'Profession_Engineer', 'Profession_Entertainment',\n",
       "       'Profession_Executive', 'Profession_Healthcare', 'Profession_Homemaker',\n",
       "       'Profession_Lawyer', 'Profession_Marketing', 'Profession_None',\n",
       "       'Var_1_Cat_2', 'Var_1_Cat_3', 'Var_1_Cat_4', 'Var_1_Cat_5',\n",
       "       'Var_1_Cat_6', 'Var_1_Cat_7'],\n",
       "      dtype='object')"
      ]
     },
     "execution_count": 55,
     "metadata": {},
     "output_type": "execute_result"
    }
   ],
   "source": [
    "Modified_train_dummies.columns"
   ]
  },
  {
   "cell_type": "code",
   "execution_count": 56,
   "id": "3fd955ba",
   "metadata": {},
   "outputs": [],
   "source": [
    "df_train = pd.concat([Modified_train_notdummies,Modified_train_dummies],axis=1)"
   ]
  },
  {
   "cell_type": "code",
   "execution_count": 57,
   "id": "94e27693",
   "metadata": {},
   "outputs": [],
   "source": [
    "X_test = pd.concat([Modified_test_notdummies,Modified_test_dummies],axis=1)"
   ]
  },
  {
   "cell_type": "code",
   "execution_count": 59,
   "id": "d2903152",
   "metadata": {},
   "outputs": [
    {
     "name": "stdout",
     "output_type": "stream",
     "text": [
      "<class 'pandas.core.frame.DataFrame'>\n",
      "Int64Index: 6749 entries, 0 to 8067\n",
      "Data columns (total 23 columns):\n",
      " #   Column                    Non-Null Count  Dtype  \n",
      "---  ------                    --------------  -----  \n",
      " 0   Age                       6749 non-null   int64  \n",
      " 1   Work_Experience           6749 non-null   float64\n",
      " 2   Spending_Score            6749 non-null   int64  \n",
      " 3   Family_Size               6749 non-null   float64\n",
      " 4   Segmentation              6749 non-null   object \n",
      " 5   Gender_Male               6749 non-null   uint8  \n",
      " 6   Ever_Married_Yes          6749 non-null   uint8  \n",
      " 7   Graduated_Yes             6749 non-null   uint8  \n",
      " 8   Profession_Doctor         6749 non-null   uint8  \n",
      " 9   Profession_Engineer       6749 non-null   uint8  \n",
      " 10  Profession_Entertainment  6749 non-null   uint8  \n",
      " 11  Profession_Executive      6749 non-null   uint8  \n",
      " 12  Profession_Healthcare     6749 non-null   uint8  \n",
      " 13  Profession_Homemaker      6749 non-null   uint8  \n",
      " 14  Profession_Lawyer         6749 non-null   uint8  \n",
      " 15  Profession_Marketing      6749 non-null   uint8  \n",
      " 16  Profession_None           6749 non-null   uint8  \n",
      " 17  Var_1_Cat_2               6749 non-null   uint8  \n",
      " 18  Var_1_Cat_3               6749 non-null   uint8  \n",
      " 19  Var_1_Cat_4               6749 non-null   uint8  \n",
      " 20  Var_1_Cat_5               6749 non-null   uint8  \n",
      " 21  Var_1_Cat_6               6749 non-null   uint8  \n",
      " 22  Var_1_Cat_7               6749 non-null   uint8  \n",
      "dtypes: float64(2), int64(2), object(1), uint8(18)\n",
      "memory usage: 435.0+ KB\n"
     ]
    }
   ],
   "source": [
    "df_train.info()"
   ]
  },
  {
   "cell_type": "code",
   "execution_count": null,
   "id": "8e5791c1",
   "metadata": {},
   "outputs": [],
   "source": [
    "# X_test.info()"
   ]
  },
  {
   "cell_type": "code",
   "execution_count": 60,
   "id": "ecca79e6",
   "metadata": {},
   "outputs": [],
   "source": [
    "X = df_train.drop('Segmentation',axis=1)\n",
    "y = df_train['Segmentation']"
   ]
  },
  {
   "cell_type": "code",
   "execution_count": 61,
   "id": "cce24397",
   "metadata": {},
   "outputs": [],
   "source": [
    "from sklearn.preprocessing import StandardScaler\n",
    "from sklearn.model_selection import train_test_split"
   ]
  },
  {
   "cell_type": "code",
   "execution_count": 62,
   "id": "33a75f5f",
   "metadata": {},
   "outputs": [],
   "source": [
    "X_train, X_val, y_train, y_val = train_test_split(X, y, test_size=0.3, random_state=42)"
   ]
  },
  {
   "cell_type": "code",
   "execution_count": 63,
   "id": "409a525c",
   "metadata": {},
   "outputs": [],
   "source": [
    "scaler = StandardScaler()\n",
    "scaled_X_train = scaler.fit_transform(X_train)\n",
    "scaled_X_val = scaler.transform(X_val)\n",
    "scaled_X_test = scaler.transform(X_test)"
   ]
  },
  {
   "cell_type": "code",
   "execution_count": 64,
   "id": "e81673d9",
   "metadata": {},
   "outputs": [],
   "source": [
    "from sklearn.metrics import accuracy_score,ConfusionMatrixDisplay,classification_report\n",
    "import time"
   ]
  },
  {
   "cell_type": "code",
   "execution_count": 65,
   "id": "0dae7680",
   "metadata": {},
   "outputs": [],
   "source": [
    "def train_test_model(model,X_train,y_train,X_val,y_val):\n",
    "    tic = time.time()\n",
    "    model.fit(X_train,y_train)\n",
    "    toc = time.time()\n",
    "    \n",
    "    predictions = model.predict(X_val)\n",
    "    \n",
    "    time_taken = toc-tic\n",
    "    accuracy = accuracy_score(y_val,predictions)\n",
    "    print('Time taken: ',time_taken)\n",
    "    print('Test size:',len(y_val))\n",
    "    print('Total Accuracy: ',accuracy)\n",
    "    print(\"Classification Report:\\n\")\n",
    "    print(classification_report(y_val,predictions))\n",
    "    print(\"Confusion Matrix:\\n\")\n",
    "    ConfusionMatrixDisplay.from_estimator(model,X_val,y_val)\n",
    "    plt.show()\n",
    "    \n",
    "    \n",
    "    return time_taken,accuracy"
   ]
  },
  {
   "cell_type": "code",
   "execution_count": 66,
   "id": "3ef98bb3",
   "metadata": {},
   "outputs": [],
   "source": [
    "from sklearn.linear_model import LogisticRegression"
   ]
  },
  {
   "cell_type": "code",
   "execution_count": 67,
   "id": "06b167b0",
   "metadata": {},
   "outputs": [
    {
     "name": "stdout",
     "output_type": "stream",
     "text": [
      "Default Log Model:\n",
      "\n",
      "Time taken:  0.10624361038208008\n",
      "Test size: 2025\n",
      "Total Accuracy:  0.4997530864197531\n",
      "Classification Report:\n",
      "\n",
      "              precision    recall  f1-score   support\n",
      "\n",
      "           A       0.38      0.46      0.42       463\n",
      "           B       0.39      0.18      0.25       492\n",
      "           C       0.51      0.65      0.57       534\n",
      "           D       0.65      0.68      0.66       536\n",
      "\n",
      "    accuracy                           0.50      2025\n",
      "   macro avg       0.48      0.49      0.48      2025\n",
      "weighted avg       0.49      0.50      0.48      2025\n",
      "\n",
      "Confusion Matrix:\n",
      "\n"
     ]
    },
    {
     "data": {
      "image/png": "[encoded data removed]",
      "text/plain": [
       "<Figure size 432x288 with 2 Axes>"
      ]
     },
     "metadata": {
      "needs_background": "light"
     },
     "output_type": "display_data"
    }
   ],
   "source": [
    "default_log_model = LogisticRegression()\n",
    "print(\"Default Log Model:\\n\")\n",
    "val1 = train_test_model(default_log_model,scaled_X_train,y_train,scaled_X_val,y_val)"
   ]
  },
  {
   "cell_type": "code",
   "execution_count": 68,
   "id": "e2f60334",
   "metadata": {},
   "outputs": [],
   "source": [
    "from sklearn.neighbors import KNeighborsClassifier"
   ]
  },
  {
   "cell_type": "code",
   "execution_count": 69,
   "id": "aee162c1",
   "metadata": {},
   "outputs": [
    {
     "name": "stdout",
     "output_type": "stream",
     "text": [
      "Default KNN Model:\n",
      "\n",
      "Time taken:  0.005982637405395508\n",
      "Test size: 2025\n",
      "Total Accuracy:  0.4918518518518519\n",
      "Classification Report:\n",
      "\n",
      "              precision    recall  f1-score   support\n",
      "\n",
      "           A       0.37      0.47      0.41       463\n",
      "           B       0.39      0.38      0.38       492\n",
      "           C       0.56      0.49      0.52       534\n",
      "           D       0.67      0.62      0.64       536\n",
      "\n",
      "    accuracy                           0.49      2025\n",
      "   macro avg       0.50      0.49      0.49      2025\n",
      "weighted avg       0.50      0.49      0.50      2025\n",
      "\n",
      "Confusion Matrix:\n",
      "\n"
     ]
    },
    {
     "data": {
      "image/png": "[encoded data removed]",
      "text/plain": [
       "<Figure size 432x288 with 2 Axes>"
      ]
     },
     "metadata": {
      "needs_background": "light"
     },
     "output_type": "display_data"
    }
   ],
   "source": [
    "default_KNN_model = KNeighborsClassifier()\n",
    "print(\"Default KNN Model:\\n\")\n",
    "val2 = train_test_model(default_KNN_model,scaled_X_train,y_train,scaled_X_val,y_val)"
   ]
  },
  {
   "cell_type": "code",
   "execution_count": 70,
   "id": "d9db273d",
   "metadata": {},
   "outputs": [],
   "source": [
    "from sklearn.tree import DecisionTreeClassifier"
   ]
  },
  {
   "cell_type": "code",
   "execution_count": 71,
   "id": "71163588",
   "metadata": {},
   "outputs": [
    {
     "name": "stdout",
     "output_type": "stream",
     "text": [
      "Default Decision Tree Model:\n",
      "\n",
      "Time taken:  0.03291177749633789\n",
      "Test size: 2025\n",
      "Total Accuracy:  0.4212345679012346\n",
      "Classification Report:\n",
      "\n",
      "              precision    recall  f1-score   support\n",
      "\n",
      "           A       0.30      0.32      0.31       463\n",
      "           B       0.31      0.32      0.32       492\n",
      "           C       0.45      0.44      0.45       534\n",
      "           D       0.62      0.58      0.60       536\n",
      "\n",
      "    accuracy                           0.42      2025\n",
      "   macro avg       0.42      0.42      0.42      2025\n",
      "weighted avg       0.43      0.42      0.42      2025\n",
      "\n",
      "Confusion Matrix:\n",
      "\n"
     ]
    },
    {
     "data": {
      "image/png": "[encoded data removed]",
      "text/plain": [
       "<Figure size 432x288 with 2 Axes>"
      ]
     },
     "metadata": {
      "needs_background": "light"
     },
     "output_type": "display_data"
    },
    {
     "name": "stdout",
     "output_type": "stream",
     "text": [
      "Feature Importances:\n",
      " [0.35573349 0.1618772  0.0605233  0.10969425 0.04544173 0.02134996\n",
      " 0.03981942 0.0193609  0.01267195 0.01648831 0.0115472  0.01631716\n",
      " 0.00857637 0.00708792 0.01163188 0.00795028 0.01280904 0.01628125\n",
      " 0.01756203 0.00499173 0.03438132 0.0079033 ]\n"
     ]
    }
   ],
   "source": [
    "default_decision_tree = DecisionTreeClassifier()\n",
    "print(\"Default Decision Tree Model:\\n\")\n",
    "val3 = train_test_model(default_decision_tree,scaled_X_train,y_train,scaled_X_val,y_val)\n",
    "print('Feature Importances:\\n',default_decision_tree.feature_importances_)"
   ]
  },
  {
   "cell_type": "code",
   "execution_count": 72,
   "id": "d973bf56",
   "metadata": {},
   "outputs": [],
   "source": [
    "from sklearn.ensemble import RandomForestClassifier"
   ]
  },
  {
   "cell_type": "code",
   "execution_count": 73,
   "id": "7d8bd16f",
   "metadata": {},
   "outputs": [
    {
     "name": "stdout",
     "output_type": "stream",
     "text": [
      "Default Random Forest Model:\n",
      "\n",
      "Time taken:  0.6133880615234375\n",
      "Test size: 2025\n",
      "Total Accuracy:  0.4804938271604938\n",
      "Classification Report:\n",
      "\n",
      "              precision    recall  f1-score   support\n",
      "\n",
      "           A       0.37      0.39      0.38       463\n",
      "           B       0.36      0.31      0.34       492\n",
      "           C       0.53      0.52      0.53       534\n",
      "           D       0.61      0.67      0.64       536\n",
      "\n",
      "    accuracy                           0.48      2025\n",
      "   macro avg       0.47      0.47      0.47      2025\n",
      "weighted avg       0.47      0.48      0.48      2025\n",
      "\n",
      "Confusion Matrix:\n",
      "\n"
     ]
    },
    {
     "data": {
      "image/png": "[encoded data removed]",
      "text/plain": [
       "<Figure size 432x288 with 2 Axes>"
      ]
     },
     "metadata": {
      "needs_background": "light"
     },
     "output_type": "display_data"
    },
    {
     "name": "stdout",
     "output_type": "stream",
     "text": [
      "Feature Importances:\n",
      " [0.34625438 0.15129262 0.05708983 0.11497772 0.03845737 0.03310847\n",
      " 0.04041336 0.0188902  0.01802975 0.02115649 0.0115316  0.03639926\n",
      " 0.01010791 0.00991249 0.01268322 0.00656265 0.01087946 0.0140967\n",
      " 0.01547623 0.00373722 0.02151201 0.00743106]\n"
     ]
    }
   ],
   "source": [
    "default_random_forest = RandomForestClassifier()\n",
    "print(\"Default Random Forest Model:\\n\")\n",
    "val4 = train_test_model(default_random_forest,scaled_X_train,y_train,scaled_X_val,y_val)\n",
    "print('Feature Importances:\\n',default_random_forest.feature_importances_)"
   ]
  },
  {
   "cell_type": "code",
   "execution_count": 74,
   "id": "b1d39418",
   "metadata": {},
   "outputs": [],
   "source": [
    "from sklearn.model_selection import GridSearchCV"
   ]
  },
  {
   "cell_type": "code",
   "execution_count": 75,
   "id": "fa66c9e1",
   "metadata": {},
   "outputs": [],
   "source": [
    "from warnings import simplefilter\n",
    "\n",
    "# ignore all warnings\n",
    "simplefilter(action='ignore')"
   ]
  },
  {
   "cell_type": "code",
   "execution_count": 76,
   "id": "55ca0a1a",
   "metadata": {},
   "outputs": [
    {
     "name": "stdout",
     "output_type": "stream",
     "text": [
      "Cross validated Log Model:\n",
      "\n",
      "Time taken:  217.79799389839172\n",
      "Test size: 2025\n",
      "Total Accuracy:  0.4997530864197531\n",
      "Classification Report:\n",
      "\n",
      "              precision    recall  f1-score   support\n",
      "\n",
      "           A       0.38      0.46      0.42       463\n",
      "           B       0.39      0.18      0.25       492\n",
      "           C       0.51      0.65      0.57       534\n",
      "           D       0.65      0.68      0.66       536\n",
      "\n",
      "    accuracy                           0.50      2025\n",
      "   macro avg       0.48      0.49      0.48      2025\n",
      "weighted avg       0.49      0.50      0.48      2025\n",
      "\n",
      "Confusion Matrix:\n",
      "\n"
     ]
    },
    {
     "data": {
      "image/png": "[encoded data removed]",
      "text/plain": [
       "<Figure size 432x288 with 2 Axes>"
      ]
     },
     "metadata": {
      "needs_background": "light"
     },
     "output_type": "display_data"
    }
   ],
   "source": [
    "base_log_model = LogisticRegression(solver='saga',penalty='elasticnet',max_iter = 1000)\n",
    "param_grid = {\n",
    "    'l1_ratio':np.linspace(0,1,10),\n",
    "    'C':np.logspace(0,10,10)\n",
    "}\n",
    "grid_model = GridSearchCV(base_log_model,param_grid)\n",
    "print(\"Cross validated Log Model:\\n\")\n",
    "val5 = train_test_model(grid_model,scaled_X_train,y_train,scaled_X_val,y_val)"
   ]
  },
  {
   "cell_type": "code",
   "execution_count": 77,
   "id": "45013ce2",
   "metadata": {},
   "outputs": [
    {
     "data": {
      "text/plain": [
       "{'C': 1.0, 'l1_ratio': 0.5555555555555556}"
      ]
     },
     "execution_count": 77,
     "metadata": {},
     "output_type": "execute_result"
    }
   ],
   "source": [
    "grid_model.best_params_"
   ]
  },
  {
   "cell_type": "code",
   "execution_count": 78,
   "id": "735da458",
   "metadata": {},
   "outputs": [],
   "source": [
    "from sklearn.svm import SVC"
   ]
  },
  {
   "cell_type": "code",
   "execution_count": 79,
   "id": "a15aea4d",
   "metadata": {},
   "outputs": [
    {
     "name": "stdout",
     "output_type": "stream",
     "text": [
      "SVM(with CV): \n",
      "\n",
      "Time taken:  49.74652051925659\n",
      "Test size: 2025\n",
      "Total Accuracy:  0.5130864197530864\n",
      "Classification Report:\n",
      "\n",
      "              precision    recall  f1-score   support\n",
      "\n",
      "           A       0.40      0.46      0.43       463\n",
      "           B       0.38      0.33      0.35       492\n",
      "           C       0.59      0.55      0.57       534\n",
      "           D       0.65      0.69      0.67       536\n",
      "\n",
      "    accuracy                           0.51      2025\n",
      "   macro avg       0.51      0.51      0.51      2025\n",
      "weighted avg       0.51      0.51      0.51      2025\n",
      "\n",
      "Confusion Matrix:\n",
      "\n"
     ]
    },
    {
     "data": {
      "image/png": "[encoded data removed]",
      "text/plain": [
       "<Figure size 432x288 with 2 Axes>"
      ]
     },
     "metadata": {
      "needs_background": "light"
     },
     "output_type": "display_data"
    }
   ],
   "source": [
    "base_svc = SVC(kernel = 'rbf')\n",
    "param_grid = {\n",
    "    'C':[0.01,0.1,1,10,100]\n",
    "}\n",
    "grid_model_2 = GridSearchCV(base_svc,param_grid)\n",
    "print('SVM(with CV): \\n')\n",
    "val6 = train_test_model(grid_model_2,scaled_X_train,y_train,scaled_X_val,y_val)\n"
   ]
  },
  {
   "cell_type": "code",
   "execution_count": 80,
   "id": "189809e8",
   "metadata": {},
   "outputs": [
    {
     "data": {
      "text/plain": [
       "{'C': 1}"
      ]
     },
     "execution_count": 80,
     "metadata": {},
     "output_type": "execute_result"
    }
   ],
   "source": [
    "grid_model_2.best_params_"
   ]
  },
  {
   "cell_type": "code",
   "execution_count": 81,
   "id": "e03f778d",
   "metadata": {},
   "outputs": [],
   "source": [
    "from sklearn.ensemble import GradientBoostingClassifier"
   ]
  },
  {
   "cell_type": "code",
   "execution_count": 82,
   "id": "9c30818c",
   "metadata": {},
   "outputs": [
    {
     "name": "stdout",
     "output_type": "stream",
     "text": [
      "Gradient Boosting: \n",
      "\n",
      "Time taken:  199.08891534805298\n",
      "Test size: 2025\n",
      "Total Accuracy:  0.5204938271604939\n",
      "Classification Report:\n",
      "\n",
      "              precision    recall  f1-score   support\n",
      "\n",
      "           A       0.41      0.48      0.44       463\n",
      "           B       0.40      0.31      0.35       492\n",
      "           C       0.58      0.58      0.58       534\n",
      "           D       0.64      0.69      0.67       536\n",
      "\n",
      "    accuracy                           0.52      2025\n",
      "   macro avg       0.51      0.51      0.51      2025\n",
      "weighted avg       0.52      0.52      0.52      2025\n",
      "\n",
      "Confusion Matrix:\n",
      "\n"
     ]
    },
    {
     "data": {
      "image/png": "[encoded data removed]",
      "text/plain": [
       "<Figure size 432x288 with 2 Axes>"
      ]
     },
     "metadata": {
      "needs_background": "light"
     },
     "output_type": "display_data"
    }
   ],
   "source": [
    "gb_model = GradientBoostingClassifier()\n",
    "param_grid = {\n",
    "    'n_estimators':[50,100],\n",
    "    'learning_rate':[0.05,0.1,0.2],\n",
    "    'max_depth':[3,4,5]\n",
    "}\n",
    "grid_model_3 = GridSearchCV(gb_model,param_grid)\n",
    "print('Gradient Boosting: \\n')\n",
    "val7 = train_test_model(grid_model_3,scaled_X_train,y_train,scaled_X_val,y_val)\n"
   ]
  },
  {
   "cell_type": "code",
   "execution_count": 83,
   "id": "37af0272",
   "metadata": {},
   "outputs": [
    {
     "data": {
      "text/plain": [
       "{'learning_rate': 0.2, 'max_depth': 3, 'n_estimators': 100}"
      ]
     },
     "execution_count": 83,
     "metadata": {},
     "output_type": "execute_result"
    }
   ],
   "source": [
    "grid_model_3.best_params_"
   ]
  },
  {
   "cell_type": "code",
   "execution_count": 85,
   "id": "7777256b",
   "metadata": {},
   "outputs": [],
   "source": [
    "from sklearn.ensemble import AdaBoostClassifier"
   ]
  },
  {
   "cell_type": "code",
   "execution_count": 86,
   "id": "65f5a055",
   "metadata": {},
   "outputs": [
    {
     "name": "stdout",
     "output_type": "stream",
     "text": [
      "AdaBoosting: \n",
      "\n",
      "Time taken:  19.500797986984253\n",
      "Test size: 2025\n",
      "Total Accuracy:  0.5106172839506172\n",
      "Classification Report:\n",
      "\n",
      "              precision    recall  f1-score   support\n",
      "\n",
      "           A       0.40      0.53      0.45       463\n",
      "           B       0.42      0.23      0.30       492\n",
      "           C       0.51      0.63      0.56       534\n",
      "           D       0.69      0.64      0.66       536\n",
      "\n",
      "    accuracy                           0.51      2025\n",
      "   macro avg       0.51      0.51      0.50      2025\n",
      "weighted avg       0.51      0.51      0.50      2025\n",
      "\n",
      "Confusion Matrix:\n",
      "\n"
     ]
    },
    {
     "data": {
      "image/png": "[encoded data removed]",
      "text/plain": [
       "<Figure size 432x288 with 2 Axes>"
      ]
     },
     "metadata": {
      "needs_background": "light"
     },
     "output_type": "display_data"
    }
   ],
   "source": [
    "ada_model = AdaBoostClassifier()\n",
    "param_grid = {\n",
    "    'n_estimators':[50,100],\n",
    "    'learning_rate':[0.05,0.1,0.2]\n",
    "}\n",
    "grid_model_4 = GridSearchCV(ada_model,param_grid)\n",
    "print('AdaBoosting: \\n')\n",
    "val8 = train_test_model(grid_model_4,scaled_X_train,y_train,scaled_X_val,y_val)\n"
   ]
  },
  {
   "cell_type": "code",
   "execution_count": 87,
   "id": "82fd3f3a",
   "metadata": {},
   "outputs": [
    {
     "data": {
      "text/plain": [
       "{'learning_rate': 0.2, 'n_estimators': 100}"
      ]
     },
     "execution_count": 87,
     "metadata": {},
     "output_type": "execute_result"
    }
   ],
   "source": [
    "grid_model_4.best_params_"
   ]
  },
  {
   "cell_type": "code",
   "execution_count": 88,
   "id": "0dbf2840",
   "metadata": {},
   "outputs": [
    {
     "data": {
      "text/html": [
       "<div>\n",
       "<style scoped>\n",
       "    .dataframe tbody tr th:only-of-type {\n",
       "        vertical-align: middle;\n",
       "    }\n",
       "\n",
       "    .dataframe tbody tr th {\n",
       "        vertical-align: top;\n",
       "    }\n",
       "\n",
       "    .dataframe thead th {\n",
       "        text-align: right;\n",
       "    }\n",
       "</style>\n",
       "<table border=\"1\" class=\"dataframe\">\n",
       "  <thead>\n",
       "    <tr style=\"text-align: right;\">\n",
       "      <th></th>\n",
       "      <th>Time</th>\n",
       "      <th>Accuracy</th>\n",
       "    </tr>\n",
       "  </thead>\n",
       "  <tbody>\n",
       "    <tr>\n",
       "      <th>KNN</th>\n",
       "      <td>0.005983</td>\n",
       "      <td>0.491852</td>\n",
       "    </tr>\n",
       "    <tr>\n",
       "      <th>Decision Tree</th>\n",
       "      <td>0.032912</td>\n",
       "      <td>0.421235</td>\n",
       "    </tr>\n",
       "    <tr>\n",
       "      <th>Logistic</th>\n",
       "      <td>0.106244</td>\n",
       "      <td>0.499753</td>\n",
       "    </tr>\n",
       "    <tr>\n",
       "      <th>Random Forest</th>\n",
       "      <td>0.613388</td>\n",
       "      <td>0.480494</td>\n",
       "    </tr>\n",
       "    <tr>\n",
       "      <th>AdaBoosting</th>\n",
       "      <td>19.500798</td>\n",
       "      <td>0.510617</td>\n",
       "    </tr>\n",
       "    <tr>\n",
       "      <th>SVM CV</th>\n",
       "      <td>49.746521</td>\n",
       "      <td>0.513086</td>\n",
       "    </tr>\n",
       "    <tr>\n",
       "      <th>Gradient Boosting</th>\n",
       "      <td>199.088915</td>\n",
       "      <td>0.520494</td>\n",
       "    </tr>\n",
       "    <tr>\n",
       "      <th>Logistic CV</th>\n",
       "      <td>217.797994</td>\n",
       "      <td>0.499753</td>\n",
       "    </tr>\n",
       "  </tbody>\n",
       "</table>\n",
       "</div>"
      ],
      "text/plain": [
       "                         Time  Accuracy\n",
       "KNN                  0.005983  0.491852\n",
       "Decision Tree        0.032912  0.421235\n",
       "Logistic             0.106244  0.499753\n",
       "Random Forest        0.613388  0.480494\n",
       "AdaBoosting         19.500798  0.510617\n",
       "SVM CV              49.746521  0.513086\n",
       "Gradient Boosting  199.088915  0.520494\n",
       "Logistic CV        217.797994  0.499753"
      ]
     },
     "execution_count": 88,
     "metadata": {},
     "output_type": "execute_result"
    }
   ],
   "source": [
    "out = pd.DataFrame([val1,val2,val3,val4,val5,val6,val7,val8],\n",
    "                   index = ['Logistic','KNN','Decision Tree','Random Forest','Logistic CV','SVM CV','Gradient Boosting','AdaBoosting'],\n",
    "                  columns=['Time','Accuracy'])\n",
    "\n",
    "out.sort_values('Time')"
   ]
  },
  {
   "cell_type": "code",
   "execution_count": 89,
   "id": "202f5b78",
   "metadata": {},
   "outputs": [],
   "source": [
    "#Choose SVM CV\n",
    "final_predictions = grid_model_2.predict(scaled_X_test)"
   ]
  },
  {
   "cell_type": "code",
   "execution_count": 90,
   "id": "a96ced2b",
   "metadata": {},
   "outputs": [
    {
     "data": {
      "text/plain": [
       "array(['A', 'D', 'D', ..., 'A', 'B', 'D'], dtype=object)"
      ]
     },
     "execution_count": 90,
     "metadata": {},
     "output_type": "execute_result"
    }
   ],
   "source": [
    "final_predictions"
   ]
  },
  {
   "cell_type": "code",
   "execution_count": null,
   "id": "77933ded",
   "metadata": {},
   "outputs": [],
   "source": []
  }
 ],
 "metadata": {
  "kernelspec": {
   "display_name": "Python 3 (ipykernel)",
   "language": "python",
   "name": "python3"
  },
  "language_info": {
   "codemirror_mode": {
    "name": "ipython",
    "version": 3
   },
   "file_extension": ".py",
   "mimetype": "text/x-python",
   "name": "python",
   "nbconvert_exporter": "python",
   "pygments_lexer": "ipython3",
   "version": "3.9.12"
  }
 },
 "nbformat": 4,
 "nbformat_minor": 5
}
