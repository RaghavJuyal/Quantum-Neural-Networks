{
 "cells": [
  {
   "cell_type": "code",
   "execution_count": 1,
   "id": "6b16581a",
   "metadata": {},
   "outputs": [],
   "source": [
    "import numpy as np\n",
    "import pandas as pd\n",
    "import matplotlib.pyplot as plt\n",
    "import seaborn as sns"
   ]
  },
  {
   "cell_type": "code",
   "execution_count": 2,
   "id": "81489c06",
   "metadata": {},
   "outputs": [
    {
     "data": {
      "text/html": [
       "<div>\n",
       "<style scoped>\n",
       "    .dataframe tbody tr th:only-of-type {\n",
       "        vertical-align: middle;\n",
       "    }\n",
       "\n",
       "    .dataframe tbody tr th {\n",
       "        vertical-align: top;\n",
       "    }\n",
       "\n",
       "    .dataframe thead th {\n",
       "        text-align: right;\n",
       "    }\n",
       "</style>\n",
       "<table border=\"1\" class=\"dataframe\">\n",
       "  <thead>\n",
       "    <tr style=\"text-align: right;\">\n",
       "      <th></th>\n",
       "      <th>ID</th>\n",
       "      <th>Gender</th>\n",
       "      <th>Ever_Married</th>\n",
       "      <th>Age</th>\n",
       "      <th>Graduated</th>\n",
       "      <th>Profession</th>\n",
       "      <th>Work_Experience</th>\n",
       "      <th>Spending_Score</th>\n",
       "      <th>Family_Size</th>\n",
       "      <th>Var_1</th>\n",
       "      <th>Segmentation</th>\n",
       "    </tr>\n",
       "  </thead>\n",
       "  <tbody>\n",
       "    <tr>\n",
       "      <th>0</th>\n",
       "      <td>462809</td>\n",
       "      <td>Male</td>\n",
       "      <td>No</td>\n",
       "      <td>22</td>\n",
       "      <td>No</td>\n",
       "      <td>Healthcare</td>\n",
       "      <td>1.0</td>\n",
       "      <td>Low</td>\n",
       "      <td>4.0</td>\n",
       "      <td>Cat_4</td>\n",
       "      <td>D</td>\n",
       "    </tr>\n",
       "    <tr>\n",
       "      <th>1</th>\n",
       "      <td>462643</td>\n",
       "      <td>Female</td>\n",
       "      <td>Yes</td>\n",
       "      <td>38</td>\n",
       "      <td>Yes</td>\n",
       "      <td>Engineer</td>\n",
       "      <td>NaN</td>\n",
       "      <td>Average</td>\n",
       "      <td>3.0</td>\n",
       "      <td>Cat_4</td>\n",
       "      <td>A</td>\n",
       "    </tr>\n",
       "    <tr>\n",
       "      <th>2</th>\n",
       "      <td>466315</td>\n",
       "      <td>Female</td>\n",
       "      <td>Yes</td>\n",
       "      <td>67</td>\n",
       "      <td>Yes</td>\n",
       "      <td>Engineer</td>\n",
       "      <td>1.0</td>\n",
       "      <td>Low</td>\n",
       "      <td>1.0</td>\n",
       "      <td>Cat_6</td>\n",
       "      <td>B</td>\n",
       "    </tr>\n",
       "    <tr>\n",
       "      <th>3</th>\n",
       "      <td>461735</td>\n",
       "      <td>Male</td>\n",
       "      <td>Yes</td>\n",
       "      <td>67</td>\n",
       "      <td>Yes</td>\n",
       "      <td>Lawyer</td>\n",
       "      <td>0.0</td>\n",
       "      <td>High</td>\n",
       "      <td>2.0</td>\n",
       "      <td>Cat_6</td>\n",
       "      <td>B</td>\n",
       "    </tr>\n",
       "    <tr>\n",
       "      <th>4</th>\n",
       "      <td>462669</td>\n",
       "      <td>Female</td>\n",
       "      <td>Yes</td>\n",
       "      <td>40</td>\n",
       "      <td>Yes</td>\n",
       "      <td>Entertainment</td>\n",
       "      <td>NaN</td>\n",
       "      <td>High</td>\n",
       "      <td>6.0</td>\n",
       "      <td>Cat_6</td>\n",
       "      <td>A</td>\n",
       "    </tr>\n",
       "  </tbody>\n",
       "</table>\n",
       "</div>"
      ],
      "text/plain": [
       "       ID  Gender Ever_Married  Age Graduated     Profession  Work_Experience  \\\n",
       "0  462809    Male           No   22        No     Healthcare              1.0   \n",
       "1  462643  Female          Yes   38       Yes       Engineer              NaN   \n",
       "2  466315  Female          Yes   67       Yes       Engineer              1.0   \n",
       "3  461735    Male          Yes   67       Yes         Lawyer              0.0   \n",
       "4  462669  Female          Yes   40       Yes  Entertainment              NaN   \n",
       "\n",
       "  Spending_Score  Family_Size  Var_1 Segmentation  \n",
       "0            Low          4.0  Cat_4            D  \n",
       "1        Average          3.0  Cat_4            A  \n",
       "2            Low          1.0  Cat_6            B  \n",
       "3           High          2.0  Cat_6            B  \n",
       "4           High          6.0  Cat_6            A  "
      ]
     },
     "execution_count": 2,
     "metadata": {},
     "output_type": "execute_result"
    }
   ],
   "source": [
    "customer_segment_train = pd.read_csv('Customer_segmentation_train.csv')\n",
    "customer_segment_train.head()"
   ]
  },
  {
   "cell_type": "code",
   "execution_count": 3,
   "id": "138aac92",
   "metadata": {},
   "outputs": [
    {
     "data": {
      "text/html": [
       "<div>\n",
       "<style scoped>\n",
       "    .dataframe tbody tr th:only-of-type {\n",
       "        vertical-align: middle;\n",
       "    }\n",
       "\n",
       "    .dataframe tbody tr th {\n",
       "        vertical-align: top;\n",
       "    }\n",
       "\n",
       "    .dataframe thead th {\n",
       "        text-align: right;\n",
       "    }\n",
       "</style>\n",
       "<table border=\"1\" class=\"dataframe\">\n",
       "  <thead>\n",
       "    <tr style=\"text-align: right;\">\n",
       "      <th></th>\n",
       "      <th>ID</th>\n",
       "      <th>Gender</th>\n",
       "      <th>Ever_Married</th>\n",
       "      <th>Age</th>\n",
       "      <th>Graduated</th>\n",
       "      <th>Profession</th>\n",
       "      <th>Work_Experience</th>\n",
       "      <th>Spending_Score</th>\n",
       "      <th>Family_Size</th>\n",
       "      <th>Var_1</th>\n",
       "    </tr>\n",
       "  </thead>\n",
       "  <tbody>\n",
       "    <tr>\n",
       "      <th>0</th>\n",
       "      <td>458989</td>\n",
       "      <td>Female</td>\n",
       "      <td>Yes</td>\n",
       "      <td>36</td>\n",
       "      <td>Yes</td>\n",
       "      <td>Engineer</td>\n",
       "      <td>0.0</td>\n",
       "      <td>Low</td>\n",
       "      <td>1.0</td>\n",
       "      <td>Cat_6</td>\n",
       "    </tr>\n",
       "    <tr>\n",
       "      <th>1</th>\n",
       "      <td>458994</td>\n",
       "      <td>Male</td>\n",
       "      <td>Yes</td>\n",
       "      <td>37</td>\n",
       "      <td>Yes</td>\n",
       "      <td>Healthcare</td>\n",
       "      <td>8.0</td>\n",
       "      <td>Average</td>\n",
       "      <td>4.0</td>\n",
       "      <td>Cat_6</td>\n",
       "    </tr>\n",
       "    <tr>\n",
       "      <th>2</th>\n",
       "      <td>458996</td>\n",
       "      <td>Female</td>\n",
       "      <td>Yes</td>\n",
       "      <td>69</td>\n",
       "      <td>No</td>\n",
       "      <td>NaN</td>\n",
       "      <td>0.0</td>\n",
       "      <td>Low</td>\n",
       "      <td>1.0</td>\n",
       "      <td>Cat_6</td>\n",
       "    </tr>\n",
       "    <tr>\n",
       "      <th>3</th>\n",
       "      <td>459000</td>\n",
       "      <td>Male</td>\n",
       "      <td>Yes</td>\n",
       "      <td>59</td>\n",
       "      <td>No</td>\n",
       "      <td>Executive</td>\n",
       "      <td>11.0</td>\n",
       "      <td>High</td>\n",
       "      <td>2.0</td>\n",
       "      <td>Cat_6</td>\n",
       "    </tr>\n",
       "    <tr>\n",
       "      <th>4</th>\n",
       "      <td>459001</td>\n",
       "      <td>Female</td>\n",
       "      <td>No</td>\n",
       "      <td>19</td>\n",
       "      <td>No</td>\n",
       "      <td>Marketing</td>\n",
       "      <td>NaN</td>\n",
       "      <td>Low</td>\n",
       "      <td>4.0</td>\n",
       "      <td>Cat_6</td>\n",
       "    </tr>\n",
       "  </tbody>\n",
       "</table>\n",
       "</div>"
      ],
      "text/plain": [
       "       ID  Gender Ever_Married  Age Graduated  Profession  Work_Experience  \\\n",
       "0  458989  Female          Yes   36       Yes    Engineer              0.0   \n",
       "1  458994    Male          Yes   37       Yes  Healthcare              8.0   \n",
       "2  458996  Female          Yes   69        No         NaN              0.0   \n",
       "3  459000    Male          Yes   59        No   Executive             11.0   \n",
       "4  459001  Female           No   19        No   Marketing              NaN   \n",
       "\n",
       "  Spending_Score  Family_Size  Var_1  \n",
       "0            Low          1.0  Cat_6  \n",
       "1        Average          4.0  Cat_6  \n",
       "2            Low          1.0  Cat_6  \n",
       "3           High          2.0  Cat_6  \n",
       "4            Low          4.0  Cat_6  "
      ]
     },
     "execution_count": 3,
     "metadata": {},
     "output_type": "execute_result"
    }
   ],
   "source": [
    "customer_segment_test = pd.read_csv('Customer_segmentation_test.csv')\n",
    "customer_segment_test.head()"
   ]
  },
  {
   "cell_type": "code",
   "execution_count": 4,
   "id": "f57a1e39",
   "metadata": {},
   "outputs": [
    {
     "data": {
      "text/plain": [
       "ID                   0\n",
       "Gender               0\n",
       "Ever_Married       140\n",
       "Age                  0\n",
       "Graduated           78\n",
       "Profession         124\n",
       "Work_Experience    829\n",
       "Spending_Score       0\n",
       "Family_Size        335\n",
       "Var_1               76\n",
       "Segmentation         0\n",
       "dtype: int64"
      ]
     },
     "execution_count": 4,
     "metadata": {},
     "output_type": "execute_result"
    }
   ],
   "source": [
    "customer_segment_train.isna().sum(axis=0)"
   ]
  },
  {
   "cell_type": "code",
   "execution_count": 5,
   "id": "027ca36e",
   "metadata": {},
   "outputs": [
    {
     "name": "stdout",
     "output_type": "stream",
     "text": [
      "<class 'pandas.core.frame.DataFrame'>\n",
      "RangeIndex: 8068 entries, 0 to 8067\n",
      "Data columns (total 11 columns):\n",
      " #   Column           Non-Null Count  Dtype  \n",
      "---  ------           --------------  -----  \n",
      " 0   ID               8068 non-null   int64  \n",
      " 1   Gender           8068 non-null   object \n",
      " 2   Ever_Married     7928 non-null   object \n",
      " 3   Age              8068 non-null   int64  \n",
      " 4   Graduated        7990 non-null   object \n",
      " 5   Profession       7944 non-null   object \n",
      " 6   Work_Experience  7239 non-null   float64\n",
      " 7   Spending_Score   8068 non-null   object \n",
      " 8   Family_Size      7733 non-null   float64\n",
      " 9   Var_1            7992 non-null   object \n",
      " 10  Segmentation     8068 non-null   object \n",
      "dtypes: float64(2), int64(2), object(7)\n",
      "memory usage: 693.5+ KB\n"
     ]
    }
   ],
   "source": [
    "customer_segment_train.info()"
   ]
  },
  {
   "cell_type": "code",
   "execution_count": 9,
   "id": "f44a0074",
   "metadata": {},
   "outputs": [
    {
     "data": {
      "text/plain": [
       "Artist           2516\n",
       "Healthcare       1332\n",
       "Entertainment     949\n",
       "Engineer          699\n",
       "Doctor            688\n",
       "Lawyer            623\n",
       "Executive         599\n",
       "Marketing         292\n",
       "Homemaker         246\n",
       "Name: Profession, dtype: int64"
      ]
     },
     "execution_count": 9,
     "metadata": {},
     "output_type": "execute_result"
    }
   ],
   "source": [
    "customer_segment_train['Profession'].value_counts()"
   ]
  },
  {
   "cell_type": "code",
   "execution_count": null,
   "id": "ed66575f",
   "metadata": {},
   "outputs": [],
   "source": [
    "#var1,married,graduated"
   ]
  },
  {
   "cell_type": "code",
   "execution_count": 15,
   "id": "9d610c1f",
   "metadata": {},
   "outputs": [],
   "source": [
    "Modified_train = customer_segment_train"
   ]
  },
  {
   "cell_type": "code",
   "execution_count": 16,
   "id": "6698e3cd",
   "metadata": {},
   "outputs": [],
   "source": [
    "Modified_train['Var_1'] = Modified_train['Var_1'].fillna(Modified_train['Var_1'].value_counts().index[0])"
   ]
  },
  {
   "cell_type": "code",
   "execution_count": 17,
   "id": "3e699f1f",
   "metadata": {},
   "outputs": [],
   "source": [
    "Modified_train['Ever_Married'] = Modified_train['Ever_Married'].fillna(Modified_train['Ever_Married'].value_counts().index[0])"
   ]
  },
  {
   "cell_type": "code",
   "execution_count": 18,
   "id": "6022d27f",
   "metadata": {},
   "outputs": [],
   "source": [
    "Modified_train['Graduated'] = Modified_train['Graduated'].fillna(Modified_train['Graduated'].value_counts().index[0])"
   ]
  },
  {
   "cell_type": "code",
   "execution_count": 19,
   "id": "0c374f77",
   "metadata": {},
   "outputs": [
    {
     "data": {
      "text/plain": [
       "ID                   0\n",
       "Gender               0\n",
       "Ever_Married         0\n",
       "Age                  0\n",
       "Graduated            0\n",
       "Profession         124\n",
       "Work_Experience    829\n",
       "Spending_Score       0\n",
       "Family_Size        335\n",
       "Var_1                0\n",
       "Segmentation         0\n",
       "dtype: int64"
      ]
     },
     "execution_count": 19,
     "metadata": {},
     "output_type": "execute_result"
    }
   ],
   "source": [
    "Modified_train.isna().sum(axis=0)"
   ]
  },
  {
   "cell_type": "code",
   "execution_count": 20,
   "id": "b495e6a6",
   "metadata": {},
   "outputs": [],
   "source": [
    "Modified_train['Profession'] = Modified_train['Profession'].fillna('None')"
   ]
  },
  {
   "cell_type": "code",
   "execution_count": 26,
   "id": "19f687d9",
   "metadata": {},
   "outputs": [],
   "source": [
    "# Modified_train['Work_Experience'].median()"
   ]
  },
  {
   "cell_type": "code",
   "execution_count": 25,
   "id": "45c8cca6",
   "metadata": {},
   "outputs": [],
   "source": [
    "Modified_train['Work_Experience'] = Modified_train['Work_Experience'].fillna(Modified_train['Work_Experience'].median())"
   ]
  },
  {
   "cell_type": "code",
   "execution_count": 27,
   "id": "f9fd5763",
   "metadata": {},
   "outputs": [],
   "source": [
    "Modified_train['Family_Size'] = Modified_train['Family_Size'].fillna(Modified_train['Family_Size'].median())"
   ]
  },
  {
   "cell_type": "code",
   "execution_count": 28,
   "id": "f4febcc2",
   "metadata": {},
   "outputs": [
    {
     "data": {
      "text/plain": [
       "ID                 0\n",
       "Gender             0\n",
       "Ever_Married       0\n",
       "Age                0\n",
       "Graduated          0\n",
       "Profession         0\n",
       "Work_Experience    0\n",
       "Spending_Score     0\n",
       "Family_Size        0\n",
       "Var_1              0\n",
       "Segmentation       0\n",
       "dtype: int64"
      ]
     },
     "execution_count": 28,
     "metadata": {},
     "output_type": "execute_result"
    }
   ],
   "source": [
    "Modified_train.isna().sum(axis=0)"
   ]
  },
  {
   "cell_type": "code",
   "execution_count": 29,
   "id": "c11af57c",
   "metadata": {},
   "outputs": [],
   "source": [
    "Modified_train.loc[Modified_train['Spending_Score'] =='Low', 'Spending_Score'] = 1"
   ]
  },
  {
   "cell_type": "code",
   "execution_count": 30,
   "id": "85d4851a",
   "metadata": {},
   "outputs": [],
   "source": [
    "Modified_train.loc[Modified_train['Spending_Score'] =='Average', 'Spending_Score'] = 2"
   ]
  },
  {
   "cell_type": "code",
   "execution_count": 31,
   "id": "0ac3f456",
   "metadata": {},
   "outputs": [],
   "source": [
    "Modified_train.loc[Modified_train['Spending_Score'] =='High', 'Spending_Score'] = 3"
   ]
  },
  {
   "cell_type": "code",
   "execution_count": 32,
   "id": "0d61920e",
   "metadata": {},
   "outputs": [],
   "source": [
    "Modified_train['Spending_Score'] = Modified_train['Spending_Score'].transform(lambda value:int(value))"
   ]
  },
  {
   "cell_type": "code",
   "execution_count": 33,
   "id": "3f9182ef",
   "metadata": {},
   "outputs": [
    {
     "name": "stdout",
     "output_type": "stream",
     "text": [
      "<class 'pandas.core.frame.DataFrame'>\n",
      "RangeIndex: 8068 entries, 0 to 8067\n",
      "Data columns (total 11 columns):\n",
      " #   Column           Non-Null Count  Dtype  \n",
      "---  ------           --------------  -----  \n",
      " 0   ID               8068 non-null   int64  \n",
      " 1   Gender           8068 non-null   object \n",
      " 2   Ever_Married     8068 non-null   object \n",
      " 3   Age              8068 non-null   int64  \n",
      " 4   Graduated        8068 non-null   object \n",
      " 5   Profession       8068 non-null   object \n",
      " 6   Work_Experience  8068 non-null   float64\n",
      " 7   Spending_Score   8068 non-null   int64  \n",
      " 8   Family_Size      8068 non-null   float64\n",
      " 9   Var_1            8068 non-null   object \n",
      " 10  Segmentation     8068 non-null   object \n",
      "dtypes: float64(2), int64(3), object(6)\n",
      "memory usage: 693.5+ KB\n"
     ]
    }
   ],
   "source": [
    "Modified_train.info()"
   ]
  },
  {
   "cell_type": "code",
   "execution_count": 34,
   "id": "16083e34",
   "metadata": {},
   "outputs": [],
   "source": [
    "Modified_test = customer_segment_test"
   ]
  },
  {
   "cell_type": "code",
   "execution_count": 35,
   "id": "a9fc7e65",
   "metadata": {},
   "outputs": [
    {
     "name": "stdout",
     "output_type": "stream",
     "text": [
      "<class 'pandas.core.frame.DataFrame'>\n",
      "RangeIndex: 2627 entries, 0 to 2626\n",
      "Data columns (total 10 columns):\n",
      " #   Column           Non-Null Count  Dtype  \n",
      "---  ------           --------------  -----  \n",
      " 0   ID               2627 non-null   int64  \n",
      " 1   Gender           2627 non-null   object \n",
      " 2   Ever_Married     2627 non-null   object \n",
      " 3   Age              2627 non-null   int64  \n",
      " 4   Graduated        2627 non-null   object \n",
      " 5   Profession       2627 non-null   object \n",
      " 6   Work_Experience  2627 non-null   float64\n",
      " 7   Spending_Score   2627 non-null   int64  \n",
      " 8   Family_Size      2627 non-null   float64\n",
      " 9   Var_1            2627 non-null   object \n",
      "dtypes: float64(2), int64(3), object(5)\n",
      "memory usage: 205.4+ KB\n"
     ]
    }
   ],
   "source": [
    "Modified_test['Var_1'] = Modified_test['Var_1'].fillna(Modified_test['Var_1'].value_counts().index[0])\n",
    "Modified_test['Ever_Married'] = Modified_test['Ever_Married'].fillna(Modified_test['Ever_Married'].value_counts().index[0])\n",
    "Modified_test['Graduated'] = Modified_test['Graduated'].fillna(Modified_test['Graduated'].value_counts().index[0])\n",
    "Modified_test['Profession'] = Modified_test['Profession'].fillna('None')\n",
    "Modified_test['Work_Experience'] = Modified_test['Work_Experience'].fillna(Modified_test['Work_Experience'].median())\n",
    "Modified_test['Family_Size'] = Modified_test['Family_Size'].fillna(Modified_test['Family_Size'].median())\n",
    "Modified_test.loc[Modified_test['Spending_Score'] =='Low', 'Spending_Score'] = 1\n",
    "Modified_test.loc[Modified_test['Spending_Score'] =='Average', 'Spending_Score'] = 2\n",
    "Modified_test.loc[Modified_test['Spending_Score'] =='High', 'Spending_Score'] = 3\n",
    "Modified_test['Spending_Score'] = Modified_test['Spending_Score'].transform(lambda value:int(value))\n",
    "Modified_test.info()"
   ]
  },
  {
   "cell_type": "code",
   "execution_count": 36,
   "id": "2cbeb15d",
   "metadata": {},
   "outputs": [],
   "source": [
    "Modified_train = Modified_train.drop('ID',axis=1)\n",
    "Modified_test = Modified_test.drop('ID',axis=1)"
   ]
  },
  {
   "cell_type": "code",
   "execution_count": 37,
   "id": "56b35672",
   "metadata": {},
   "outputs": [],
   "source": [
    "Modified_train_dummies = Modified_train.drop(['Age','Work_Experience','Spending_Score','Family_Size','Segmentation'],axis=1)\n",
    "Modified_train_notdummies = Modified_train[['Age','Work_Experience','Spending_Score','Family_Size','Segmentation']]\n",
    "Modified_test_dummies = Modified_test.drop(['Age','Work_Experience','Spending_Score','Family_Size'],axis=1)\n",
    "Modified_test_notdummies = Modified_test[['Age','Work_Experience','Spending_Score','Family_Size']]"
   ]
  },
  {
   "cell_type": "code",
   "execution_count": 38,
   "id": "9328aea7",
   "metadata": {},
   "outputs": [],
   "source": [
    "Modified_train_dummies = pd.get_dummies(Modified_train_dummies,drop_first=True)\n",
    "Modified_test_dummies = pd.get_dummies(Modified_test_dummies,drop_first=True)"
   ]
  },
  {
   "cell_type": "code",
   "execution_count": 39,
   "id": "3acb889f",
   "metadata": {},
   "outputs": [],
   "source": [
    "df_train = pd.concat([Modified_train_notdummies,Modified_train_dummies],axis=1)"
   ]
  },
  {
   "cell_type": "code",
   "execution_count": 40,
   "id": "49aeb9d5",
   "metadata": {},
   "outputs": [],
   "source": [
    "X_test = pd.concat([Modified_test_notdummies,Modified_test_dummies],axis=1)"
   ]
  },
  {
   "cell_type": "code",
   "execution_count": 41,
   "id": "2effc32e",
   "metadata": {},
   "outputs": [],
   "source": [
    "X = df_train.drop('Segmentation',axis=1)\n",
    "y = df_train['Segmentation']"
   ]
  },
  {
   "cell_type": "code",
   "execution_count": 42,
   "id": "c821ae01",
   "metadata": {},
   "outputs": [],
   "source": [
    "from sklearn.preprocessing import StandardScaler\n",
    "from sklearn.model_selection import train_test_split"
   ]
  },
  {
   "cell_type": "code",
   "execution_count": 43,
   "id": "b9ee917b",
   "metadata": {},
   "outputs": [],
   "source": [
    "X_train, X_val, y_train, y_val = train_test_split(X, y, test_size=0.3, random_state=42)"
   ]
  },
  {
   "cell_type": "code",
   "execution_count": 44,
   "id": "10c45d3c",
   "metadata": {},
   "outputs": [],
   "source": [
    "scaler = StandardScaler()\n",
    "scaled_X_train = scaler.fit_transform(X_train)\n",
    "scaled_X_val = scaler.transform(X_val)\n",
    "scaled_X_test = scaler.transform(X_test)"
   ]
  },
  {
   "cell_type": "code",
   "execution_count": 45,
   "id": "bad6824b",
   "metadata": {},
   "outputs": [],
   "source": [
    "from sklearn.metrics import accuracy_score,ConfusionMatrixDisplay,classification_report\n",
    "import time"
   ]
  },
  {
   "cell_type": "code",
   "execution_count": 46,
   "id": "e80d26b9",
   "metadata": {},
   "outputs": [],
   "source": [
    "def train_test_model(model,X_train,y_train,X_val,y_val):\n",
    "    tic = time.time()\n",
    "    model.fit(X_train,y_train)\n",
    "    toc = time.time()\n",
    "    \n",
    "    predictions = model.predict(X_val)\n",
    "    \n",
    "    time_taken = toc-tic\n",
    "    accuracy = accuracy_score(y_val,predictions)\n",
    "    print('Time taken: ',time_taken)\n",
    "    print('Test size:',len(y_val))\n",
    "    print('Total Accuracy: ',accuracy)\n",
    "    print(\"Classification Report:\\n\")\n",
    "    print(classification_report(y_val,predictions))\n",
    "    print(\"Confusion Matrix:\\n\")\n",
    "    ConfusionMatrixDisplay.from_estimator(model,X_val,y_val)\n",
    "    plt.show()\n",
    "    \n",
    "    \n",
    "    return time_taken,accuracy"
   ]
  },
  {
   "cell_type": "code",
   "execution_count": 47,
   "id": "21ba51fc",
   "metadata": {},
   "outputs": [],
   "source": [
    "from sklearn.linear_model import LogisticRegression"
   ]
  },
  {
   "cell_type": "code",
   "execution_count": 48,
   "id": "0d20dd58",
   "metadata": {},
   "outputs": [
    {
     "name": "stdout",
     "output_type": "stream",
     "text": [
      "Default Log Model:\n",
      "\n",
      "Time taken:  0.2741353511810303\n",
      "Test size: 2421\n",
      "Total Accuracy:  0.5059892606361008\n",
      "Classification Report:\n",
      "\n",
      "              precision    recall  f1-score   support\n",
      "\n",
      "           A       0.42      0.47      0.44       597\n",
      "           B       0.40      0.16      0.23       552\n",
      "           C       0.48      0.62      0.54       580\n",
      "           D       0.64      0.72      0.68       692\n",
      "\n",
      "    accuracy                           0.51      2421\n",
      "   macro avg       0.48      0.49      0.47      2421\n",
      "weighted avg       0.49      0.51      0.48      2421\n",
      "\n",
      "Confusion Matrix:\n",
      "\n"
     ]
    },
    {
     "data": {
      "image/png": "[encoded data removed]",
      "text/plain": [
       "<Figure size 432x288 with 2 Axes>"
      ]
     },
     "metadata": {
      "needs_background": "light"
     },
     "output_type": "display_data"
    }
   ],
   "source": [
    "default_log_model = LogisticRegression()\n",
    "print(\"Default Log Model:\\n\")\n",
    "val1 = train_test_model(default_log_model,scaled_X_train,y_train,scaled_X_val,y_val)"
   ]
  },
  {
   "cell_type": "code",
   "execution_count": 49,
   "id": "1d17d2e5",
   "metadata": {},
   "outputs": [],
   "source": [
    "from sklearn.neighbors import KNeighborsClassifier"
   ]
  },
  {
   "cell_type": "code",
   "execution_count": 50,
   "id": "941ca76b",
   "metadata": {},
   "outputs": [
    {
     "name": "stdout",
     "output_type": "stream",
     "text": [
      "Default KNN Model:\n",
      "\n",
      "Time taken:  0.003623485565185547\n",
      "Test size: 2421\n",
      "Total Accuracy:  0.46716232961586124\n",
      "Classification Report:\n",
      "\n",
      "              precision    recall  f1-score   support\n",
      "\n",
      "           A       0.36      0.41      0.38       597\n",
      "           B       0.34      0.33      0.34       552\n",
      "           C       0.50      0.47      0.49       580\n",
      "           D       0.65      0.62      0.63       692\n",
      "\n",
      "    accuracy                           0.47      2421\n",
      "   macro avg       0.46      0.46      0.46      2421\n",
      "weighted avg       0.47      0.47      0.47      2421\n",
      "\n",
      "Confusion Matrix:\n",
      "\n"
     ]
    },
    {
     "data": {
      "image/png": "[encoded data removed]",
      "text/plain": [
       "<Figure size 432x288 with 2 Axes>"
      ]
     },
     "metadata": {
      "needs_background": "light"
     },
     "output_type": "display_data"
    }
   ],
   "source": [
    "default_KNN_model = KNeighborsClassifier()\n",
    "print(\"Default KNN Model:\\n\")\n",
    "val2 = train_test_model(default_KNN_model,scaled_X_train,y_train,scaled_X_val,y_val)"
   ]
  },
  {
   "cell_type": "code",
   "execution_count": 51,
   "id": "7ea449ca",
   "metadata": {},
   "outputs": [],
   "source": [
    "from sklearn.tree import DecisionTreeClassifier"
   ]
  },
  {
   "cell_type": "code",
   "execution_count": 52,
   "id": "5485f9b0",
   "metadata": {},
   "outputs": [
    {
     "name": "stdout",
     "output_type": "stream",
     "text": [
      "Default Decision Tree Model:\n",
      "\n",
      "Time taken:  0.05291748046875\n",
      "Test size: 2421\n",
      "Total Accuracy:  0.4382486575795126\n",
      "Classification Report:\n",
      "\n",
      "              precision    recall  f1-score   support\n",
      "\n",
      "           A       0.35      0.36      0.36       597\n",
      "           B       0.34      0.36      0.35       552\n",
      "           C       0.45      0.42      0.43       580\n",
      "           D       0.60      0.58      0.59       692\n",
      "\n",
      "    accuracy                           0.44      2421\n",
      "   macro avg       0.43      0.43      0.43      2421\n",
      "weighted avg       0.44      0.44      0.44      2421\n",
      "\n",
      "Confusion Matrix:\n",
      "\n"
     ]
    },
    {
     "data": {
      "image/png": "[encoded data removed]",
      "text/plain": [
       "<Figure size 432x288 with 2 Axes>"
      ]
     },
     "metadata": {
      "needs_background": "light"
     },
     "output_type": "display_data"
    },
    {
     "name": "stdout",
     "output_type": "stream",
     "text": [
      "Feature Importances:\n",
      " [0.36555857 0.14107736 0.05724834 0.11438543 0.04038595 0.03310325\n",
      " 0.03587035 0.01917098 0.01230625 0.01600742 0.01486338 0.0187807\n",
      " 0.00850117 0.00915599 0.01077763 0.0064692  0.01239749 0.0178935\n",
      " 0.02308276 0.00413005 0.02857573 0.01025851]\n"
     ]
    }
   ],
   "source": [
    "default_decision_tree = DecisionTreeClassifier()\n",
    "print(\"Default Decision Tree Model:\\n\")\n",
    "val3 = train_test_model(default_decision_tree,scaled_X_train,y_train,scaled_X_val,y_val)\n",
    "print('Feature Importances:\\n',default_decision_tree.feature_importances_)"
   ]
  },
  {
   "cell_type": "code",
   "execution_count": 53,
   "id": "6b49c093",
   "metadata": {},
   "outputs": [],
   "source": [
    "from sklearn.ensemble import RandomForestClassifier"
   ]
  },
  {
   "cell_type": "code",
   "execution_count": 54,
   "id": "0c052f88",
   "metadata": {},
   "outputs": [
    {
     "name": "stdout",
     "output_type": "stream",
     "text": [
      "Default Random Forest Model:\n",
      "\n",
      "Time taken:  1.3455696105957031\n",
      "Test size: 2421\n",
      "Total Accuracy:  0.4857496902106567\n",
      "Classification Report:\n",
      "\n",
      "              precision    recall  f1-score   support\n",
      "\n",
      "           A       0.40      0.37      0.39       597\n",
      "           B       0.37      0.35      0.36       552\n",
      "           C       0.50      0.48      0.49       580\n",
      "           D       0.61      0.70      0.65       692\n",
      "\n",
      "    accuracy                           0.49      2421\n",
      "   macro avg       0.47      0.47      0.47      2421\n",
      "weighted avg       0.48      0.49      0.48      2421\n",
      "\n",
      "Confusion Matrix:\n",
      "\n"
     ]
    },
    {
     "data": {
      "image/png": "[encoded data removed]",
      "text/plain": [
       "<Figure size 432x288 with 2 Axes>"
      ]
     },
     "metadata": {
      "needs_background": "light"
     },
     "output_type": "display_data"
    },
    {
     "name": "stdout",
     "output_type": "stream",
     "text": [
      "Feature Importances:\n",
      " [0.36014331 0.14555284 0.05451843 0.11555594 0.03720066 0.02889341\n",
      " 0.04063917 0.01823352 0.01803314 0.0210122  0.01174254 0.04135402\n",
      " 0.01001283 0.01006967 0.01251199 0.00679168 0.00961293 0.01355629\n",
      " 0.01510962 0.00350998 0.01923793 0.00670791]\n"
     ]
    }
   ],
   "source": [
    "default_random_forest = RandomForestClassifier()\n",
    "print(\"Default Random Forest Model:\\n\")\n",
    "val4 = train_test_model(default_random_forest,scaled_X_train,y_train,scaled_X_val,y_val)\n",
    "print('Feature Importances:\\n',default_random_forest.feature_importances_)"
   ]
  },
  {
   "cell_type": "code",
   "execution_count": 55,
   "id": "b9f8be5d",
   "metadata": {},
   "outputs": [],
   "source": [
    "from sklearn.model_selection import GridSearchCV"
   ]
  },
  {
   "cell_type": "code",
   "execution_count": 56,
   "id": "5ed2f9cb",
   "metadata": {},
   "outputs": [],
   "source": [
    "from warnings import simplefilter\n",
    "\n",
    "# ignore all warnings\n",
    "simplefilter(action='ignore')"
   ]
  },
  {
   "cell_type": "code",
   "execution_count": 57,
   "id": "d3ac07ad",
   "metadata": {},
   "outputs": [
    {
     "name": "stdout",
     "output_type": "stream",
     "text": [
      "Cross validated Log Model:\n",
      "\n",
      "Time taken:  617.1937117576599\n",
      "Test size: 2421\n",
      "Total Accuracy:  0.5055762081784386\n",
      "Classification Report:\n",
      "\n",
      "              precision    recall  f1-score   support\n",
      "\n",
      "           A       0.42      0.47      0.44       597\n",
      "           B       0.40      0.16      0.22       552\n",
      "           C       0.48      0.62      0.54       580\n",
      "           D       0.64      0.72      0.68       692\n",
      "\n",
      "    accuracy                           0.51      2421\n",
      "   macro avg       0.48      0.49      0.47      2421\n",
      "weighted avg       0.49      0.51      0.48      2421\n",
      "\n",
      "Confusion Matrix:\n",
      "\n"
     ]
    },
    {
     "data": {
      "image/png": "[encoded data removed]",
      "text/plain": [
       "<Figure size 432x288 with 2 Axes>"
      ]
     },
     "metadata": {
      "needs_background": "light"
     },
     "output_type": "display_data"
    }
   ],
   "source": [
    "base_log_model = LogisticRegression(solver='saga',penalty='elasticnet',max_iter = 1000)\n",
    "param_grid = {\n",
    "    'l1_ratio':np.linspace(0,1,10),\n",
    "    'C':np.logspace(0,10,10)\n",
    "}\n",
    "grid_model = GridSearchCV(base_log_model,param_grid)\n",
    "print(\"Cross validated Log Model:\\n\")\n",
    "val5 = train_test_model(grid_model,scaled_X_train,y_train,scaled_X_val,y_val)"
   ]
  },
  {
   "cell_type": "code",
   "execution_count": 58,
   "id": "786f63e8",
   "metadata": {},
   "outputs": [
    {
     "data": {
      "text/plain": [
       "{'C': 1.0, 'l1_ratio': 1.0}"
      ]
     },
     "execution_count": 58,
     "metadata": {},
     "output_type": "execute_result"
    }
   ],
   "source": [
    "grid_model.best_params_"
   ]
  },
  {
   "cell_type": "code",
   "execution_count": 59,
   "id": "5ece1ec0",
   "metadata": {},
   "outputs": [],
   "source": [
    "from sklearn.svm import SVC"
   ]
  },
  {
   "cell_type": "code",
   "execution_count": 60,
   "id": "2e16d40a",
   "metadata": {},
   "outputs": [
    {
     "name": "stdout",
     "output_type": "stream",
     "text": [
      "SVM(with CV): \n",
      "\n",
      "Time taken:  206.82418966293335\n",
      "Test size: 2421\n",
      "Total Accuracy:  0.5072284180090871\n",
      "Classification Report:\n",
      "\n",
      "              precision    recall  f1-score   support\n",
      "\n",
      "           A       0.41      0.42      0.41       597\n",
      "           B       0.38      0.33      0.35       552\n",
      "           C       0.55      0.51      0.53       580\n",
      "           D       0.62      0.73      0.67       692\n",
      "\n",
      "    accuracy                           0.51      2421\n",
      "   macro avg       0.49      0.50      0.49      2421\n",
      "weighted avg       0.50      0.51      0.50      2421\n",
      "\n",
      "Confusion Matrix:\n",
      "\n"
     ]
    },
    {
     "data": {
      "image/png": "[encoded data removed]",
      "text/plain": [
       "<Figure size 432x288 with 2 Axes>"
      ]
     },
     "metadata": {
      "needs_background": "light"
     },
     "output_type": "display_data"
    }
   ],
   "source": [
    "base_svc = SVC(kernel = 'rbf')\n",
    "param_grid = {\n",
    "    'C':[0.01,0.1,1,10,100]\n",
    "}\n",
    "grid_model_2 = GridSearchCV(base_svc,param_grid)\n",
    "print('SVM(with CV): \\n')\n",
    "val6 = train_test_model(grid_model_2,scaled_X_train,y_train,scaled_X_val,y_val)\n"
   ]
  },
  {
   "cell_type": "code",
   "execution_count": 61,
   "id": "035e5516",
   "metadata": {},
   "outputs": [
    {
     "data": {
      "text/plain": [
       "{'C': 1}"
      ]
     },
     "execution_count": 61,
     "metadata": {},
     "output_type": "execute_result"
    }
   ],
   "source": [
    "grid_model_2.best_params_"
   ]
  },
  {
   "cell_type": "code",
   "execution_count": 62,
   "id": "74e7ce64",
   "metadata": {},
   "outputs": [],
   "source": [
    "from sklearn.ensemble import GradientBoostingClassifier"
   ]
  },
  {
   "cell_type": "code",
   "execution_count": 63,
   "id": "56926df2",
   "metadata": {},
   "outputs": [
    {
     "name": "stdout",
     "output_type": "stream",
     "text": [
      "Gradient Boosting: \n",
      "\n",
      "Time taken:  369.37074184417725\n",
      "Test size: 2421\n",
      "Total Accuracy:  0.530359355638166\n",
      "Classification Report:\n",
      "\n",
      "              precision    recall  f1-score   support\n",
      "\n",
      "           A       0.45      0.46      0.45       597\n",
      "           B       0.42      0.34      0.37       552\n",
      "           C       0.55      0.56      0.55       580\n",
      "           D       0.64      0.73      0.68       692\n",
      "\n",
      "    accuracy                           0.53      2421\n",
      "   macro avg       0.52      0.52      0.52      2421\n",
      "weighted avg       0.52      0.53      0.52      2421\n",
      "\n",
      "Confusion Matrix:\n",
      "\n"
     ]
    },
    {
     "data": {
      "image/png": "[encoded data removed]",
      "text/plain": [
       "<Figure size 432x288 with 2 Axes>"
      ]
     },
     "metadata": {
      "needs_background": "light"
     },
     "output_type": "display_data"
    }
   ],
   "source": [
    "gb_model = GradientBoostingClassifier()\n",
    "param_grid = {\n",
    "    'n_estimators':[50,100],\n",
    "    'learning_rate':[0.05,0.1,0.2],\n",
    "    'max_depth':[3,4,5]\n",
    "}\n",
    "grid_model_3 = GridSearchCV(gb_model,param_grid)\n",
    "print('Gradient Boosting: \\n')\n",
    "val7 = train_test_model(grid_model_3,scaled_X_train,y_train,scaled_X_val,y_val)\n"
   ]
  },
  {
   "cell_type": "code",
   "execution_count": 64,
   "id": "54a578b6",
   "metadata": {},
   "outputs": [
    {
     "data": {
      "text/plain": [
       "{'learning_rate': 0.1, 'max_depth': 3, 'n_estimators': 100}"
      ]
     },
     "execution_count": 64,
     "metadata": {},
     "output_type": "execute_result"
    }
   ],
   "source": [
    "grid_model_3.best_params_"
   ]
  },
  {
   "cell_type": "code",
   "execution_count": 65,
   "id": "09639449",
   "metadata": {},
   "outputs": [],
   "source": [
    "from sklearn.ensemble import AdaBoostClassifier"
   ]
  },
  {
   "cell_type": "code",
   "execution_count": 66,
   "id": "c1e792a3",
   "metadata": {},
   "outputs": [
    {
     "name": "stdout",
     "output_type": "stream",
     "text": [
      "AdaBoosting: \n",
      "\n",
      "Time taken:  36.381497621536255\n",
      "Test size: 2421\n",
      "Total Accuracy:  0.5097067327550598\n",
      "Classification Report:\n",
      "\n",
      "              precision    recall  f1-score   support\n",
      "\n",
      "           A       0.43      0.52      0.47       597\n",
      "           B       0.39      0.24      0.30       552\n",
      "           C       0.49      0.57      0.53       580\n",
      "           D       0.68      0.66      0.67       692\n",
      "\n",
      "    accuracy                           0.51      2421\n",
      "   macro avg       0.50      0.50      0.49      2421\n",
      "weighted avg       0.51      0.51      0.50      2421\n",
      "\n",
      "Confusion Matrix:\n",
      "\n"
     ]
    },
    {
     "data": {
      "image/png": "[encoded data removed]",
      "text/plain": [
       "<Figure size 432x288 with 2 Axes>"
      ]
     },
     "metadata": {
      "needs_background": "light"
     },
     "output_type": "display_data"
    }
   ],
   "source": [
    "ada_model = AdaBoostClassifier()\n",
    "param_grid = {\n",
    "    'n_estimators':[50,100],\n",
    "    'learning_rate':[0.05,0.1,0.2]\n",
    "}\n",
    "grid_model_4 = GridSearchCV(ada_model,param_grid)\n",
    "print('AdaBoosting: \\n')\n",
    "val8 = train_test_model(grid_model_4,scaled_X_train,y_train,scaled_X_val,y_val)\n"
   ]
  },
  {
   "cell_type": "code",
   "execution_count": 67,
   "id": "fd049612",
   "metadata": {},
   "outputs": [
    {
     "data": {
      "text/plain": [
       "{'learning_rate': 0.2, 'n_estimators': 100}"
      ]
     },
     "execution_count": 67,
     "metadata": {},
     "output_type": "execute_result"
    }
   ],
   "source": [
    "grid_model_4.best_params_"
   ]
  },
  {
   "cell_type": "code",
   "execution_count": 68,
   "id": "6cda0264",
   "metadata": {},
   "outputs": [
    {
     "data": {
      "text/html": [
       "<div>\n",
       "<style scoped>\n",
       "    .dataframe tbody tr th:only-of-type {\n",
       "        vertical-align: middle;\n",
       "    }\n",
       "\n",
       "    .dataframe tbody tr th {\n",
       "        vertical-align: top;\n",
       "    }\n",
       "\n",
       "    .dataframe thead th {\n",
       "        text-align: right;\n",
       "    }\n",
       "</style>\n",
       "<table border=\"1\" class=\"dataframe\">\n",
       "  <thead>\n",
       "    <tr style=\"text-align: right;\">\n",
       "      <th></th>\n",
       "      <th>Time</th>\n",
       "      <th>Accuracy</th>\n",
       "    </tr>\n",
       "  </thead>\n",
       "  <tbody>\n",
       "    <tr>\n",
       "      <th>KNN</th>\n",
       "      <td>0.003623</td>\n",
       "      <td>0.467162</td>\n",
       "    </tr>\n",
       "    <tr>\n",
       "      <th>Decision Tree</th>\n",
       "      <td>0.052917</td>\n",
       "      <td>0.438249</td>\n",
       "    </tr>\n",
       "    <tr>\n",
       "      <th>Logistic</th>\n",
       "      <td>0.274135</td>\n",
       "      <td>0.505989</td>\n",
       "    </tr>\n",
       "    <tr>\n",
       "      <th>Random Forest</th>\n",
       "      <td>1.345570</td>\n",
       "      <td>0.485750</td>\n",
       "    </tr>\n",
       "    <tr>\n",
       "      <th>AdaBoosting</th>\n",
       "      <td>36.381498</td>\n",
       "      <td>0.509707</td>\n",
       "    </tr>\n",
       "    <tr>\n",
       "      <th>SVM CV</th>\n",
       "      <td>206.824190</td>\n",
       "      <td>0.507228</td>\n",
       "    </tr>\n",
       "    <tr>\n",
       "      <th>Gradient Boosting</th>\n",
       "      <td>369.370742</td>\n",
       "      <td>0.530359</td>\n",
       "    </tr>\n",
       "    <tr>\n",
       "      <th>Logistic CV</th>\n",
       "      <td>617.193712</td>\n",
       "      <td>0.505576</td>\n",
       "    </tr>\n",
       "  </tbody>\n",
       "</table>\n",
       "</div>"
      ],
      "text/plain": [
       "                         Time  Accuracy\n",
       "KNN                  0.003623  0.467162\n",
       "Decision Tree        0.052917  0.438249\n",
       "Logistic             0.274135  0.505989\n",
       "Random Forest        1.345570  0.485750\n",
       "AdaBoosting         36.381498  0.509707\n",
       "SVM CV             206.824190  0.507228\n",
       "Gradient Boosting  369.370742  0.530359\n",
       "Logistic CV        617.193712  0.505576"
      ]
     },
     "execution_count": 68,
     "metadata": {},
     "output_type": "execute_result"
    }
   ],
   "source": [
    "out = pd.DataFrame([val1,val2,val3,val4,val5,val6,val7,val8],\n",
    "                   index = ['Logistic','KNN','Decision Tree','Random Forest','Logistic CV','SVM CV','Gradient Boosting','AdaBoosting'],\n",
    "                  columns=['Time','Accuracy'])\n",
    "\n",
    "out.sort_values('Time')"
   ]
  },
  {
   "cell_type": "code",
   "execution_count": null,
   "id": "51f70a3b",
   "metadata": {},
   "outputs": [],
   "source": []
  }
 ],
 "metadata": {
  "kernelspec": {
   "display_name": "Python 3 (ipykernel)",
   "language": "python",
   "name": "python3"
  },
  "language_info": {
   "codemirror_mode": {
    "name": "ipython",
    "version": 3
   },
   "file_extension": ".py",
   "mimetype": "text/x-python",
   "name": "python",
   "nbconvert_exporter": "python",
   "pygments_lexer": "ipython3",
   "version": "3.9.12"
  }
 },
 "nbformat": 4,
 "nbformat_minor": 5
}
