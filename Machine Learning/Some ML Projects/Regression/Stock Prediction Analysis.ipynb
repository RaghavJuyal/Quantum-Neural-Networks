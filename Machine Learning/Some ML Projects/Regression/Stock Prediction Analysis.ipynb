{
 "cells": [
  {
   "cell_type": "code",
   "execution_count": 1,
   "id": "a7b402cf",
   "metadata": {},
   "outputs": [],
   "source": [
    "import numpy as np\n",
    "import pandas as pd\n",
    "import matplotlib.pyplot as plt\n",
    "import seaborn as sns"
   ]
  },
  {
   "cell_type": "code",
   "execution_count": 2,
   "id": "b08e30db",
   "metadata": {},
   "outputs": [],
   "source": [
    "stock_prediction = pd.read_csv('C:\\\\Users\\\\Admin\\\\Desktop\\\\Projects(FIN)\\\\Project 1\\\\Data\\\\GoogleStockPrediction.csv')\n",
    "stock_prediction['date'] = pd.to_datetime(stock_prediction['date'])"
   ]
  },
  {
   "cell_type": "code",
   "execution_count": 3,
   "id": "d36f3734",
   "metadata": {},
   "outputs": [
    {
     "data": {
      "text/html": [
       "<div>\n",
       "<style scoped>\n",
       "    .dataframe tbody tr th:only-of-type {\n",
       "        vertical-align: middle;\n",
       "    }\n",
       "\n",
       "    .dataframe tbody tr th {\n",
       "        vertical-align: top;\n",
       "    }\n",
       "\n",
       "    .dataframe thead th {\n",
       "        text-align: right;\n",
       "    }\n",
       "</style>\n",
       "<table border=\"1\" class=\"dataframe\">\n",
       "  <thead>\n",
       "    <tr style=\"text-align: right;\">\n",
       "      <th></th>\n",
       "      <th>symbol</th>\n",
       "      <th>date</th>\n",
       "      <th>close</th>\n",
       "      <th>high</th>\n",
       "      <th>low</th>\n",
       "      <th>open</th>\n",
       "      <th>volume</th>\n",
       "      <th>adjClose</th>\n",
       "      <th>adjHigh</th>\n",
       "      <th>adjLow</th>\n",
       "      <th>adjOpen</th>\n",
       "      <th>adjVolume</th>\n",
       "      <th>divCash</th>\n",
       "      <th>splitFactor</th>\n",
       "    </tr>\n",
       "  </thead>\n",
       "  <tbody>\n",
       "    <tr>\n",
       "      <th>0</th>\n",
       "      <td>GOOG</td>\n",
       "      <td>2016-06-14 00:00:00+00:00</td>\n",
       "      <td>718.27</td>\n",
       "      <td>722.47</td>\n",
       "      <td>713.1200</td>\n",
       "      <td>716.48</td>\n",
       "      <td>1306065</td>\n",
       "      <td>718.27</td>\n",
       "      <td>722.47</td>\n",
       "      <td>713.1200</td>\n",
       "      <td>716.48</td>\n",
       "      <td>1306065</td>\n",
       "      <td>0.0</td>\n",
       "      <td>1.0</td>\n",
       "    </tr>\n",
       "    <tr>\n",
       "      <th>1</th>\n",
       "      <td>GOOG</td>\n",
       "      <td>2016-06-15 00:00:00+00:00</td>\n",
       "      <td>718.92</td>\n",
       "      <td>722.98</td>\n",
       "      <td>717.3100</td>\n",
       "      <td>719.00</td>\n",
       "      <td>1214517</td>\n",
       "      <td>718.92</td>\n",
       "      <td>722.98</td>\n",
       "      <td>717.3100</td>\n",
       "      <td>719.00</td>\n",
       "      <td>1214517</td>\n",
       "      <td>0.0</td>\n",
       "      <td>1.0</td>\n",
       "    </tr>\n",
       "    <tr>\n",
       "      <th>2</th>\n",
       "      <td>GOOG</td>\n",
       "      <td>2016-06-16 00:00:00+00:00</td>\n",
       "      <td>710.36</td>\n",
       "      <td>716.65</td>\n",
       "      <td>703.2600</td>\n",
       "      <td>714.91</td>\n",
       "      <td>1982471</td>\n",
       "      <td>710.36</td>\n",
       "      <td>716.65</td>\n",
       "      <td>703.2600</td>\n",
       "      <td>714.91</td>\n",
       "      <td>1982471</td>\n",
       "      <td>0.0</td>\n",
       "      <td>1.0</td>\n",
       "    </tr>\n",
       "    <tr>\n",
       "      <th>3</th>\n",
       "      <td>GOOG</td>\n",
       "      <td>2016-06-17 00:00:00+00:00</td>\n",
       "      <td>691.72</td>\n",
       "      <td>708.82</td>\n",
       "      <td>688.4515</td>\n",
       "      <td>708.65</td>\n",
       "      <td>3402357</td>\n",
       "      <td>691.72</td>\n",
       "      <td>708.82</td>\n",
       "      <td>688.4515</td>\n",
       "      <td>708.65</td>\n",
       "      <td>3402357</td>\n",
       "      <td>0.0</td>\n",
       "      <td>1.0</td>\n",
       "    </tr>\n",
       "    <tr>\n",
       "      <th>4</th>\n",
       "      <td>GOOG</td>\n",
       "      <td>2016-06-20 00:00:00+00:00</td>\n",
       "      <td>693.71</td>\n",
       "      <td>702.48</td>\n",
       "      <td>693.4100</td>\n",
       "      <td>698.77</td>\n",
       "      <td>2082538</td>\n",
       "      <td>693.71</td>\n",
       "      <td>702.48</td>\n",
       "      <td>693.4100</td>\n",
       "      <td>698.77</td>\n",
       "      <td>2082538</td>\n",
       "      <td>0.0</td>\n",
       "      <td>1.0</td>\n",
       "    </tr>\n",
       "  </tbody>\n",
       "</table>\n",
       "</div>"
      ],
      "text/plain": [
       "  symbol                      date   close    high       low    open   volume  \\\n",
       "0   GOOG 2016-06-14 00:00:00+00:00  718.27  722.47  713.1200  716.48  1306065   \n",
       "1   GOOG 2016-06-15 00:00:00+00:00  718.92  722.98  717.3100  719.00  1214517   \n",
       "2   GOOG 2016-06-16 00:00:00+00:00  710.36  716.65  703.2600  714.91  1982471   \n",
       "3   GOOG 2016-06-17 00:00:00+00:00  691.72  708.82  688.4515  708.65  3402357   \n",
       "4   GOOG 2016-06-20 00:00:00+00:00  693.71  702.48  693.4100  698.77  2082538   \n",
       "\n",
       "   adjClose  adjHigh    adjLow  adjOpen  adjVolume  divCash  splitFactor  \n",
       "0    718.27   722.47  713.1200   716.48    1306065      0.0          1.0  \n",
       "1    718.92   722.98  717.3100   719.00    1214517      0.0          1.0  \n",
       "2    710.36   716.65  703.2600   714.91    1982471      0.0          1.0  \n",
       "3    691.72   708.82  688.4515   708.65    3402357      0.0          1.0  \n",
       "4    693.71   702.48  693.4100   698.77    2082538      0.0          1.0  "
      ]
     },
     "execution_count": 3,
     "metadata": {},
     "output_type": "execute_result"
    }
   ],
   "source": [
    "stock_prediction.head()"
   ]
  },
  {
   "cell_type": "code",
   "execution_count": 4,
   "id": "1bb84fa8",
   "metadata": {},
   "outputs": [
    {
     "name": "stdout",
     "output_type": "stream",
     "text": [
      "<class 'pandas.core.frame.DataFrame'>\n",
      "RangeIndex: 1258 entries, 0 to 1257\n",
      "Data columns (total 14 columns):\n",
      " #   Column       Non-Null Count  Dtype              \n",
      "---  ------       --------------  -----              \n",
      " 0   symbol       1258 non-null   object             \n",
      " 1   date         1258 non-null   datetime64[ns, UTC]\n",
      " 2   close        1258 non-null   float64            \n",
      " 3   high         1258 non-null   float64            \n",
      " 4   low          1258 non-null   float64            \n",
      " 5   open         1258 non-null   float64            \n",
      " 6   volume       1258 non-null   int64              \n",
      " 7   adjClose     1258 non-null   float64            \n",
      " 8   adjHigh      1258 non-null   float64            \n",
      " 9   adjLow       1258 non-null   float64            \n",
      " 10  adjOpen      1258 non-null   float64            \n",
      " 11  adjVolume    1258 non-null   int64              \n",
      " 12  divCash      1258 non-null   float64            \n",
      " 13  splitFactor  1258 non-null   float64            \n",
      "dtypes: datetime64[ns, UTC](1), float64(10), int64(2), object(1)\n",
      "memory usage: 137.7+ KB\n"
     ]
    }
   ],
   "source": [
    "stock_prediction.info()"
   ]
  },
  {
   "cell_type": "code",
   "execution_count": 5,
   "id": "a69f70f3",
   "metadata": {},
   "outputs": [
    {
     "data": {
      "text/html": [
       "<div>\n",
       "<style scoped>\n",
       "    .dataframe tbody tr th:only-of-type {\n",
       "        vertical-align: middle;\n",
       "    }\n",
       "\n",
       "    .dataframe tbody tr th {\n",
       "        vertical-align: top;\n",
       "    }\n",
       "\n",
       "    .dataframe thead th {\n",
       "        text-align: right;\n",
       "    }\n",
       "</style>\n",
       "<table border=\"1\" class=\"dataframe\">\n",
       "  <thead>\n",
       "    <tr style=\"text-align: right;\">\n",
       "      <th></th>\n",
       "      <th>close</th>\n",
       "      <th>open</th>\n",
       "    </tr>\n",
       "  </thead>\n",
       "  <tbody>\n",
       "    <tr>\n",
       "      <th>close</th>\n",
       "      <td>1.000000</td>\n",
       "      <td>0.999083</td>\n",
       "    </tr>\n",
       "    <tr>\n",
       "      <th>high</th>\n",
       "      <td>0.999528</td>\n",
       "      <td>0.999575</td>\n",
       "    </tr>\n",
       "    <tr>\n",
       "      <th>low</th>\n",
       "      <td>0.999586</td>\n",
       "      <td>0.999499</td>\n",
       "    </tr>\n",
       "    <tr>\n",
       "      <th>open</th>\n",
       "      <td>0.999083</td>\n",
       "      <td>1.000000</td>\n",
       "    </tr>\n",
       "    <tr>\n",
       "      <th>volume</th>\n",
       "      <td>-0.025574</td>\n",
       "      <td>-0.021381</td>\n",
       "    </tr>\n",
       "    <tr>\n",
       "      <th>adjClose</th>\n",
       "      <td>1.000000</td>\n",
       "      <td>0.999083</td>\n",
       "    </tr>\n",
       "    <tr>\n",
       "      <th>adjHigh</th>\n",
       "      <td>0.999528</td>\n",
       "      <td>0.999575</td>\n",
       "    </tr>\n",
       "    <tr>\n",
       "      <th>adjLow</th>\n",
       "      <td>0.999586</td>\n",
       "      <td>0.999499</td>\n",
       "    </tr>\n",
       "    <tr>\n",
       "      <th>adjOpen</th>\n",
       "      <td>0.999083</td>\n",
       "      <td>1.000000</td>\n",
       "    </tr>\n",
       "    <tr>\n",
       "      <th>adjVolume</th>\n",
       "      <td>-0.025574</td>\n",
       "      <td>-0.021381</td>\n",
       "    </tr>\n",
       "    <tr>\n",
       "      <th>divCash</th>\n",
       "      <td>NaN</td>\n",
       "      <td>NaN</td>\n",
       "    </tr>\n",
       "    <tr>\n",
       "      <th>splitFactor</th>\n",
       "      <td>NaN</td>\n",
       "      <td>NaN</td>\n",
       "    </tr>\n",
       "  </tbody>\n",
       "</table>\n",
       "</div>"
      ],
      "text/plain": [
       "                close      open\n",
       "close        1.000000  0.999083\n",
       "high         0.999528  0.999575\n",
       "low          0.999586  0.999499\n",
       "open         0.999083  1.000000\n",
       "volume      -0.025574 -0.021381\n",
       "adjClose     1.000000  0.999083\n",
       "adjHigh      0.999528  0.999575\n",
       "adjLow       0.999586  0.999499\n",
       "adjOpen      0.999083  1.000000\n",
       "adjVolume   -0.025574 -0.021381\n",
       "divCash           NaN       NaN\n",
       "splitFactor       NaN       NaN"
      ]
     },
     "execution_count": 5,
     "metadata": {},
     "output_type": "execute_result"
    }
   ],
   "source": [
    "stock_prediction.corr()[['close','open']]"
   ]
  },
  {
   "cell_type": "code",
   "execution_count": 109,
   "id": "72090975",
   "metadata": {},
   "outputs": [
    {
     "data": {
      "text/html": [
       "<div>\n",
       "<style scoped>\n",
       "    .dataframe tbody tr th:only-of-type {\n",
       "        vertical-align: middle;\n",
       "    }\n",
       "\n",
       "    .dataframe tbody tr th {\n",
       "        vertical-align: top;\n",
       "    }\n",
       "\n",
       "    .dataframe thead th {\n",
       "        text-align: right;\n",
       "    }\n",
       "</style>\n",
       "<table border=\"1\" class=\"dataframe\">\n",
       "  <thead>\n",
       "    <tr style=\"text-align: right;\">\n",
       "      <th></th>\n",
       "      <th>symbol</th>\n",
       "      <th>date</th>\n",
       "      <th>close</th>\n",
       "      <th>high</th>\n",
       "      <th>low</th>\n",
       "      <th>open</th>\n",
       "      <th>volume</th>\n",
       "      <th>adjClose</th>\n",
       "      <th>adjHigh</th>\n",
       "      <th>adjLow</th>\n",
       "      <th>adjOpen</th>\n",
       "      <th>adjVolume</th>\n",
       "      <th>divCash</th>\n",
       "      <th>splitFactor</th>\n",
       "    </tr>\n",
       "  </thead>\n",
       "  <tbody>\n",
       "  </tbody>\n",
       "</table>\n",
       "</div>"
      ],
      "text/plain": [
       "Empty DataFrame\n",
       "Columns: [symbol, date, close, high, low, open, volume, adjClose, adjHigh, adjLow, adjOpen, adjVolume, divCash, splitFactor]\n",
       "Index: []"
      ]
     },
     "execution_count": 109,
     "metadata": {},
     "output_type": "execute_result"
    }
   ],
   "source": [
    "stock_prediction[stock_prediction['close']!=stock_prediction['adjClose']]"
   ]
  },
  {
   "cell_type": "code",
   "execution_count": 110,
   "id": "550c4adf",
   "metadata": {},
   "outputs": [
    {
     "data": {
      "text/html": [
       "<div>\n",
       "<style scoped>\n",
       "    .dataframe tbody tr th:only-of-type {\n",
       "        vertical-align: middle;\n",
       "    }\n",
       "\n",
       "    .dataframe tbody tr th {\n",
       "        vertical-align: top;\n",
       "    }\n",
       "\n",
       "    .dataframe thead th {\n",
       "        text-align: right;\n",
       "    }\n",
       "</style>\n",
       "<table border=\"1\" class=\"dataframe\">\n",
       "  <thead>\n",
       "    <tr style=\"text-align: right;\">\n",
       "      <th></th>\n",
       "      <th>symbol</th>\n",
       "      <th>date</th>\n",
       "      <th>close</th>\n",
       "      <th>high</th>\n",
       "      <th>low</th>\n",
       "      <th>open</th>\n",
       "      <th>volume</th>\n",
       "      <th>adjClose</th>\n",
       "      <th>adjHigh</th>\n",
       "      <th>adjLow</th>\n",
       "      <th>adjOpen</th>\n",
       "      <th>adjVolume</th>\n",
       "      <th>divCash</th>\n",
       "      <th>splitFactor</th>\n",
       "    </tr>\n",
       "  </thead>\n",
       "  <tbody>\n",
       "  </tbody>\n",
       "</table>\n",
       "</div>"
      ],
      "text/plain": [
       "Empty DataFrame\n",
       "Columns: [symbol, date, close, high, low, open, volume, adjClose, adjHigh, adjLow, adjOpen, adjVolume, divCash, splitFactor]\n",
       "Index: []"
      ]
     },
     "execution_count": 110,
     "metadata": {},
     "output_type": "execute_result"
    }
   ],
   "source": [
    "stock_prediction[stock_prediction['open']!=stock_prediction['adjOpen']]"
   ]
  },
  {
   "cell_type": "code",
   "execution_count": 111,
   "id": "df9eb880",
   "metadata": {},
   "outputs": [
    {
     "data": {
      "text/html": [
       "<div>\n",
       "<style scoped>\n",
       "    .dataframe tbody tr th:only-of-type {\n",
       "        vertical-align: middle;\n",
       "    }\n",
       "\n",
       "    .dataframe tbody tr th {\n",
       "        vertical-align: top;\n",
       "    }\n",
       "\n",
       "    .dataframe thead th {\n",
       "        text-align: right;\n",
       "    }\n",
       "</style>\n",
       "<table border=\"1\" class=\"dataframe\">\n",
       "  <thead>\n",
       "    <tr style=\"text-align: right;\">\n",
       "      <th></th>\n",
       "      <th>symbol</th>\n",
       "      <th>date</th>\n",
       "      <th>close</th>\n",
       "      <th>high</th>\n",
       "      <th>low</th>\n",
       "      <th>open</th>\n",
       "      <th>volume</th>\n",
       "      <th>adjClose</th>\n",
       "      <th>adjHigh</th>\n",
       "      <th>adjLow</th>\n",
       "      <th>adjOpen</th>\n",
       "      <th>adjVolume</th>\n",
       "      <th>divCash</th>\n",
       "      <th>splitFactor</th>\n",
       "    </tr>\n",
       "  </thead>\n",
       "  <tbody>\n",
       "    <tr>\n",
       "      <th>1024</th>\n",
       "      <td>GOOG</td>\n",
       "      <td>2020-07-09 00:00:00+00:00</td>\n",
       "      <td>1510.99</td>\n",
       "      <td>1522.72</td>\n",
       "      <td>1488.08</td>\n",
       "      <td>1506.45</td>\n",
       "      <td>1423300</td>\n",
       "      <td>1510.99</td>\n",
       "      <td>1522.720</td>\n",
       "      <td>1488.085</td>\n",
       "      <td>1506.45</td>\n",
       "      <td>1423300</td>\n",
       "      <td>0.0</td>\n",
       "      <td>1.0</td>\n",
       "    </tr>\n",
       "    <tr>\n",
       "      <th>1026</th>\n",
       "      <td>GOOG</td>\n",
       "      <td>2020-07-13 00:00:00+00:00</td>\n",
       "      <td>1511.34</td>\n",
       "      <td>1577.13</td>\n",
       "      <td>1505.24</td>\n",
       "      <td>1550.00</td>\n",
       "      <td>1846400</td>\n",
       "      <td>1511.34</td>\n",
       "      <td>1577.132</td>\n",
       "      <td>1505.243</td>\n",
       "      <td>1550.00</td>\n",
       "      <td>1846400</td>\n",
       "      <td>0.0</td>\n",
       "      <td>1.0</td>\n",
       "    </tr>\n",
       "  </tbody>\n",
       "</table>\n",
       "</div>"
      ],
      "text/plain": [
       "     symbol                      date    close     high      low     open  \\\n",
       "1024   GOOG 2020-07-09 00:00:00+00:00  1510.99  1522.72  1488.08  1506.45   \n",
       "1026   GOOG 2020-07-13 00:00:00+00:00  1511.34  1577.13  1505.24  1550.00   \n",
       "\n",
       "       volume  adjClose   adjHigh    adjLow  adjOpen  adjVolume  divCash  \\\n",
       "1024  1423300   1510.99  1522.720  1488.085  1506.45    1423300      0.0   \n",
       "1026  1846400   1511.34  1577.132  1505.243  1550.00    1846400      0.0   \n",
       "\n",
       "      splitFactor  \n",
       "1024          1.0  \n",
       "1026          1.0  "
      ]
     },
     "execution_count": 111,
     "metadata": {},
     "output_type": "execute_result"
    }
   ],
   "source": [
    "stock_prediction[stock_prediction['low']!=stock_prediction['adjLow']]"
   ]
  },
  {
   "cell_type": "code",
   "execution_count": 112,
   "id": "84fea5d2",
   "metadata": {},
   "outputs": [
    {
     "data": {
      "text/html": [
       "<div>\n",
       "<style scoped>\n",
       "    .dataframe tbody tr th:only-of-type {\n",
       "        vertical-align: middle;\n",
       "    }\n",
       "\n",
       "    .dataframe tbody tr th {\n",
       "        vertical-align: top;\n",
       "    }\n",
       "\n",
       "    .dataframe thead th {\n",
       "        text-align: right;\n",
       "    }\n",
       "</style>\n",
       "<table border=\"1\" class=\"dataframe\">\n",
       "  <thead>\n",
       "    <tr style=\"text-align: right;\">\n",
       "      <th></th>\n",
       "      <th>symbol</th>\n",
       "      <th>date</th>\n",
       "      <th>close</th>\n",
       "      <th>high</th>\n",
       "      <th>low</th>\n",
       "      <th>open</th>\n",
       "      <th>volume</th>\n",
       "      <th>adjClose</th>\n",
       "      <th>adjHigh</th>\n",
       "      <th>adjLow</th>\n",
       "      <th>adjOpen</th>\n",
       "      <th>adjVolume</th>\n",
       "      <th>divCash</th>\n",
       "      <th>splitFactor</th>\n",
       "    </tr>\n",
       "  </thead>\n",
       "  <tbody>\n",
       "    <tr>\n",
       "      <th>1026</th>\n",
       "      <td>GOOG</td>\n",
       "      <td>2020-07-13 00:00:00+00:00</td>\n",
       "      <td>1511.34</td>\n",
       "      <td>1577.13</td>\n",
       "      <td>1505.24</td>\n",
       "      <td>1550.0</td>\n",
       "      <td>1846400</td>\n",
       "      <td>1511.34</td>\n",
       "      <td>1577.132</td>\n",
       "      <td>1505.243</td>\n",
       "      <td>1550.0</td>\n",
       "      <td>1846400</td>\n",
       "      <td>0.0</td>\n",
       "      <td>1.0</td>\n",
       "    </tr>\n",
       "  </tbody>\n",
       "</table>\n",
       "</div>"
      ],
      "text/plain": [
       "     symbol                      date    close     high      low    open  \\\n",
       "1026   GOOG 2020-07-13 00:00:00+00:00  1511.34  1577.13  1505.24  1550.0   \n",
       "\n",
       "       volume  adjClose   adjHigh    adjLow  adjOpen  adjVolume  divCash  \\\n",
       "1026  1846400   1511.34  1577.132  1505.243   1550.0    1846400      0.0   \n",
       "\n",
       "      splitFactor  \n",
       "1026          1.0  "
      ]
     },
     "execution_count": 112,
     "metadata": {},
     "output_type": "execute_result"
    }
   ],
   "source": [
    "stock_prediction[stock_prediction['high']!=stock_prediction['adjHigh']]"
   ]
  },
  {
   "cell_type": "code",
   "execution_count": 113,
   "id": "e7b24ecf",
   "metadata": {},
   "outputs": [
    {
     "data": {
      "text/html": [
       "<div>\n",
       "<style scoped>\n",
       "    .dataframe tbody tr th:only-of-type {\n",
       "        vertical-align: middle;\n",
       "    }\n",
       "\n",
       "    .dataframe tbody tr th {\n",
       "        vertical-align: top;\n",
       "    }\n",
       "\n",
       "    .dataframe thead th {\n",
       "        text-align: right;\n",
       "    }\n",
       "</style>\n",
       "<table border=\"1\" class=\"dataframe\">\n",
       "  <thead>\n",
       "    <tr style=\"text-align: right;\">\n",
       "      <th></th>\n",
       "      <th>symbol</th>\n",
       "      <th>date</th>\n",
       "      <th>close</th>\n",
       "      <th>high</th>\n",
       "      <th>low</th>\n",
       "      <th>open</th>\n",
       "      <th>volume</th>\n",
       "      <th>adjClose</th>\n",
       "      <th>adjHigh</th>\n",
       "      <th>adjLow</th>\n",
       "      <th>adjOpen</th>\n",
       "      <th>adjVolume</th>\n",
       "      <th>divCash</th>\n",
       "      <th>splitFactor</th>\n",
       "    </tr>\n",
       "  </thead>\n",
       "  <tbody>\n",
       "  </tbody>\n",
       "</table>\n",
       "</div>"
      ],
      "text/plain": [
       "Empty DataFrame\n",
       "Columns: [symbol, date, close, high, low, open, volume, adjClose, adjHigh, adjLow, adjOpen, adjVolume, divCash, splitFactor]\n",
       "Index: []"
      ]
     },
     "execution_count": 113,
     "metadata": {},
     "output_type": "execute_result"
    }
   ],
   "source": [
    "stock_prediction[stock_prediction['volume']!=stock_prediction['adjVolume']]"
   ]
  },
  {
   "cell_type": "code",
   "execution_count": 114,
   "id": "279e4022",
   "metadata": {},
   "outputs": [
    {
     "data": {
      "text/plain": [
       "array([1.])"
      ]
     },
     "execution_count": 114,
     "metadata": {},
     "output_type": "execute_result"
    }
   ],
   "source": [
    "stock_prediction['splitFactor'].unique()"
   ]
  },
  {
   "cell_type": "code",
   "execution_count": 115,
   "id": "1875652c",
   "metadata": {},
   "outputs": [
    {
     "data": {
      "text/plain": [
       "array([0.])"
      ]
     },
     "execution_count": 115,
     "metadata": {},
     "output_type": "execute_result"
    }
   ],
   "source": [
    "stock_prediction['divCash'].unique()"
   ]
  },
  {
   "cell_type": "code",
   "execution_count": 116,
   "id": "f4e491a3",
   "metadata": {},
   "outputs": [
    {
     "data": {
      "text/plain": [
       "array(['GOOG'], dtype=object)"
      ]
     },
     "execution_count": 116,
     "metadata": {},
     "output_type": "execute_result"
    }
   ],
   "source": [
    "stock_prediction['symbol'].unique()"
   ]
  },
  {
   "cell_type": "code",
   "execution_count": 117,
   "id": "1cf39cbd",
   "metadata": {},
   "outputs": [
    {
     "data": {
      "image/png": "[encoded data removed]",
      "text/plain": [
       "<Figure size 432x288 with 1 Axes>"
      ]
     },
     "metadata": {
      "needs_background": "light"
     },
     "output_type": "display_data"
    }
   ],
   "source": [
    "sns.scatterplot(data = stock_prediction,x ='date', y = 'open')\n",
    "plt.xticks(rotation = 90);"
   ]
  },
  {
   "cell_type": "code",
   "execution_count": 118,
   "id": "3ecc16bf",
   "metadata": {},
   "outputs": [
    {
     "data": {
      "text/plain": [
       "Index(['symbol', 'date', 'close', 'high', 'low', 'open', 'volume', 'adjClose',\n",
       "       'adjHigh', 'adjLow', 'adjOpen', 'adjVolume', 'divCash', 'splitFactor'],\n",
       "      dtype='object')"
      ]
     },
     "execution_count": 118,
     "metadata": {},
     "output_type": "execute_result"
    }
   ],
   "source": [
    "stock_prediction.columns"
   ]
  },
  {
   "cell_type": "code",
   "execution_count": 119,
   "id": "d8ea1b33",
   "metadata": {},
   "outputs": [],
   "source": [
    "X = stock_prediction.drop(['symbol','date','close','open','divCash', 'splitFactor'],axis = 1)\n",
    "y = stock_prediction[['close','open']]"
   ]
  },
  {
   "cell_type": "code",
   "execution_count": 120,
   "id": "2158e3b9",
   "metadata": {},
   "outputs": [],
   "source": [
    "from sklearn.model_selection import train_test_split"
   ]
  },
  {
   "cell_type": "code",
   "execution_count": 121,
   "id": "11deec6f",
   "metadata": {},
   "outputs": [],
   "source": [
    "X_train, X_test, y_train, y_test = train_test_split(X, y, test_size=0.3, random_state=42)"
   ]
  },
  {
   "cell_type": "code",
   "execution_count": 122,
   "id": "1727df92",
   "metadata": {},
   "outputs": [],
   "source": [
    "from sklearn.preprocessing import StandardScaler"
   ]
  },
  {
   "cell_type": "code",
   "execution_count": 123,
   "id": "372016f6",
   "metadata": {},
   "outputs": [],
   "source": [
    "scaler = StandardScaler()\n",
    "scaled_X_train = scaler.fit_transform(X_train)\n",
    "scaled_X_test = scaler.transform(X_test)"
   ]
  },
  {
   "cell_type": "code",
   "execution_count": 124,
   "id": "174551da",
   "metadata": {},
   "outputs": [],
   "source": [
    "from sklearn.metrics import mean_absolute_error, mean_squared_error,r2_score\n",
    "import time"
   ]
  },
  {
   "cell_type": "code",
   "execution_count": 125,
   "id": "6b220df7",
   "metadata": {},
   "outputs": [],
   "source": [
    "def train_test_model(model,X_train,y_train,X_val,y_val):\n",
    "    tic = time.time()\n",
    "    model.fit(X_train,y_train)\n",
    "    toc = time.time()\n",
    "    \n",
    "    predictions = model.predict(X_val)\n",
    "    \n",
    "    time_taken = toc-tic\n",
    "    MAEclose = mean_absolute_error(y_val['close'],predictions[:,0])\n",
    "    MAEpclose = MAEclose/stock_prediction['close'].mean() * 100\n",
    "    MAEopen = mean_absolute_error(y_val['open'],predictions[:,1])\n",
    "    MAEpopen = MAEopen/stock_prediction['open'].mean() * 100\n",
    "    \n",
    "    RMSEclose = np.sqrt(mean_squared_error(y_val['close'],predictions[:,0]))\n",
    "    RMSEpclose = RMSEclose/stock_prediction['close'].std() * 100\n",
    "    RMSEopen = np.sqrt(mean_squared_error(y_val['open'],predictions[:,1]))\n",
    "    RMSEpopen = RMSEopen/stock_prediction['open'].std() * 100\n",
    "    \n",
    "    R2close = r2_score(y_val['close'],predictions[:,0])\n",
    "    R2open = r2_score(y_val['open'],predictions[:,1])\n",
    "    \n",
    "    print('Time taken: ',time_taken)\n",
    "    print('Close:\\n')\n",
    "    print('Mean absolute error: ',MAEclose)\n",
    "    print(\"Mean absolute error percent: \",MAEpclose)\n",
    "    print(\"Root mean squared error: \",RMSEclose)\n",
    "    print(\"Root mean squared error percent: \",RMSEpclose)\n",
    "    print(\"R2 score: \",R2close)\n",
    "    residue1 = y_val['close']-predictions[:,0]\n",
    "    sns.scatterplot(x = y_val['close'],y = residue1,alpha=0.3)\n",
    "    plt.hlines(0,0,y_val['close'].max(),'red','--')\n",
    "    plt.show()\n",
    "    \n",
    "    print('Open:\\n')\n",
    "    print('Mean absolute error: ',MAEopen)\n",
    "    print(\"Mean absolute error percent: \",MAEpopen)\n",
    "    print(\"Root mean squared error: \",RMSEopen)\n",
    "    print(\"Root mean squared error percent: \",RMSEpopen)\n",
    "    print(\"R2 score: \",R2open)\n",
    "    residue2 = y_val['open']-predictions[:,0]\n",
    "    sns.scatterplot(x = y_val['open'],y = residue2)\n",
    "    plt.hlines(0,0,y_val['open'].max(),'red','--')\n",
    "    plt.show()\n",
    "#     return time_taken,MAE,MAEp,RMSE,RMSEp,R2\n",
    "#     return time_taken,MAE,RMSE,R2"
   ]
  },
  {
   "cell_type": "code",
   "execution_count": 126,
   "id": "4ac10e0a",
   "metadata": {},
   "outputs": [],
   "source": [
    "from sklearn.linear_model import LinearRegression"
   ]
  },
  {
   "cell_type": "code",
   "execution_count": 127,
   "id": "7b1bd4f9",
   "metadata": {},
   "outputs": [
    {
     "name": "stdout",
     "output_type": "stream",
     "text": [
      "With adj values:\n",
      "\n",
      "Time taken:  0.003989219665527344\n",
      "Close:\n",
      "\n",
      "Mean absolute error:  3.5188783104309725e-14\n",
      "Mean absolute error percent:  2.8930600470548995e-15\n",
      "Root mean squared error:  9.001988619012845e-14\n",
      "Root mean squared error percent:  2.3483447076954504e-14\n",
      "R2 score:  1.0\n"
     ]
    },
    {
     "data": {
      "image/png": "[encoded data removed]",
      "text/plain": [
       "<Figure size 432x288 with 1 Axes>"
      ]
     },
     "metadata": {
      "needs_background": "light"
     },
     "output_type": "display_data"
    },
    {
     "name": "stdout",
     "output_type": "stream",
     "text": [
      "Open:\n",
      "\n",
      "Mean absolute error:  2.336896108722107e-13\n",
      "Mean absolute error percent:  1.9229585530408782e-14\n",
      "Root mean squared error:  2.8304170443399e-13\n",
      "Root mean squared error percent:  7.400808686115348e-14\n",
      "R2 score:  1.0\n"
     ]
    },
    {
     "data": {
      "image/png": "[encoded data removed]",
      "text/plain": [
       "<Figure size 432x288 with 1 Axes>"
      ]
     },
     "metadata": {
      "needs_background": "light"
     },
     "output_type": "display_data"
    }
   ],
   "source": [
    "linear_model = LinearRegression()\n",
    "print(\"With adj values:\\n\")\n",
    "train_test_model(linear_model,scaled_X_train,y_train,scaled_X_test,y_test)\n",
    "# linear_model.fit(scaled_X_train,y_train)"
   ]
  },
  {
   "cell_type": "code",
   "execution_count": 128,
   "id": "5e4579e9",
   "metadata": {},
   "outputs": [
    {
     "data": {
      "text/plain": [
       "Index(['symbol', 'date', 'close', 'high', 'low', 'open', 'volume', 'adjClose',\n",
       "       'adjHigh', 'adjLow', 'adjOpen', 'adjVolume', 'divCash', 'splitFactor'],\n",
       "      dtype='object')"
      ]
     },
     "execution_count": 128,
     "metadata": {},
     "output_type": "execute_result"
    }
   ],
   "source": [
    "stock_prediction.columns"
   ]
  },
  {
   "cell_type": "code",
   "execution_count": 129,
   "id": "d45865db",
   "metadata": {},
   "outputs": [],
   "source": [
    "X1 = stock_prediction.drop(['symbol','date','close','open','divCash', 'splitFactor','adjClose',\n",
    "       'adjHigh', 'adjLow', 'adjOpen', 'adjVolume'],axis = 1)\n",
    "y1 = stock_prediction[['close','open']]"
   ]
  },
  {
   "cell_type": "code",
   "execution_count": 130,
   "id": "10fd931d",
   "metadata": {},
   "outputs": [],
   "source": [
    "X_train1, X_test1, y_train1, y_test1 = train_test_split(X1, y1, test_size=0.3, random_state=42)"
   ]
  },
  {
   "cell_type": "code",
   "execution_count": 131,
   "id": "b83f1fbb",
   "metadata": {},
   "outputs": [],
   "source": [
    "scaler1 = StandardScaler()\n",
    "scaled_X_train1 = scaler1.fit_transform(X_train1)\n",
    "scaled_X_test1 = scaler1.transform(X_test1)"
   ]
  },
  {
   "cell_type": "code",
   "execution_count": 132,
   "id": "da5cca5f",
   "metadata": {},
   "outputs": [
    {
     "name": "stdout",
     "output_type": "stream",
     "text": [
      "Without adj values:\n",
      "\n",
      "Time taken:  0.001994609832763672\n",
      "Close:\n",
      "\n",
      "Mean absolute error:  6.755162058838361\n",
      "Mean absolute error percent:  0.5553783831022236\n",
      "Root mean squared error:  9.879435179871503\n",
      "Root mean squared error percent:  2.577243795962012\n",
      "R2 score:  0.9992644495191928\n"
     ]
    },
    {
     "data": {
      "image/png": "[encoded data removed]",
      "text/plain": [
       "<Figure size 432x288 with 1 Axes>"
      ]
     },
     "metadata": {
      "needs_background": "light"
     },
     "output_type": "display_data"
    },
    {
     "name": "stdout",
     "output_type": "stream",
     "text": [
      "Open:\n",
      "\n",
      "Mean absolute error:  6.536406459806602\n",
      "Mean absolute error percent:  0.5378603978638158\n",
      "Root mean squared error:  9.168382221553754\n",
      "Root mean squared error percent:  2.3972948763359745\n",
      "R2 score:  0.9993613280813645\n"
     ]
    },
    {
     "data": {
      "image/png": "[encoded data removed]",
      "text/plain": [
       "<Figure size 432x288 with 1 Axes>"
      ]
     },
     "metadata": {
      "needs_background": "light"
     },
     "output_type": "display_data"
    }
   ],
   "source": [
    "linear_model_2 = LinearRegression()\n",
    "print(\"Without adj values:\\n\")\n",
    "train_test_model(linear_model,scaled_X_train1,y_train1,scaled_X_test1,y_test1)"
   ]
  },
  {
   "cell_type": "code",
   "execution_count": 133,
   "id": "836553bd",
   "metadata": {},
   "outputs": [
    {
     "data": {
      "text/html": [
       "<div>\n",
       "<style scoped>\n",
       "    .dataframe tbody tr th:only-of-type {\n",
       "        vertical-align: middle;\n",
       "    }\n",
       "\n",
       "    .dataframe tbody tr th {\n",
       "        vertical-align: top;\n",
       "    }\n",
       "\n",
       "    .dataframe thead th {\n",
       "        text-align: right;\n",
       "    }\n",
       "</style>\n",
       "<table border=\"1\" class=\"dataframe\">\n",
       "  <thead>\n",
       "    <tr style=\"text-align: right;\">\n",
       "      <th></th>\n",
       "      <th>high</th>\n",
       "      <th>low</th>\n",
       "      <th>volume</th>\n",
       "    </tr>\n",
       "  </thead>\n",
       "  <tbody>\n",
       "    <tr>\n",
       "      <th>0</th>\n",
       "      <td>722.470</td>\n",
       "      <td>713.1200</td>\n",
       "      <td>1306065</td>\n",
       "    </tr>\n",
       "    <tr>\n",
       "      <th>1</th>\n",
       "      <td>722.980</td>\n",
       "      <td>717.3100</td>\n",
       "      <td>1214517</td>\n",
       "    </tr>\n",
       "    <tr>\n",
       "      <th>2</th>\n",
       "      <td>716.650</td>\n",
       "      <td>703.2600</td>\n",
       "      <td>1982471</td>\n",
       "    </tr>\n",
       "    <tr>\n",
       "      <th>3</th>\n",
       "      <td>708.820</td>\n",
       "      <td>688.4515</td>\n",
       "      <td>3402357</td>\n",
       "    </tr>\n",
       "    <tr>\n",
       "      <th>4</th>\n",
       "      <td>702.480</td>\n",
       "      <td>693.4100</td>\n",
       "      <td>2082538</td>\n",
       "    </tr>\n",
       "    <tr>\n",
       "      <th>...</th>\n",
       "      <td>...</td>\n",
       "      <td>...</td>\n",
       "      <td>...</td>\n",
       "    </tr>\n",
       "    <tr>\n",
       "      <th>1253</th>\n",
       "      <td>2468.000</td>\n",
       "      <td>2441.0725</td>\n",
       "      <td>1192453</td>\n",
       "    </tr>\n",
       "    <tr>\n",
       "      <th>1254</th>\n",
       "      <td>2494.495</td>\n",
       "      <td>2468.2400</td>\n",
       "      <td>1253253</td>\n",
       "    </tr>\n",
       "    <tr>\n",
       "      <th>1255</th>\n",
       "      <td>2505.000</td>\n",
       "      <td>2487.3300</td>\n",
       "      <td>1006337</td>\n",
       "    </tr>\n",
       "    <tr>\n",
       "      <th>1256</th>\n",
       "      <td>2523.260</td>\n",
       "      <td>2494.0000</td>\n",
       "      <td>1561733</td>\n",
       "    </tr>\n",
       "    <tr>\n",
       "      <th>1257</th>\n",
       "      <td>2526.990</td>\n",
       "      <td>2498.2900</td>\n",
       "      <td>1262309</td>\n",
       "    </tr>\n",
       "  </tbody>\n",
       "</table>\n",
       "<p>1258 rows × 3 columns</p>\n",
       "</div>"
      ],
      "text/plain": [
       "          high        low   volume\n",
       "0      722.470   713.1200  1306065\n",
       "1      722.980   717.3100  1214517\n",
       "2      716.650   703.2600  1982471\n",
       "3      708.820   688.4515  3402357\n",
       "4      702.480   693.4100  2082538\n",
       "...        ...        ...      ...\n",
       "1253  2468.000  2441.0725  1192453\n",
       "1254  2494.495  2468.2400  1253253\n",
       "1255  2505.000  2487.3300  1006337\n",
       "1256  2523.260  2494.0000  1561733\n",
       "1257  2526.990  2498.2900  1262309\n",
       "\n",
       "[1258 rows x 3 columns]"
      ]
     },
     "execution_count": 133,
     "metadata": {},
     "output_type": "execute_result"
    }
   ],
   "source": [
    "X1"
   ]
  },
  {
   "cell_type": "code",
   "execution_count": null,
   "id": "b662ad07",
   "metadata": {},
   "outputs": [],
   "source": []
  }
 ],
 "metadata": {
  "kernelspec": {
   "display_name": "Python 3 (ipykernel)",
   "language": "python",
   "name": "python3"
  },
  "language_info": {
   "codemirror_mode": {
    "name": "ipython",
    "version": 3
   },
   "file_extension": ".py",
   "mimetype": "text/x-python",
   "name": "python",
   "nbconvert_exporter": "python",
   "pygments_lexer": "ipython3",
   "version": "3.9.12"
  }
 },
 "nbformat": 4,
 "nbformat_minor": 5
}
