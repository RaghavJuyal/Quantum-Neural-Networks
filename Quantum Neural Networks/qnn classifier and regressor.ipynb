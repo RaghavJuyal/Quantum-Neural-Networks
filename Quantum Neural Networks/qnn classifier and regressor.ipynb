{
 "cells": [
  {
   "attachments": {},
   "cell_type": "markdown",
   "metadata": {},
   "source": [
    "Qiskit Software\tVersion\\\n",
    "qiskit-terra\t0.22.3\\\n",
    "qiskit-aer\t0.11.1\\\n",
    "qiskit-machine-learning\t0.5.0\\\n",
    "Run it in this version otherwise will give error\\\n",
    "https://www.youtube.com/watch?v=L1TPD43UTZM&ab_channel=Qiskit"
   ]
  },
  {
   "cell_type": "code",
   "execution_count": 27,
   "metadata": {},
   "outputs": [],
   "source": [
    "import matplotlib.pyplot as plt\n",
    "import numpy as np\n",
    "from IPython.display import clear_output\n",
    "from qiskit import QuantumCircuit\n",
    "from qiskit.algorithms.optimizers import COBYLA, L_BFGS_B\n",
    "from qiskit.circuit import Parameter\n",
    "from qiskit.circuit.library import RealAmplitudes, ZZFeatureMap\n",
    "from qiskit.utils import algorithm_globals\n",
    "\n",
    "from qiskit_machine_learning.algorithms.classifiers import NeuralNetworkClassifier, VQC\n",
    "from qiskit_machine_learning.algorithms.regressors import NeuralNetworkRegressor, VQR\n",
    "from qiskit_machine_learning.neural_networks import SamplerQNN, EstimatorQNN\n",
    "\n",
    "algorithm_globals.random_seed = 42"
   ]
  },
  {
   "cell_type": "code",
   "execution_count": 28,
   "metadata": {},
   "outputs": [
    {
     "data": {
      "image/png": "[encoded data removed]",
      "text/plain": [
       "<Figure size 432x288 with 1 Axes>"
      ]
     },
     "metadata": {
      "needs_background": "light"
     },
     "output_type": "display_data"
    }
   ],
   "source": [
    "num_inputs = 2\n",
    "num_samples = 20\n",
    "X = 2 * algorithm_globals.random.random([num_samples, num_inputs]) - 1\n",
    "y01 = 1 * (np.sum(X, axis=1) >= 0)  # in { 0,  1}\n",
    "y = 2 * y01 - 1  # in {-1, +1}\n",
    "y_one_hot = np.zeros((num_samples, 2))\n",
    "for i in range(num_samples):\n",
    "    y_one_hot[i, y01[i]] = 1\n",
    "\n",
    "for x, y_target in zip(X, y):\n",
    "    if y_target == 1:\n",
    "        plt.plot(x[0], x[1], \"bo\")\n",
    "    else:\n",
    "        plt.plot(x[0], x[1], \"go\")\n",
    "plt.plot([-1, 1], [1, -1], \"--\", color=\"black\")\n",
    "plt.show()"
   ]
  },
  {
   "cell_type": "code",
   "execution_count": 29,
   "metadata": {},
   "outputs": [
    {
     "ename": "ImportError",
     "evalue": "cannot import name 'SymbolicPulse' from 'qiskit.pulse' (c:\\Users\\Admin\\anaconda3\\lib\\site-packages\\qiskit\\pulse\\__init__.py)",
     "output_type": "error",
     "traceback": [
      "\u001b[1;31m---------------------------------------------------------------------------\u001b[0m",
      "\u001b[1;31mImportError\u001b[0m                               Traceback (most recent call last)",
      "\u001b[1;32mc:\\Users\\Admin\\Desktop\\github stuff\\Quantum Neural Networks\\Quantum Neural Networks\\qnn classifier and regressor.ipynb Cell 3\u001b[0m in \u001b[0;36m<cell line: 7>\u001b[1;34m()\u001b[0m\n\u001b[0;32m      <a href='vscode-notebook-cell:/c%3A/Users/Admin/Desktop/github%20stuff/Quantum%20Neural%20Networks/Quantum%20Neural%20Networks/qnn%20classifier%20and%20regressor.ipynb#X10sZmlsZQ%3D%3D?line=4'>5</a>\u001b[0m qc\u001b[39m.\u001b[39mcompose(feature_map, inplace\u001b[39m=\u001b[39m\u001b[39mTrue\u001b[39;00m)\n\u001b[0;32m      <a href='vscode-notebook-cell:/c%3A/Users/Admin/Desktop/github%20stuff/Quantum%20Neural%20Networks/Quantum%20Neural%20Networks/qnn%20classifier%20and%20regressor.ipynb#X10sZmlsZQ%3D%3D?line=5'>6</a>\u001b[0m qc\u001b[39m.\u001b[39mcompose(ansatz, inplace\u001b[39m=\u001b[39m\u001b[39mTrue\u001b[39;00m)\n\u001b[1;32m----> <a href='vscode-notebook-cell:/c%3A/Users/Admin/Desktop/github%20stuff/Quantum%20Neural%20Networks/Quantum%20Neural%20Networks/qnn%20classifier%20and%20regressor.ipynb#X10sZmlsZQ%3D%3D?line=6'>7</a>\u001b[0m qc\u001b[39m.\u001b[39;49mdraw(output\u001b[39m=\u001b[39;49m\u001b[39m\"\u001b[39;49m\u001b[39mmpl\u001b[39;49m\u001b[39m\"\u001b[39;49m)\n",
      "File \u001b[1;32mc:\\Users\\Admin\\anaconda3\\lib\\site-packages\\qiskit\\circuit\\quantumcircuit.py:1833\u001b[0m, in \u001b[0;36mdraw\u001b[1;34m(self, output, scale, filename, style, interactive, plot_barriers, reverse_bits, justify, vertical_compression, idle_wires, with_layout, fold, ax, initial_state, cregbundle)\u001b[0m\n\u001b[0;32m   1816\u001b[0m     else:\n\u001b[0;32m   1817\u001b[0m         return string_temp\n\u001b[0;32m   1819\u001b[0m def draw(\n\u001b[0;32m   1820\u001b[0m     self,\n\u001b[0;32m   1821\u001b[0m     output: Optional[str] = None,\n\u001b[0;32m   1822\u001b[0m     scale: Optional[float] = None,\n\u001b[0;32m   1823\u001b[0m     filename: Optional[str] = None,\n\u001b[0;32m   1824\u001b[0m     style: Optional[Union[dict, str]] = None,\n\u001b[0;32m   1825\u001b[0m     interactive: bool = False,\n\u001b[0;32m   1826\u001b[0m     plot_barriers: bool = True,\n\u001b[0;32m   1827\u001b[0m     reverse_bits: bool = False,\n\u001b[0;32m   1828\u001b[0m     justify: Optional[str] = None,\n\u001b[0;32m   1829\u001b[0m     vertical_compression: Optional[str] = \"medium\",\n\u001b[0;32m   1830\u001b[0m     idle_wires: bool = True,\n\u001b[0;32m   1831\u001b[0m     with_layout: bool = True,\n\u001b[0;32m   1832\u001b[0m     fold: Optional[int] = None,\n\u001b[1;32m-> 1833\u001b[0m     # The type of ax is matplotlib.axes.Axes, but this is not a fixed dependency, so cannot be\n\u001b[0;32m   1834\u001b[0m     # safely forward-referenced.\n\u001b[0;32m   1835\u001b[0m     ax: Optional[typing.Any] = None,\n\u001b[0;32m   1836\u001b[0m     initial_state: bool = False,\n\u001b[0;32m   1837\u001b[0m     cregbundle: bool = None,\n\u001b[0;32m   1838\u001b[0m     wire_order: list = None,\n\u001b[0;32m   1839\u001b[0m ):\n\u001b[0;32m   1840\u001b[0m     \"\"\"Draw the quantum circuit. Use the output parameter to choose the drawing format:\n\u001b[0;32m   1841\u001b[0m \n\u001b[0;32m   1842\u001b[0m     **text**: ASCII art TextDrawing that can be printed in the console.\n\u001b[1;32m   (...)\u001b[0m\n\u001b[0;32m   1951\u001b[0m             qc.draw(output='mpl', style={'backgroundcolor': '#EEEEEE'})\n\u001b[0;32m   1952\u001b[0m     \"\"\"\n\u001b[0;32m   1954\u001b[0m     # pylint: disable=cyclic-import\n",
      "File \u001b[1;32mc:\\Users\\Admin\\anaconda3\\lib\\site-packages\\qiskit\\visualization\\__init__.py:273\u001b[0m, in \u001b[0;36m<module>\u001b[1;34m\u001b[0m\n\u001b[0;32m    271\u001b[0m \u001b[39mfrom\u001b[39;00m \u001b[39m.\u001b[39;00m\u001b[39mpulse\u001b[39;00m\u001b[39m.\u001b[39;00m\u001b[39minterpolation\u001b[39;00m \u001b[39mimport\u001b[39;00m step_wise, linear, cubic_spline\n\u001b[0;32m    272\u001b[0m \u001b[39mfrom\u001b[39;00m \u001b[39m.\u001b[39;00m\u001b[39mpulse\u001b[39;00m\u001b[39m.\u001b[39;00m\u001b[39mqcstyle\u001b[39;00m \u001b[39mimport\u001b[39;00m PulseStyle, SchedStyle\n\u001b[1;32m--> 273\u001b[0m \u001b[39mfrom\u001b[39;00m \u001b[39m.\u001b[39;00m\u001b[39mpulse_v2\u001b[39;00m \u001b[39mimport\u001b[39;00m draw \u001b[39mas\u001b[39;00m pulse_drawer_v2\n\u001b[0;32m    275\u001b[0m \u001b[39mfrom\u001b[39;00m \u001b[39m.\u001b[39;00m\u001b[39mtimeline\u001b[39;00m \u001b[39mimport\u001b[39;00m draw \u001b[39mas\u001b[39;00m timeline_drawer\n\u001b[0;32m    277\u001b[0m \u001b[39mfrom\u001b[39;00m \u001b[39m.\u001b[39;00m\u001b[39mexceptions\u001b[39;00m \u001b[39mimport\u001b[39;00m VisualizationError\n",
      "File \u001b[1;32mc:\\Users\\Admin\\anaconda3\\lib\\site-packages\\qiskit\\visualization\\pulse_v2\\__init__.py:18\u001b[0m, in \u001b[0;36m<module>\u001b[1;34m\u001b[0m\n\u001b[0;32m     13\u001b[0m \u001b[39m\"\"\"\u001b[39;00m\n\u001b[0;32m     14\u001b[0m \u001b[39mPulse visualization module.\u001b[39;00m\n\u001b[0;32m     15\u001b[0m \u001b[39m\"\"\"\u001b[39;00m\n\u001b[0;32m     17\u001b[0m \u001b[39m# interface\u001b[39;00m\n\u001b[1;32m---> 18\u001b[0m \u001b[39mfrom\u001b[39;00m \u001b[39mqiskit\u001b[39;00m\u001b[39m.\u001b[39;00m\u001b[39mvisualization\u001b[39;00m\u001b[39m.\u001b[39;00m\u001b[39mpulse_v2\u001b[39;00m\u001b[39m.\u001b[39;00m\u001b[39minterface\u001b[39;00m \u001b[39mimport\u001b[39;00m draw\n\u001b[0;32m     20\u001b[0m \u001b[39m# stylesheets\u001b[39;00m\n\u001b[0;32m     21\u001b[0m \u001b[39mfrom\u001b[39;00m \u001b[39mqiskit\u001b[39;00m\u001b[39m.\u001b[39;00m\u001b[39mvisualization\u001b[39;00m\u001b[39m.\u001b[39;00m\u001b[39mpulse_v2\u001b[39;00m\u001b[39m.\u001b[39;00m\u001b[39mstylesheet\u001b[39;00m \u001b[39mimport\u001b[39;00m IQXStandard, IQXSimple, IQXDebugging\n",
      "File \u001b[1;32mc:\\Users\\Admin\\anaconda3\\lib\\site-packages\\qiskit\\visualization\\pulse_v2\\interface.py:27\u001b[0m, in \u001b[0;36m<module>\u001b[1;34m\u001b[0m\n\u001b[0;32m     24\u001b[0m \u001b[39mfrom\u001b[39;00m \u001b[39mtyping\u001b[39;00m \u001b[39mimport\u001b[39;00m Union, Optional, Dict, Any, Tuple, List\n\u001b[0;32m     26\u001b[0m \u001b[39mfrom\u001b[39;00m \u001b[39mqiskit\u001b[39;00m\u001b[39m.\u001b[39;00m\u001b[39mproviders\u001b[39;00m \u001b[39mimport\u001b[39;00m Backend\n\u001b[1;32m---> 27\u001b[0m \u001b[39mfrom\u001b[39;00m \u001b[39mqiskit\u001b[39;00m\u001b[39m.\u001b[39;00m\u001b[39mpulse\u001b[39;00m \u001b[39mimport\u001b[39;00m Waveform, ParametricPulse, SymbolicPulse, Schedule, ScheduleBlock\n\u001b[0;32m     28\u001b[0m \u001b[39mfrom\u001b[39;00m \u001b[39mqiskit\u001b[39;00m\u001b[39m.\u001b[39;00m\u001b[39mpulse\u001b[39;00m\u001b[39m.\u001b[39;00m\u001b[39mchannels\u001b[39;00m \u001b[39mimport\u001b[39;00m Channel\n\u001b[0;32m     29\u001b[0m \u001b[39mfrom\u001b[39;00m \u001b[39mqiskit\u001b[39;00m\u001b[39m.\u001b[39;00m\u001b[39mvisualization\u001b[39;00m\u001b[39m.\u001b[39;00m\u001b[39mexceptions\u001b[39;00m \u001b[39mimport\u001b[39;00m VisualizationError\n",
      "\u001b[1;31mImportError\u001b[0m: cannot import name 'SymbolicPulse' from 'qiskit.pulse' (c:\\Users\\Admin\\anaconda3\\lib\\site-packages\\qiskit\\pulse\\__init__.py)"
     ]
    }
   ],
   "source": [
    "# construct QNN\n",
    "qc = QuantumCircuit(2)\n",
    "feature_map = ZZFeatureMap(2)\n",
    "ansatz = RealAmplitudes(2)\n",
    "qc.compose(feature_map, inplace=True)\n",
    "qc.compose(ansatz, inplace=True)\n",
    "qc.draw(output=\"mpl\")"
   ]
  },
  {
   "cell_type": "code",
   "execution_count": null,
   "metadata": {},
   "outputs": [],
   "source": [
    "estimator_qnn = EstimatorQNN(\n",
    "    circuit=qc, input_params=feature_map.parameters, weight_params=ansatz.parameters\n",
    ")"
   ]
  },
  {
   "cell_type": "code",
   "execution_count": null,
   "metadata": {},
   "outputs": [],
   "source": [
    "# QNN maps inputs to [-1, +1]\n",
    "estimator_qnn.forward(X[0, :], algorithm_globals.random.random(estimator_qnn.num_weights))"
   ]
  },
  {
   "cell_type": "code",
   "execution_count": 31,
   "metadata": {},
   "outputs": [],
   "source": [
    "# callback function that draws a live plot when the .fit() method is called\n",
    "def callback_graph(weights, obj_func_eval):\n",
    "    clear_output(wait=True)\n",
    "    objective_func_vals.append(obj_func_eval)\n",
    "    plt.title(\"Objective function value against iteration\")\n",
    "    plt.xlabel(\"Iteration\")\n",
    "    plt.ylabel(\"Objective function value\")\n",
    "    plt.plot(range(len(objective_func_vals)), objective_func_vals)\n",
    "    plt.show()"
   ]
  },
  {
   "cell_type": "code",
   "execution_count": null,
   "metadata": {},
   "outputs": [],
   "source": [
    "# construct neural network classifier\n",
    "estimator_classifier = NeuralNetworkClassifier(\n",
    "    estimator_qnn, optimizer=COBYLA(maxiter=60), callback=callback_graph\n",
    ")"
   ]
  },
  {
   "cell_type": "code",
   "execution_count": null,
   "metadata": {},
   "outputs": [],
   "source": [
    "# create empty array for callback to store evaluations of the objective function\n",
    "objective_func_vals = []\n",
    "plt.rcParams[\"figure.figsize\"] = (12, 6)\n",
    "\n",
    "# fit classifier to data\n",
    "estimator_classifier.fit(X, y)\n",
    "\n",
    "# return to default figsize\n",
    "plt.rcParams[\"figure.figsize\"] = (6, 4)\n",
    "\n",
    "# score classifier\n",
    "estimator_classifier.score(X, y)"
   ]
  },
  {
   "cell_type": "code",
   "execution_count": null,
   "metadata": {},
   "outputs": [],
   "source": [
    "# evaluate data points\n",
    "y_predict = estimator_classifier.predict(X)\n",
    "\n",
    "# plot results\n",
    "# red == wrongly classified\n",
    "for x, y_target, y_p in zip(X, y, y_predict):\n",
    "    if y_target == 1:\n",
    "        plt.plot(x[0], x[1], \"bo\")\n",
    "    else:\n",
    "        plt.plot(x[0], x[1], \"go\")\n",
    "    if y_target != y_p:\n",
    "        plt.scatter(x[0], x[1], s=200, facecolors=\"none\", edgecolors=\"r\", linewidths=2)\n",
    "plt.plot([-1, 1], [1, -1], \"--\", color=\"black\")\n",
    "plt.show()"
   ]
  },
  {
   "cell_type": "code",
   "execution_count": null,
   "metadata": {},
   "outputs": [],
   "source": [
    "estimator_classifier.weights"
   ]
  },
  {
   "cell_type": "code",
   "execution_count": null,
   "metadata": {},
   "outputs": [],
   "source": [
    "# construct feature map\n",
    "feature_map = ZZFeatureMap(num_inputs)\n",
    "\n",
    "# construct ansatz\n",
    "ansatz = RealAmplitudes(num_inputs, reps=1)\n",
    "\n",
    "# construct quantum circuit\n",
    "qc = QuantumCircuit(num_inputs)\n",
    "qc.append(feature_map, range(num_inputs))\n",
    "qc.append(ansatz, range(num_inputs))\n",
    "qc.decompose().draw(output=\"mpl\")"
   ]
  },
  {
   "cell_type": "code",
   "execution_count": null,
   "metadata": {},
   "outputs": [],
   "source": [
    "# parity maps bitstrings to 0 or 1\n",
    "def parity(x):\n",
    "    return \"{:b}\".format(x).count(\"1\") % 2\n",
    "\n",
    "\n",
    "output_shape = 2  # corresponds to the number of classes, possible outcomes of the (parity) mapping."
   ]
  },
  {
   "cell_type": "code",
   "execution_count": null,
   "metadata": {},
   "outputs": [],
   "source": [
    "# construct QNN\n",
    "sampler_qnn = SamplerQNN(\n",
    "    circuit=qc,\n",
    "    input_params=feature_map.parameters,\n",
    "    weight_params=ansatz.parameters,\n",
    "    interpret=parity,\n",
    "    output_shape=output_shape,\n",
    ")\n"
   ]
  },
  {
   "cell_type": "code",
   "execution_count": null,
   "metadata": {},
   "outputs": [],
   "source": [
    "# construct classifier\n",
    "sampler_classifier = NeuralNetworkClassifier(\n",
    "    neural_network=sampler_qnn, optimizer=COBYLA(maxiter=30), callback=callback_graph\n",
    ")"
   ]
  },
  {
   "cell_type": "code",
   "execution_count": null,
   "metadata": {},
   "outputs": [],
   "source": [
    "# create empty array for callback to store evaluations of the objective function\n",
    "objective_func_vals = []\n",
    "plt.rcParams[\"figure.figsize\"] = (12, 6)\n",
    "\n",
    "# fit classifier to data\n",
    "sampler_classifier.fit(X, y01)\n",
    "\n",
    "# return to default figsize\n",
    "plt.rcParams[\"figure.figsize\"] = (6, 4)\n",
    "\n",
    "# score classifier\n",
    "sampler_classifier.score(X, y01)"
   ]
  },
  {
   "cell_type": "code",
   "execution_count": null,
   "metadata": {},
   "outputs": [],
   "source": [
    "# evaluate data points\n",
    "y_predict = sampler_classifier.predict(X)\n",
    "\n",
    "# plot results\n",
    "# red == wrongly classified\n",
    "for x, y_target, y_p in zip(X, y01, y_predict):\n",
    "    if y_target == 1:\n",
    "        plt.plot(x[0], x[1], \"bo\")\n",
    "    else:\n",
    "        plt.plot(x[0], x[1], \"go\")\n",
    "    if y_target != y_p:\n",
    "        plt.scatter(x[0], x[1], s=200, facecolors=\"none\", edgecolors=\"r\", linewidths=2)\n",
    "plt.plot([-1, 1], [1, -1], \"--\", color=\"black\")\n",
    "plt.show()"
   ]
  },
  {
   "cell_type": "code",
   "execution_count": null,
   "metadata": {},
   "outputs": [],
   "source": [
    "sampler_classifier.weights"
   ]
  },
  {
   "cell_type": "code",
   "execution_count": 32,
   "metadata": {},
   "outputs": [
    {
     "ename": "ImportError",
     "evalue": "cannot import name 'SymbolicPulse' from 'qiskit.pulse' (c:\\Users\\Admin\\anaconda3\\lib\\site-packages\\qiskit\\pulse\\__init__.py)",
     "output_type": "error",
     "traceback": [
      "\u001b[1;31m---------------------------------------------------------------------------\u001b[0m",
      "\u001b[1;31mImportError\u001b[0m                               Traceback (most recent call last)",
      "File \u001b[1;32mc:\\Users\\Admin\\anaconda3\\lib\\site-packages\\qiskit\\opflow\\gradients\\circuit_gradients\\circuit_gradient.py:92\u001b[0m, in \u001b[0;36mCircuitGradient._transpile_to_supported_operations\u001b[1;34m(circuit, supported_gates)\u001b[0m\n\u001b[0;32m     91\u001b[0m \u001b[39mtry\u001b[39;00m:\n\u001b[1;32m---> 92\u001b[0m     circuit \u001b[39m=\u001b[39m transpile(\n\u001b[0;32m     93\u001b[0m         circuit, basis_gates\u001b[39m=\u001b[39;49m\u001b[39mlist\u001b[39;49m(supported_gates), optimization_level\u001b[39m=\u001b[39;49m\u001b[39m0\u001b[39;49m\n\u001b[0;32m     94\u001b[0m     )\n\u001b[0;32m     95\u001b[0m \u001b[39mexcept\u001b[39;00m \u001b[39mException\u001b[39;00m \u001b[39mas\u001b[39;00m exc:\n",
      "File \u001b[1;32mc:\\Users\\Admin\\anaconda3\\lib\\site-packages\\qiskit\\compiler\\transpiler.py:304\u001b[0m, in \u001b[0;36mtranspile\u001b[1;34m(circuits, backend, basis_gates, inst_map, coupling_map, backend_properties, initial_layout, layout_method, routing_method, translation_method, scheduling_method, instruction_durations, dt, approximation_degree, timing_constraints, seed_transpiler, optimization_level, callback, output_name, unitary_synthesis_method, unitary_synthesis_plugin_config, target)\u001b[0m\n\u001b[0;32m    303\u001b[0m end_time \u001b[39m=\u001b[39m time()\n\u001b[1;32m--> 304\u001b[0m _log_transpile_time(start_time, end_time)\n\u001b[0;32m    305\u001b[0m \u001b[39mif\u001b[39;00m arg_circuits_list:\n",
      "File \u001b[1;32mc:\\Users\\Admin\\anaconda3\\lib\\site-packages\\qiskit\\tools\\parallel.py:129\u001b[0m, in \u001b[0;36mparallel_map\u001b[1;34m(task, values, task_args, task_kwargs, num_processes)\u001b[0m\n\u001b[0;32m    108\u001b[0m \u001b[39mdef\u001b[39;00m \u001b[39mparallel_map\u001b[39m(  \u001b[39m# pylint: disable=dangerous-default-value\u001b[39;00m\n\u001b[0;32m    109\u001b[0m     task, values, task_args\u001b[39m=\u001b[39m\u001b[39mtuple\u001b[39m(), task_kwargs\u001b[39m=\u001b[39m{}, num_processes\u001b[39m=\u001b[39mCPU_COUNT\n\u001b[0;32m    110\u001b[0m ):\n\u001b[0;32m    111\u001b[0m     \u001b[39m\"\"\"\u001b[39;00m\n\u001b[0;32m    112\u001b[0m \u001b[39m    Parallel execution of a mapping of `values` to the function `task`. This\u001b[39;00m\n\u001b[0;32m    113\u001b[0m \u001b[39m    is functionally equivalent to::\u001b[39;00m\n\u001b[0;32m    114\u001b[0m \n\u001b[0;32m    115\u001b[0m \u001b[39m        result = [task(value, *task_args, **task_kwargs) for value in values]\u001b[39;00m\n\u001b[0;32m    116\u001b[0m \n\u001b[0;32m    117\u001b[0m \u001b[39m    On Windows this function defaults to a serial implementation to avoid the\u001b[39;00m\n\u001b[0;32m    118\u001b[0m \u001b[39m    overhead from spawning processes in Windows.\u001b[39;00m\n\u001b[0;32m    119\u001b[0m \n\u001b[0;32m    120\u001b[0m \u001b[39m    Args:\u001b[39;00m\n\u001b[0;32m    121\u001b[0m \u001b[39m        task (func): Function that is to be called for each value in ``values``.\u001b[39;00m\n\u001b[0;32m    122\u001b[0m \u001b[39m        values (array_like): List or array of values for which the ``task``\u001b[39;00m\n\u001b[0;32m    123\u001b[0m \u001b[39m                            function is to be evaluated.\u001b[39;00m\n\u001b[0;32m    124\u001b[0m \u001b[39m        task_args (list): Optional additional arguments to the ``task`` function.\u001b[39;00m\n\u001b[0;32m    125\u001b[0m \u001b[39m        task_kwargs (dict): Optional additional keyword argument to the ``task`` function.\u001b[39;00m\n\u001b[0;32m    126\u001b[0m \u001b[39m        num_processes (int): Number of processes to spawn.\u001b[39;00m\n\u001b[0;32m    127\u001b[0m \n\u001b[0;32m    128\u001b[0m \u001b[39m    Returns:\u001b[39;00m\n\u001b[1;32m--> 129\u001b[0m \u001b[39m        result: The result list contains the value of\u001b[39;00m\n\u001b[0;32m    130\u001b[0m \u001b[39m                ``task(value, *task_args, **task_kwargs)`` for\u001b[39;00m\n\u001b[0;32m    131\u001b[0m \u001b[39m                    each value in ``values``.\u001b[39;00m\n\u001b[0;32m    132\u001b[0m \n\u001b[0;32m    133\u001b[0m \u001b[39m    Raises:\u001b[39;00m\n\u001b[0;32m    134\u001b[0m \u001b[39m        QiskitError: If user interrupts via keyboard.\u001b[39;00m\n\u001b[0;32m    135\u001b[0m \n\u001b[0;32m    136\u001b[0m \u001b[39m    Events:\u001b[39;00m\n\u001b[0;32m    137\u001b[0m \u001b[39m        terra.parallel.start: The collection of parallel tasks are about to start.\u001b[39;00m\n\u001b[0;32m    138\u001b[0m \u001b[39m        terra.parallel.update: One of the parallel task has finished.\u001b[39;00m\n\u001b[0;32m    139\u001b[0m \u001b[39m        terra.parallel.finish: All the parallel tasks have finished.\u001b[39;00m\n\u001b[0;32m    140\u001b[0m \u001b[39m    \"\"\"\u001b[39;00m\n\u001b[0;32m    141\u001b[0m     \u001b[39mif\u001b[39;00m \u001b[39mlen\u001b[39m(values) \u001b[39m==\u001b[39m \u001b[39m0\u001b[39m:\n",
      "File \u001b[1;32mc:\\Users\\Admin\\anaconda3\\lib\\site-packages\\qiskit\\compiler\\transpiler.py:379\u001b[0m, in \u001b[0;36m_transpile_circuit\u001b[1;34m(circuit_config_tuple)\u001b[0m\n\u001b[0;32m    378\u001b[0m output_circuits \u001b[39m=\u001b[39m []\n\u001b[1;32m--> 379\u001b[0m \u001b[39mfor\u001b[39;00m circuit, unique_args \u001b[39min\u001b[39;00m \u001b[39mzip\u001b[39m(circuits, unique_transpile_args):\n\u001b[0;32m    380\u001b[0m     transpile_config, pass_manager \u001b[39m=\u001b[39m _combine_args(shared_args, unique_args)\n",
      "File \u001b[1;32mc:\\Users\\Admin\\anaconda3\\lib\\site-packages\\qiskit\\transpiler\\preset_passmanagers\\level0.py:166\u001b[0m, in \u001b[0;36mlevel_0_pass_manager\u001b[1;34m(pass_manager_config)\u001b[0m\n\u001b[0;32m    160\u001b[0m \u001b[39melse\u001b[39;00m:\n\u001b[0;32m    161\u001b[0m     translation \u001b[39m=\u001b[39m common\u001b[39m.\u001b[39mgenerate_translation_passmanager(\n\u001b[0;32m    162\u001b[0m         target,\n\u001b[0;32m    163\u001b[0m         basis_gates,\n\u001b[0;32m    164\u001b[0m         translation_method,\n\u001b[0;32m    165\u001b[0m         approximation_degree,\n\u001b[1;32m--> 166\u001b[0m         coupling_map,\n\u001b[0;32m    167\u001b[0m         backend_properties,\n\u001b[0;32m    168\u001b[0m         unitary_synthesis_method,\n\u001b[0;32m    169\u001b[0m         unitary_synthesis_plugin_config,\n\u001b[0;32m    170\u001b[0m         hls_config,\n\u001b[0;32m    171\u001b[0m     )\n\u001b[0;32m    172\u001b[0m pre_routing \u001b[39m=\u001b[39m \u001b[39mNone\u001b[39;00m\n",
      "File \u001b[1;32mc:\\Users\\Admin\\anaconda3\\lib\\site-packages\\qiskit\\circuit\\equivalence_library.py:15\u001b[0m, in \u001b[0;36m<module>\u001b[1;34m\u001b[0m\n\u001b[0;32m     13\u001b[0m \u001b[39m\"\"\"Session gates.\"\"\"\u001b[39;00m\n\u001b[1;32m---> 15\u001b[0m \u001b[39mfrom\u001b[39;00m \u001b[39m.\u001b[39;00m\u001b[39mlibrary\u001b[39;00m\u001b[39m.\u001b[39;00m\u001b[39mstandard_gates\u001b[39;00m\u001b[39m.\u001b[39;00m\u001b[39mequivalence_library\u001b[39;00m \u001b[39mimport\u001b[39;00m StandardEquivalenceLibrary\n\u001b[0;32m     16\u001b[0m \u001b[39mfrom\u001b[39;00m \u001b[39m.\u001b[39;00m\u001b[39mequivalence\u001b[39;00m \u001b[39mimport\u001b[39;00m EquivalenceLibrary\n",
      "File \u001b[1;32mc:\\Users\\Admin\\anaconda3\\lib\\site-packages\\qiskit\\circuit\\library\\standard_gates\\equivalence_library.py:21\u001b[0m, in \u001b[0;36m<module>\u001b[1;34m\u001b[0m\n\u001b[0;32m     19\u001b[0m \u001b[39mfrom\u001b[39;00m \u001b[39mqiskit\u001b[39;00m\u001b[39m.\u001b[39;00m\u001b[39mquantum_info\u001b[39;00m\u001b[39m.\u001b[39;00m\u001b[39msynthesis\u001b[39;00m\u001b[39m.\u001b[39;00m\u001b[39mion_decompose\u001b[39;00m \u001b[39mimport\u001b[39;00m cnot_rxx_decompose\n\u001b[1;32m---> 21\u001b[0m \u001b[39mfrom\u001b[39;00m \u001b[39m.\u001b[39;00m \u001b[39mimport\u001b[39;00m (\n\u001b[0;32m     22\u001b[0m     HGate,\n\u001b[0;32m     23\u001b[0m     CHGate,\n\u001b[0;32m     24\u001b[0m     PhaseGate,\n\u001b[0;32m     25\u001b[0m     CPhaseGate,\n\u001b[0;32m     26\u001b[0m     RGate,\n\u001b[0;32m     27\u001b[0m     RCCXGate,\n\u001b[0;32m     28\u001b[0m     RXGate,\n\u001b[0;32m     29\u001b[0m     CRXGate,\n\u001b[0;32m     30\u001b[0m     RXXGate,\n\u001b[0;32m     31\u001b[0m     RYGate,\n\u001b[0;32m     32\u001b[0m     CRYGate,\n\u001b[0;32m     33\u001b[0m     RZGate,\n\u001b[0;32m     34\u001b[0m     CRZGate,\n\u001b[0;32m     35\u001b[0m     RZZGate,\n\u001b[0;32m     36\u001b[0m     RZXGate,\n\u001b[0;32m     37\u001b[0m     SGate,\n\u001b[0;32m     38\u001b[0m     SdgGate,\n\u001b[0;32m     39\u001b[0m     CSGate,\n\u001b[0;32m     40\u001b[0m     CSdgGate,\n\u001b[0;32m     41\u001b[0m     SwapGate,\n\u001b[0;32m     42\u001b[0m     CSwapGate,\n\u001b[0;32m     43\u001b[0m     iSwapGate,\n\u001b[0;32m     44\u001b[0m     SXGate,\n\u001b[0;32m     45\u001b[0m     SXdgGate,\n\u001b[0;32m     46\u001b[0m     CSXGate,\n\u001b[0;32m     47\u001b[0m     DCXGate,\n\u001b[0;32m     48\u001b[0m     TGate,\n\u001b[0;32m     49\u001b[0m     TdgGate,\n\u001b[0;32m     50\u001b[0m     UGate,\n\u001b[0;32m     51\u001b[0m     CUGate,\n\u001b[0;32m     52\u001b[0m     U1Gate,\n\u001b[0;32m     53\u001b[0m     CU1Gate,\n\u001b[0;32m     54\u001b[0m     U2Gate,\n\u001b[0;32m     55\u001b[0m     U3Gate,\n\u001b[0;32m     56\u001b[0m     CU3Gate,\n\u001b[0;32m     57\u001b[0m     XGate,\n\u001b[0;32m     58\u001b[0m     CXGate,\n\u001b[0;32m     59\u001b[0m     CCXGate,\n\u001b[0;32m     60\u001b[0m     YGate,\n\u001b[0;32m     61\u001b[0m     CYGate,\n\u001b[0;32m     62\u001b[0m     RYYGate,\n\u001b[0;32m     63\u001b[0m     ECRGate,\n\u001b[0;32m     64\u001b[0m     ZGate,\n\u001b[0;32m     65\u001b[0m     CZGate,\n\u001b[0;32m     66\u001b[0m     CCZGate,\n\u001b[0;32m     67\u001b[0m )\n\u001b[0;32m     70\u001b[0m _sel \u001b[39m=\u001b[39m StandardEquivalenceLibrary \u001b[39m=\u001b[39m EquivalenceLibrary()\n",
      "\u001b[1;31mImportError\u001b[0m: cannot import name 'CSGate' from 'qiskit.circuit.library.standard_gates' (c:\\Users\\Admin\\anaconda3\\lib\\site-packages\\qiskit\\circuit\\library\\standard_gates\\__init__.py)",
      "\nDuring handling of the above exception, another exception occurred:\n",
      "\u001b[1;31mImportError\u001b[0m                               Traceback (most recent call last)",
      "\u001b[1;32mc:\\Users\\Admin\\Desktop\\github stuff\\Quantum Neural Networks\\Quantum Neural Networks\\qnn classifier and regressor.ipynb Cell 5\u001b[0m in \u001b[0;36m<cell line: 7>\u001b[1;34m()\u001b[0m\n\u001b[0;32m      <a href='vscode-notebook-cell:/c%3A/Users/Admin/Desktop/github%20stuff/Quantum%20Neural%20Networks/Quantum%20Neural%20Networks/qnn%20classifier%20and%20regressor.ipynb#W4sZmlsZQ%3D%3D?line=3'>4</a>\u001b[0m ansatz \u001b[39m=\u001b[39m RealAmplitudes(num_inputs, reps\u001b[39m=\u001b[39m\u001b[39m1\u001b[39m)\n\u001b[0;32m      <a href='vscode-notebook-cell:/c%3A/Users/Admin/Desktop/github%20stuff/Quantum%20Neural%20Networks/Quantum%20Neural%20Networks/qnn%20classifier%20and%20regressor.ipynb#W4sZmlsZQ%3D%3D?line=5'>6</a>\u001b[0m \u001b[39m# construct variational quantum classifier\u001b[39;00m\n\u001b[1;32m----> <a href='vscode-notebook-cell:/c%3A/Users/Admin/Desktop/github%20stuff/Quantum%20Neural%20Networks/Quantum%20Neural%20Networks/qnn%20classifier%20and%20regressor.ipynb#W4sZmlsZQ%3D%3D?line=6'>7</a>\u001b[0m vqc \u001b[39m=\u001b[39m VQC(\n\u001b[0;32m      <a href='vscode-notebook-cell:/c%3A/Users/Admin/Desktop/github%20stuff/Quantum%20Neural%20Networks/Quantum%20Neural%20Networks/qnn%20classifier%20and%20regressor.ipynb#W4sZmlsZQ%3D%3D?line=7'>8</a>\u001b[0m     feature_map\u001b[39m=\u001b[39;49mfeature_map,\n\u001b[0;32m      <a href='vscode-notebook-cell:/c%3A/Users/Admin/Desktop/github%20stuff/Quantum%20Neural%20Networks/Quantum%20Neural%20Networks/qnn%20classifier%20and%20regressor.ipynb#W4sZmlsZQ%3D%3D?line=8'>9</a>\u001b[0m     ansatz\u001b[39m=\u001b[39;49mansatz,\n\u001b[0;32m     <a href='vscode-notebook-cell:/c%3A/Users/Admin/Desktop/github%20stuff/Quantum%20Neural%20Networks/Quantum%20Neural%20Networks/qnn%20classifier%20and%20regressor.ipynb#W4sZmlsZQ%3D%3D?line=9'>10</a>\u001b[0m     loss\u001b[39m=\u001b[39;49m\u001b[39m\"\u001b[39;49m\u001b[39mcross_entropy\u001b[39;49m\u001b[39m\"\u001b[39;49m,\n\u001b[0;32m     <a href='vscode-notebook-cell:/c%3A/Users/Admin/Desktop/github%20stuff/Quantum%20Neural%20Networks/Quantum%20Neural%20Networks/qnn%20classifier%20and%20regressor.ipynb#W4sZmlsZQ%3D%3D?line=10'>11</a>\u001b[0m     optimizer\u001b[39m=\u001b[39;49mCOBYLA(maxiter\u001b[39m=\u001b[39;49m\u001b[39m30\u001b[39;49m),\n\u001b[0;32m     <a href='vscode-notebook-cell:/c%3A/Users/Admin/Desktop/github%20stuff/Quantum%20Neural%20Networks/Quantum%20Neural%20Networks/qnn%20classifier%20and%20regressor.ipynb#W4sZmlsZQ%3D%3D?line=11'>12</a>\u001b[0m     callback\u001b[39m=\u001b[39;49mcallback_graph,\n\u001b[0;32m     <a href='vscode-notebook-cell:/c%3A/Users/Admin/Desktop/github%20stuff/Quantum%20Neural%20Networks/Quantum%20Neural%20Networks/qnn%20classifier%20and%20regressor.ipynb#W4sZmlsZQ%3D%3D?line=12'>13</a>\u001b[0m )\n",
      "File \u001b[1;32mc:\\Users\\Admin\\anaconda3\\lib\\site-packages\\qiskit_machine_learning\\algorithms\\classifiers\\vqc.py:122\u001b[0m, in \u001b[0;36m__init__\u001b[1;34m(self, num_qubits, feature_map, ansatz, loss, optimizer, warm_start, quantum_instance, initial_point, callback)\u001b[0m\n\u001b[0;32m    117\u001b[0m \u001b[39mif\u001b[39;00m quantum_instance \u001b[39mis\u001b[39;00m \u001b[39mnot\u001b[39;00m \u001b[39mNone\u001b[39;00m \u001b[39mand\u001b[39;00m sampler \u001b[39mis\u001b[39;00m \u001b[39mNone\u001b[39;00m:\n\u001b[0;32m    118\u001b[0m     warn_deprecated(\n\u001b[0;32m    119\u001b[0m         \u001b[39m\"\u001b[39m\u001b[39m0.5.0\u001b[39m\u001b[39m\"\u001b[39m, DeprecatedType\u001b[39m.\u001b[39mARGUMENT, old_name\u001b[39m=\u001b[39m\u001b[39m\"\u001b[39m\u001b[39mquantum_instance\u001b[39m\u001b[39m\"\u001b[39m, new_name\u001b[39m=\u001b[39m\u001b[39m\"\u001b[39m\u001b[39msampler\u001b[39m\u001b[39m\"\u001b[39m\n\u001b[0;32m    120\u001b[0m     )\n\u001b[0;32m    121\u001b[0m     neural_network \u001b[39m=\u001b[39m CircuitQNN(\n\u001b[1;32m--> 122\u001b[0m         \u001b[39mself\u001b[39m\u001b[39m.\u001b[39m_circuit,\n\u001b[0;32m    123\u001b[0m         input_params\u001b[39m=\u001b[39m\u001b[39mself\u001b[39m\u001b[39m.\u001b[39mfeature_map\u001b[39m.\u001b[39mparameters,\n\u001b[0;32m    124\u001b[0m         weight_params\u001b[39m=\u001b[39m\u001b[39mself\u001b[39m\u001b[39m.\u001b[39mansatz\u001b[39m.\u001b[39mparameters,\n\u001b[0;32m    125\u001b[0m         interpret\u001b[39m=\u001b[39m\u001b[39mself\u001b[39m\u001b[39m.\u001b[39m_get_interpret(\u001b[39m2\u001b[39m),\n\u001b[0;32m    126\u001b[0m         output_shape\u001b[39m=\u001b[39m\u001b[39m2\u001b[39m,\n\u001b[0;32m    127\u001b[0m         quantum_instance\u001b[39m=\u001b[39mquantum_instance,\n\u001b[0;32m    128\u001b[0m         input_gradients\u001b[39m=\u001b[39m\u001b[39mFalse\u001b[39;00m,\n\u001b[0;32m    129\u001b[0m     )\n\u001b[0;32m    130\u001b[0m \u001b[39melse\u001b[39;00m:\n\u001b[0;32m    131\u001b[0m     \u001b[39m# construct sampler QNN by default\u001b[39;00m\n\u001b[0;32m    132\u001b[0m     neural_network \u001b[39m=\u001b[39m SamplerQNN(\n\u001b[0;32m    133\u001b[0m         sampler\u001b[39m=\u001b[39msampler,\n\u001b[0;32m    134\u001b[0m         circuit\u001b[39m=\u001b[39m\u001b[39mself\u001b[39m\u001b[39m.\u001b[39m_circuit,\n\u001b[1;32m   (...)\u001b[0m\n\u001b[0;32m    139\u001b[0m         input_gradients\u001b[39m=\u001b[39m\u001b[39mFalse\u001b[39;00m,\n\u001b[0;32m    140\u001b[0m     )\n",
      "File \u001b[1;32mc:\\Users\\Admin\\anaconda3\\lib\\site-packages\\qiskit_machine_learning\\neural_networks\\circuit_qnn.py:145\u001b[0m, in \u001b[0;36mCircuitQNN.__init__\u001b[1;34m(self, circuit, input_params, weight_params, sparse, sampling, interpret, output_shape, gradient, quantum_instance, input_gradients)\u001b[0m\n\u001b[0;32m    139\u001b[0m \u001b[39mself\u001b[39m\u001b[39m.\u001b[39m_set_quantum_instance(quantum_instance, output_shape, interpret)\n\u001b[0;32m    141\u001b[0m \u001b[39m# init super class\u001b[39;00m\n\u001b[0;32m    142\u001b[0m \u001b[39msuper\u001b[39m()\u001b[39m.\u001b[39m\u001b[39m__init__\u001b[39m(\n\u001b[0;32m    143\u001b[0m     \u001b[39mlen\u001b[39m(\u001b[39mself\u001b[39m\u001b[39m.\u001b[39m_input_params),\n\u001b[0;32m    144\u001b[0m     \u001b[39mlen\u001b[39m(\u001b[39mself\u001b[39m\u001b[39m.\u001b[39m_weight_params),\n\u001b[1;32m--> 145\u001b[0m     sparse,\n\u001b[0;32m    146\u001b[0m     sampling,\n\u001b[0;32m    147\u001b[0m     \u001b[39mself\u001b[39m\u001b[39m.\u001b[39m_output_shape,\n\u001b[0;32m    148\u001b[0m     \u001b[39mself\u001b[39m\u001b[39m.\u001b[39m_input_gradients,\n\u001b[0;32m    149\u001b[0m )\n\u001b[0;32m    151\u001b[0m \u001b[39mself\u001b[39m\u001b[39m.\u001b[39m_original_circuit \u001b[39m=\u001b[39m circuit\n\u001b[0;32m    152\u001b[0m \u001b[39m# use given gradient or default\u001b[39;00m\n",
      "File \u001b[1;32mc:\\Users\\Admin\\anaconda3\\lib\\site-packages\\qiskit_machine_learning\\neural_networks\\circuit_qnn.py:157\u001b[0m, in \u001b[0;36m_construct_gradient_circuit\u001b[1;34m(self)\u001b[0m\n\u001b[0;32m    155\u001b[0m \u001b[39mdef\u001b[39;00m \u001b[39m_construct_gradient_circuit\u001b[39m(\u001b[39mself\u001b[39m):\n\u001b[0;32m    156\u001b[0m     \u001b[39mif\u001b[39;00m \u001b[39mself\u001b[39m\u001b[39m.\u001b[39m_gradient_circuit_constructed:\n\u001b[1;32m--> 157\u001b[0m         \u001b[39mreturn\u001b[39;00m\n\u001b[0;32m    159\u001b[0m     \u001b[39mself\u001b[39m\u001b[39m.\u001b[39m_gradient_circuit: OperatorBase \u001b[39m=\u001b[39m \u001b[39mNone\u001b[39;00m\n\u001b[0;32m    160\u001b[0m     \u001b[39mtry\u001b[39;00m:\n\u001b[0;32m    161\u001b[0m         \u001b[39m# todo: avoid copying the circuit\u001b[39;00m\n",
      "File \u001b[1;32mc:\\Users\\Admin\\anaconda3\\lib\\site-packages\\qiskit\\opflow\\gradients\\gradient.py:63\u001b[0m, in \u001b[0;36mGradient.convert\u001b[1;34m(self, operator, params)\u001b[0m\n\u001b[0;32m     61\u001b[0m     params \u001b[39m=\u001b[39m \u001b[39msorted\u001b[39m(operator\u001b[39m.\u001b[39mparameters, key\u001b[39m=\u001b[39mfunctools\u001b[39m.\u001b[39mcmp_to_key(_compare_parameters))\n\u001b[0;32m     62\u001b[0m \u001b[39mif\u001b[39;00m \u001b[39misinstance\u001b[39m(params, (ParameterVector, \u001b[39mlist\u001b[39m)):\n\u001b[1;32m---> 63\u001b[0m     param_grads \u001b[39m=\u001b[39m [\u001b[39mself\u001b[39m\u001b[39m.\u001b[39mconvert(operator, param) \u001b[39mfor\u001b[39;00m param \u001b[39min\u001b[39;00m params]\n\u001b[0;32m     64\u001b[0m     absent_params \u001b[39m=\u001b[39m [\n\u001b[0;32m     65\u001b[0m         params[i] \u001b[39mfor\u001b[39;00m i, grad_ops \u001b[39min\u001b[39;00m \u001b[39menumerate\u001b[39m(param_grads) \u001b[39mif\u001b[39;00m grad_ops \u001b[39mis\u001b[39;00m \u001b[39mNone\u001b[39;00m\n\u001b[0;32m     66\u001b[0m     ]\n\u001b[0;32m     67\u001b[0m     \u001b[39mif\u001b[39;00m \u001b[39mlen\u001b[39m(absent_params) \u001b[39m>\u001b[39m \u001b[39m0\u001b[39m:\n",
      "File \u001b[1;32mc:\\Users\\Admin\\anaconda3\\lib\\site-packages\\qiskit\\opflow\\gradients\\gradient.py:63\u001b[0m, in \u001b[0;36m<listcomp>\u001b[1;34m(.0)\u001b[0m\n\u001b[0;32m     61\u001b[0m     params \u001b[39m=\u001b[39m \u001b[39msorted\u001b[39m(operator\u001b[39m.\u001b[39mparameters, key\u001b[39m=\u001b[39mfunctools\u001b[39m.\u001b[39mcmp_to_key(_compare_parameters))\n\u001b[0;32m     62\u001b[0m \u001b[39mif\u001b[39;00m \u001b[39misinstance\u001b[39m(params, (ParameterVector, \u001b[39mlist\u001b[39m)):\n\u001b[1;32m---> 63\u001b[0m     param_grads \u001b[39m=\u001b[39m [\u001b[39mself\u001b[39;49m\u001b[39m.\u001b[39;49mconvert(operator, param) \u001b[39mfor\u001b[39;00m param \u001b[39min\u001b[39;00m params]\n\u001b[0;32m     64\u001b[0m     absent_params \u001b[39m=\u001b[39m [\n\u001b[0;32m     65\u001b[0m         params[i] \u001b[39mfor\u001b[39;00m i, grad_ops \u001b[39min\u001b[39;00m \u001b[39menumerate\u001b[39m(param_grads) \u001b[39mif\u001b[39;00m grad_ops \u001b[39mis\u001b[39;00m \u001b[39mNone\u001b[39;00m\n\u001b[0;32m     66\u001b[0m     ]\n\u001b[0;32m     67\u001b[0m     \u001b[39mif\u001b[39;00m \u001b[39mlen\u001b[39m(absent_params) \u001b[39m>\u001b[39m \u001b[39m0\u001b[39m:\n",
      "File \u001b[1;32mc:\\Users\\Admin\\anaconda3\\lib\\site-packages\\qiskit\\opflow\\gradients\\gradient.py:78\u001b[0m, in \u001b[0;36mGradient.convert\u001b[1;34m(self, operator, params)\u001b[0m\n\u001b[0;32m     76\u001b[0m expec_op \u001b[39m=\u001b[39m PauliExpectation(group_paulis\u001b[39m=\u001b[39m\u001b[39mFalse\u001b[39;00m)\u001b[39m.\u001b[39mconvert(operator)\u001b[39m.\u001b[39mreduce()\n\u001b[0;32m     77\u001b[0m cleaned_op \u001b[39m=\u001b[39m \u001b[39mself\u001b[39m\u001b[39m.\u001b[39m_factor_coeffs_out_of_composed_op(expec_op)\n\u001b[1;32m---> 78\u001b[0m \u001b[39mreturn\u001b[39;00m \u001b[39mself\u001b[39;49m\u001b[39m.\u001b[39;49mget_gradient(cleaned_op, param)\n",
      "File \u001b[1;32mc:\\Users\\Admin\\anaconda3\\lib\\site-packages\\qiskit\\opflow\\gradients\\gradient.py:191\u001b[0m, in \u001b[0;36mGradient.get_gradient\u001b[1;34m(self, operator, params)\u001b[0m\n\u001b[0;32m    186\u001b[0m     \u001b[39mif\u001b[39;00m \u001b[39mnot\u001b[39;00m is_coeff_c(operator\u001b[39m.\u001b[39m_coeff, \u001b[39m1.0\u001b[39m):\n\u001b[0;32m    187\u001b[0m         \u001b[39mraise\u001b[39;00m OpflowError(\n\u001b[0;32m    188\u001b[0m             \u001b[39m\"\u001b[39m\u001b[39mOperator pre-processing failed. Coefficients were not properly \u001b[39m\u001b[39m\"\u001b[39m\n\u001b[0;32m    189\u001b[0m             \u001b[39m\"\u001b[39m\u001b[39mcollected inside the ComposedOp.\u001b[39m\u001b[39m\"\u001b[39m\n\u001b[0;32m    190\u001b[0m         )\n\u001b[1;32m--> 191\u001b[0m     \u001b[39mreturn\u001b[39;00m \u001b[39mself\u001b[39;49m\u001b[39m.\u001b[39;49mgrad_method\u001b[39m.\u001b[39;49mconvert(operator, param)\n\u001b[0;32m    193\u001b[0m \u001b[39m# Handle the chain rule\u001b[39;00m\n\u001b[0;32m    194\u001b[0m \u001b[39melif\u001b[39;00m \u001b[39misinstance\u001b[39m(operator, ListOp):\n",
      "File \u001b[1;32mc:\\Users\\Admin\\anaconda3\\lib\\site-packages\\qiskit\\opflow\\gradients\\circuit_gradients\\param_shift.py:116\u001b[0m, in \u001b[0;36mParamShift.convert\u001b[1;34m(self, operator, params)\u001b[0m\n\u001b[0;32m     96\u001b[0m \u001b[39m\"\"\"\u001b[39;00m\n\u001b[0;32m     97\u001b[0m \u001b[39mArgs:\u001b[39;00m\n\u001b[0;32m     98\u001b[0m \u001b[39m    operator: The operator corresponding to our quantum state we are taking the\u001b[39;00m\n\u001b[1;32m   (...)\u001b[0m\n\u001b[0;32m    113\u001b[0m \n\u001b[0;32m    114\u001b[0m \u001b[39m\"\"\"\u001b[39;00m\n\u001b[0;32m    115\u001b[0m \u001b[39mif\u001b[39;00m \u001b[39misinstance\u001b[39m(params, (ParameterExpression, ParameterVector)):\n\u001b[1;32m--> 116\u001b[0m     \u001b[39mreturn\u001b[39;00m \u001b[39mself\u001b[39;49m\u001b[39m.\u001b[39;49m_parameter_shift(operator, params)\n\u001b[0;32m    117\u001b[0m \u001b[39melif\u001b[39;00m \u001b[39misinstance\u001b[39m(params, \u001b[39mtuple\u001b[39m):\n\u001b[0;32m    118\u001b[0m     \u001b[39mreturn\u001b[39;00m \u001b[39mself\u001b[39m\u001b[39m.\u001b[39m_parameter_shift(\u001b[39mself\u001b[39m\u001b[39m.\u001b[39m_parameter_shift(operator, params[\u001b[39m0\u001b[39m]), params[\u001b[39m1\u001b[39m])\n",
      "File \u001b[1;32mc:\\Users\\Admin\\anaconda3\\lib\\site-packages\\qiskit\\opflow\\gradients\\circuit_gradients\\param_shift.py:202\u001b[0m, in \u001b[0;36mParamShift._parameter_shift\u001b[1;34m(self, operator, params)\u001b[0m\n\u001b[0;32m    197\u001b[0m circ \u001b[39m=\u001b[39m circs[\u001b[39m0\u001b[39m]\n\u001b[0;32m    199\u001b[0m \u001b[39mif\u001b[39;00m \u001b[39mself\u001b[39m\u001b[39m.\u001b[39manalytic:\n\u001b[0;32m    200\u001b[0m     \u001b[39m# Unroll the circuit into a gate set for which the gradient may be computed\u001b[39;00m\n\u001b[0;32m    201\u001b[0m     \u001b[39m# using pi/2 shifts.\u001b[39;00m\n\u001b[1;32m--> 202\u001b[0m     circ \u001b[39m=\u001b[39m ParamShift\u001b[39m.\u001b[39m_transpile_to_supported_operations(circ, \u001b[39mself\u001b[39m\u001b[39m.\u001b[39mSUPPORTED_GATES)\n\u001b[0;32m    203\u001b[0m     operator \u001b[39m=\u001b[39m ParamShift\u001b[39m.\u001b[39m_replace_operator_circuit(operator, circ)\n\u001b[0;32m    205\u001b[0m \u001b[39mif\u001b[39;00m param \u001b[39mnot\u001b[39;00m \u001b[39min\u001b[39;00m circ\u001b[39m.\u001b[39m_parameter_table:\n",
      "File \u001b[1;32mc:\\Users\\Admin\\anaconda3\\lib\\site-packages\\qiskit\\opflow\\gradients\\circuit_gradients\\circuit_gradient.py:97\u001b[0m, in \u001b[0;36mCircuitGradient._transpile_to_supported_operations\u001b[1;34m(circuit, supported_gates)\u001b[0m\n\u001b[0;32m     92\u001b[0m         circuit \u001b[39m=\u001b[39m transpile(\n\u001b[0;32m     93\u001b[0m             circuit, basis_gates\u001b[39m=\u001b[39m\u001b[39mlist\u001b[39m(supported_gates), optimization_level\u001b[39m=\u001b[39m\u001b[39m0\u001b[39m\n\u001b[0;32m     94\u001b[0m         )\n\u001b[0;32m     95\u001b[0m     \u001b[39mexcept\u001b[39;00m \u001b[39mException\u001b[39;00m \u001b[39mas\u001b[39;00m exc:\n\u001b[0;32m     96\u001b[0m         \u001b[39mraise\u001b[39;00m QiskitError(\n\u001b[1;32m---> 97\u001b[0m             \u001b[39mf\u001b[39m\u001b[39m\"\u001b[39m\u001b[39mCould not transpile the circuit provided \u001b[39m\u001b[39m{\u001b[39;00mcircuit\u001b[39m}\u001b[39;00m\u001b[39m into supported gates \u001b[39m\u001b[39m\"\u001b[39m\n\u001b[0;32m     98\u001b[0m             \u001b[39mf\u001b[39m\u001b[39m\"\u001b[39m\u001b[39m{\u001b[39;00msupported_gates\u001b[39m}\u001b[39;00m\u001b[39m.\u001b[39m\u001b[39m\"\u001b[39m\n\u001b[0;32m     99\u001b[0m         ) \u001b[39mfrom\u001b[39;00m \u001b[39mexc\u001b[39;00m\n\u001b[0;32m    100\u001b[0m \u001b[39mreturn\u001b[39;00m circuit\n",
      "File \u001b[1;32mc:\\Users\\Admin\\anaconda3\\lib\\site-packages\\qiskit\\circuit\\quantumcircuit.py:364\u001b[0m, in \u001b[0;36m__str__\u001b[1;34m(self)\u001b[0m\n\u001b[0;32m    356\u001b[0m     \u001b[39m\"\"\"Set the circuit calibration data from a dictionary of calibration definition.\u001b[39;00m\n\u001b[0;32m    357\u001b[0m \n\u001b[0;32m    358\u001b[0m \u001b[39m    Args:\u001b[39;00m\n\u001b[0;32m    359\u001b[0m \u001b[39m        calibrations (dict): A dictionary of input in the format\u001b[39;00m\n\u001b[0;32m    360\u001b[0m \u001b[39m            {'gate_name': {(qubits, gate_params): schedule}}\u001b[39;00m\n\u001b[0;32m    361\u001b[0m \u001b[39m    \"\"\"\u001b[39;00m\n\u001b[0;32m    362\u001b[0m     \u001b[39mself\u001b[39m\u001b[39m.\u001b[39m_calibrations \u001b[39m=\u001b[39m defaultdict(\u001b[39mdict\u001b[39m, calibrations)\n\u001b[1;32m--> 364\u001b[0m \u001b[39mdef\u001b[39;00m \u001b[39mhas_calibration_for\u001b[39m(\u001b[39mself\u001b[39m, instr_context: Tuple):\n\u001b[0;32m    365\u001b[0m     \u001b[39m\"\"\"Return True if the circuit has a calibration defined for the instruction context. In this\u001b[39;00m\n\u001b[0;32m    366\u001b[0m \u001b[39m    case, the operation does not need to be translated to the device basis.\u001b[39;00m\n\u001b[0;32m    367\u001b[0m \u001b[39m    \"\"\"\u001b[39;00m\n\u001b[0;32m    368\u001b[0m     instr, qargs, _ \u001b[39m=\u001b[39m instr_context\n",
      "File \u001b[1;32mc:\\Users\\Admin\\anaconda3\\lib\\site-packages\\qiskit\\circuit\\quantumcircuit.py:1833\u001b[0m, in \u001b[0;36mdraw\u001b[1;34m(self, output, scale, filename, style, interactive, plot_barriers, reverse_bits, justify, vertical_compression, idle_wires, with_layout, fold, ax, initial_state, cregbundle)\u001b[0m\n\u001b[0;32m   1816\u001b[0m     else:\n\u001b[0;32m   1817\u001b[0m         return string_temp\n\u001b[0;32m   1819\u001b[0m def draw(\n\u001b[0;32m   1820\u001b[0m     self,\n\u001b[0;32m   1821\u001b[0m     output: Optional[str] = None,\n\u001b[0;32m   1822\u001b[0m     scale: Optional[float] = None,\n\u001b[0;32m   1823\u001b[0m     filename: Optional[str] = None,\n\u001b[0;32m   1824\u001b[0m     style: Optional[Union[dict, str]] = None,\n\u001b[0;32m   1825\u001b[0m     interactive: bool = False,\n\u001b[0;32m   1826\u001b[0m     plot_barriers: bool = True,\n\u001b[0;32m   1827\u001b[0m     reverse_bits: bool = False,\n\u001b[0;32m   1828\u001b[0m     justify: Optional[str] = None,\n\u001b[0;32m   1829\u001b[0m     vertical_compression: Optional[str] = \"medium\",\n\u001b[0;32m   1830\u001b[0m     idle_wires: bool = True,\n\u001b[0;32m   1831\u001b[0m     with_layout: bool = True,\n\u001b[0;32m   1832\u001b[0m     fold: Optional[int] = None,\n\u001b[1;32m-> 1833\u001b[0m     # The type of ax is matplotlib.axes.Axes, but this is not a fixed dependency, so cannot be\n\u001b[0;32m   1834\u001b[0m     # safely forward-referenced.\n\u001b[0;32m   1835\u001b[0m     ax: Optional[typing.Any] = None,\n\u001b[0;32m   1836\u001b[0m     initial_state: bool = False,\n\u001b[0;32m   1837\u001b[0m     cregbundle: bool = None,\n\u001b[0;32m   1838\u001b[0m     wire_order: list = None,\n\u001b[0;32m   1839\u001b[0m ):\n\u001b[0;32m   1840\u001b[0m     \"\"\"Draw the quantum circuit. Use the output parameter to choose the drawing format:\n\u001b[0;32m   1841\u001b[0m \n\u001b[0;32m   1842\u001b[0m     **text**: ASCII art TextDrawing that can be printed in the console.\n\u001b[1;32m   (...)\u001b[0m\n\u001b[0;32m   1951\u001b[0m             qc.draw(output='mpl', style={'backgroundcolor': '#EEEEEE'})\n\u001b[0;32m   1952\u001b[0m     \"\"\"\n\u001b[0;32m   1954\u001b[0m     # pylint: disable=cyclic-import\n",
      "File \u001b[1;32mc:\\Users\\Admin\\anaconda3\\lib\\site-packages\\qiskit\\visualization\\__init__.py:273\u001b[0m, in \u001b[0;36m<module>\u001b[1;34m\u001b[0m\n\u001b[0;32m    271\u001b[0m \u001b[39mfrom\u001b[39;00m \u001b[39m.\u001b[39;00m\u001b[39mpulse\u001b[39;00m\u001b[39m.\u001b[39;00m\u001b[39minterpolation\u001b[39;00m \u001b[39mimport\u001b[39;00m step_wise, linear, cubic_spline\n\u001b[0;32m    272\u001b[0m \u001b[39mfrom\u001b[39;00m \u001b[39m.\u001b[39;00m\u001b[39mpulse\u001b[39;00m\u001b[39m.\u001b[39;00m\u001b[39mqcstyle\u001b[39;00m \u001b[39mimport\u001b[39;00m PulseStyle, SchedStyle\n\u001b[1;32m--> 273\u001b[0m \u001b[39mfrom\u001b[39;00m \u001b[39m.\u001b[39;00m\u001b[39mpulse_v2\u001b[39;00m \u001b[39mimport\u001b[39;00m draw \u001b[39mas\u001b[39;00m pulse_drawer_v2\n\u001b[0;32m    275\u001b[0m \u001b[39mfrom\u001b[39;00m \u001b[39m.\u001b[39;00m\u001b[39mtimeline\u001b[39;00m \u001b[39mimport\u001b[39;00m draw \u001b[39mas\u001b[39;00m timeline_drawer\n\u001b[0;32m    277\u001b[0m \u001b[39mfrom\u001b[39;00m \u001b[39m.\u001b[39;00m\u001b[39mexceptions\u001b[39;00m \u001b[39mimport\u001b[39;00m VisualizationError\n",
      "File \u001b[1;32mc:\\Users\\Admin\\anaconda3\\lib\\site-packages\\qiskit\\visualization\\pulse_v2\\__init__.py:18\u001b[0m, in \u001b[0;36m<module>\u001b[1;34m\u001b[0m\n\u001b[0;32m     13\u001b[0m \u001b[39m\"\"\"\u001b[39;00m\n\u001b[0;32m     14\u001b[0m \u001b[39mPulse visualization module.\u001b[39;00m\n\u001b[0;32m     15\u001b[0m \u001b[39m\"\"\"\u001b[39;00m\n\u001b[0;32m     17\u001b[0m \u001b[39m# interface\u001b[39;00m\n\u001b[1;32m---> 18\u001b[0m \u001b[39mfrom\u001b[39;00m \u001b[39mqiskit\u001b[39;00m\u001b[39m.\u001b[39;00m\u001b[39mvisualization\u001b[39;00m\u001b[39m.\u001b[39;00m\u001b[39mpulse_v2\u001b[39;00m\u001b[39m.\u001b[39;00m\u001b[39minterface\u001b[39;00m \u001b[39mimport\u001b[39;00m draw\n\u001b[0;32m     20\u001b[0m \u001b[39m# stylesheets\u001b[39;00m\n\u001b[0;32m     21\u001b[0m \u001b[39mfrom\u001b[39;00m \u001b[39mqiskit\u001b[39;00m\u001b[39m.\u001b[39;00m\u001b[39mvisualization\u001b[39;00m\u001b[39m.\u001b[39;00m\u001b[39mpulse_v2\u001b[39;00m\u001b[39m.\u001b[39;00m\u001b[39mstylesheet\u001b[39;00m \u001b[39mimport\u001b[39;00m IQXStandard, IQXSimple, IQXDebugging\n",
      "File \u001b[1;32mc:\\Users\\Admin\\anaconda3\\lib\\site-packages\\qiskit\\visualization\\pulse_v2\\interface.py:27\u001b[0m, in \u001b[0;36m<module>\u001b[1;34m\u001b[0m\n\u001b[0;32m     24\u001b[0m \u001b[39mfrom\u001b[39;00m \u001b[39mtyping\u001b[39;00m \u001b[39mimport\u001b[39;00m Union, Optional, Dict, Any, Tuple, List\n\u001b[0;32m     26\u001b[0m \u001b[39mfrom\u001b[39;00m \u001b[39mqiskit\u001b[39;00m\u001b[39m.\u001b[39;00m\u001b[39mproviders\u001b[39;00m \u001b[39mimport\u001b[39;00m Backend\n\u001b[1;32m---> 27\u001b[0m \u001b[39mfrom\u001b[39;00m \u001b[39mqiskit\u001b[39;00m\u001b[39m.\u001b[39;00m\u001b[39mpulse\u001b[39;00m \u001b[39mimport\u001b[39;00m Waveform, ParametricPulse, SymbolicPulse, Schedule, ScheduleBlock\n\u001b[0;32m     28\u001b[0m \u001b[39mfrom\u001b[39;00m \u001b[39mqiskit\u001b[39;00m\u001b[39m.\u001b[39;00m\u001b[39mpulse\u001b[39;00m\u001b[39m.\u001b[39;00m\u001b[39mchannels\u001b[39;00m \u001b[39mimport\u001b[39;00m Channel\n\u001b[0;32m     29\u001b[0m \u001b[39mfrom\u001b[39;00m \u001b[39mqiskit\u001b[39;00m\u001b[39m.\u001b[39;00m\u001b[39mvisualization\u001b[39;00m\u001b[39m.\u001b[39;00m\u001b[39mexceptions\u001b[39;00m \u001b[39mimport\u001b[39;00m VisualizationError\n",
      "\u001b[1;31mImportError\u001b[0m: cannot import name 'SymbolicPulse' from 'qiskit.pulse' (c:\\Users\\Admin\\anaconda3\\lib\\site-packages\\qiskit\\pulse\\__init__.py)"
     ]
    }
   ],
   "source": [
    "# VQC\n",
    "# construct feature map, ansatz, and optimizer\n",
    "feature_map = ZZFeatureMap(num_inputs)\n",
    "ansatz = RealAmplitudes(num_inputs, reps=1)\n",
    "\n",
    "# construct variational quantum classifier\n",
    "vqc = VQC(\n",
    "    feature_map=feature_map,\n",
    "    ansatz=ansatz,\n",
    "    loss=\"cross_entropy\",\n",
    "    optimizer=COBYLA(maxiter=30),\n",
    "    callback=callback_graph,\n",
    ")"
   ]
  },
  {
   "cell_type": "code",
   "execution_count": null,
   "metadata": {},
   "outputs": [],
   "source": [
    "# create empty array for callback to store evaluations of the objective function\n",
    "objective_func_vals = []\n",
    "plt.rcParams[\"figure.figsize\"] = (12, 6)\n",
    "\n",
    "# fit classifier to data\n",
    "vqc.fit(X, y_one_hot)\n",
    "\n",
    "# return to default figsize\n",
    "plt.rcParams[\"figure.figsize\"] = (6, 4)\n",
    "\n",
    "# score classifier\n",
    "vqc.score(X, y_one_hot)"
   ]
  },
  {
   "cell_type": "code",
   "execution_count": null,
   "metadata": {},
   "outputs": [],
   "source": [
    "# evaluate data points\n",
    "y_predict = vqc.predict(X)\n",
    "\n",
    "# plot results\n",
    "# red == wrongly classified\n",
    "for x, y_target, y_p in zip(X, y_one_hot, y_predict):\n",
    "    if y_target[0] == 1:\n",
    "        plt.plot(x[0], x[1], \"bo\")\n",
    "    else:\n",
    "        plt.plot(x[0], x[1], \"go\")\n",
    "    if not np.all(y_target == y_p):\n",
    "        plt.scatter(x[0], x[1], s=200, facecolors=\"none\", edgecolors=\"r\", linewidths=2)\n",
    "plt.plot([-1, 1], [1, -1], \"--\", color=\"black\")\n",
    "plt.show()"
   ]
  },
  {
   "cell_type": "code",
   "execution_count": null,
   "metadata": {},
   "outputs": [],
   "source": [
    "from sklearn.datasets import make_classification\n",
    "from sklearn.preprocessing import MinMaxScaler\n",
    "\n",
    "X, y = make_classification(\n",
    "    n_samples=10,\n",
    "    n_features=2,\n",
    "    n_classes=3,\n",
    "    n_redundant=0,\n",
    "    n_clusters_per_class=1,\n",
    "    class_sep=2.0,\n",
    "    random_state=algorithm_globals.random_seed,\n",
    ")\n",
    "X = MinMaxScaler().fit_transform(X)"
   ]
  },
  {
   "cell_type": "code",
   "execution_count": null,
   "metadata": {},
   "outputs": [],
   "source": [
    "plt.scatter(X[:, 0], X[:, 1], c=y)"
   ]
  },
  {
   "cell_type": "code",
   "execution_count": null,
   "metadata": {},
   "outputs": [],
   "source": [
    "y_cat = np.empty(y.shape, dtype=str)\n",
    "y_cat[y == 0] = \"A\"\n",
    "y_cat[y == 1] = \"B\"\n",
    "y_cat[y == 2] = \"C\"\n",
    "print(y_cat)"
   ]
  },
  {
   "cell_type": "code",
   "execution_count": null,
   "metadata": {},
   "outputs": [],
   "source": [
    "vqc = VQC(\n",
    "    num_qubits=2,\n",
    "    optimizer=COBYLA(maxiter=30),\n",
    "    callback=callback_graph,\n",
    ")"
   ]
  },
  {
   "cell_type": "code",
   "execution_count": null,
   "metadata": {},
   "outputs": [],
   "source": [
    "# create empty array for callback to store evaluations of the objective function\n",
    "objective_func_vals = []\n",
    "plt.rcParams[\"figure.figsize\"] = (12, 6)\n",
    "\n",
    "# fit classifier to data\n",
    "vqc.fit(X, y_cat)\n",
    "\n",
    "# return to default figsize\n",
    "plt.rcParams[\"figure.figsize\"] = (6, 4)\n",
    "\n",
    "# score classifier\n",
    "vqc.score(X, y_cat)"
   ]
  },
  {
   "cell_type": "code",
   "execution_count": null,
   "metadata": {},
   "outputs": [],
   "source": [
    "predict = vqc.predict(X)\n",
    "print(f\"Predicted labels: {predict}\")\n",
    "print(f\"Ground truth:     {y_cat}\")"
   ]
  },
  {
   "cell_type": "code",
   "execution_count": null,
   "metadata": {},
   "outputs": [],
   "source": [
    "num_samples = 20\n",
    "eps = 0.2\n",
    "lb, ub = -np.pi, np.pi\n",
    "X_ = np.linspace(lb, ub, num=50).reshape(50, 1)\n",
    "f = lambda x: np.sin(x)\n",
    "\n",
    "X = (ub - lb) * algorithm_globals.random.random([num_samples, 1]) + lb\n",
    "y = f(X[:, 0]) + eps * (2 * algorithm_globals.random.random(num_samples) - 1)\n",
    "\n",
    "plt.plot(X_, f(X_), \"r--\")\n",
    "plt.plot(X, y, \"bo\")\n",
    "plt.show()"
   ]
  },
  {
   "cell_type": "code",
   "execution_count": null,
   "metadata": {},
   "outputs": [],
   "source": [
    "# construct simple feature map\n",
    "param_x = Parameter(\"x\")\n",
    "feature_map = QuantumCircuit(1, name=\"fm\")\n",
    "feature_map.ry(param_x, 0)\n",
    "\n",
    "# construct simple ansatz\n",
    "param_y = Parameter(\"y\")\n",
    "ansatz = QuantumCircuit(1, name=\"vf\")\n",
    "ansatz.ry(param_y, 0)\n",
    "\n",
    "# construct a circuit\n",
    "qc = QuantumCircuit(1)\n",
    "qc.compose(feature_map, inplace=True)\n",
    "qc.compose(ansatz, inplace=True)\n",
    "\n",
    "# construct QNN\n",
    "regression_estimator_qnn = EstimatorQNN(\n",
    "    circuit=qc, input_params=feature_map.parameters, weight_params=ansatz.parameters\n",
    ")"
   ]
  },
  {
   "cell_type": "code",
   "execution_count": null,
   "metadata": {},
   "outputs": [],
   "source": [
    "# construct the regressor from the neural network\n",
    "regressor = NeuralNetworkRegressor(\n",
    "    neural_network=regression_estimator_qnn,\n",
    "    loss=\"squared_error\",\n",
    "    optimizer=L_BFGS_B(maxiter=5),\n",
    "    callback=callback_graph,\n",
    ")"
   ]
  },
  {
   "cell_type": "code",
   "execution_count": null,
   "metadata": {},
   "outputs": [],
   "source": [
    "# create empty array for callback to store evaluations of the objective function\n",
    "objective_func_vals = []\n",
    "plt.rcParams[\"figure.figsize\"] = (12, 6)\n",
    "\n",
    "# fit to data\n",
    "regressor.fit(X, y)\n",
    "\n",
    "# return to default figsize\n",
    "plt.rcParams[\"figure.figsize\"] = (6, 4)\n",
    "\n",
    "# score the result\n",
    "regressor.score(X, y)"
   ]
  },
  {
   "cell_type": "code",
   "execution_count": null,
   "metadata": {},
   "outputs": [],
   "source": [
    "# plot target function\n",
    "plt.plot(X_, f(X_), \"r--\")\n",
    "\n",
    "# plot data\n",
    "plt.plot(X, y, \"bo\")\n",
    "\n",
    "# plot fitted line\n",
    "y_ = regressor.predict(X_)\n",
    "plt.plot(X_, y_, \"g-\")\n",
    "plt.show()"
   ]
  },
  {
   "cell_type": "code",
   "execution_count": null,
   "metadata": {},
   "outputs": [],
   "source": [
    "regressor.weights"
   ]
  },
  {
   "cell_type": "code",
   "execution_count": null,
   "metadata": {},
   "outputs": [],
   "source": [
    "vqr = VQR(\n",
    "    feature_map=feature_map,\n",
    "    ansatz=ansatz,\n",
    "    optimizer=L_BFGS_B(maxiter=5),\n",
    "    callback=callback_graph,\n",
    ")"
   ]
  },
  {
   "cell_type": "code",
   "execution_count": null,
   "metadata": {},
   "outputs": [],
   "source": [
    "# create empty array for callback to store evaluations of the objective function\n",
    "objective_func_vals = []\n",
    "plt.rcParams[\"figure.figsize\"] = (12, 6)\n",
    "\n",
    "# fit regressor\n",
    "vqr.fit(X, y)\n",
    "\n",
    "# return to default figsize\n",
    "plt.rcParams[\"figure.figsize\"] = (6, 4)\n",
    "\n",
    "# score result\n",
    "vqr.score(X, y)"
   ]
  },
  {
   "cell_type": "code",
   "execution_count": null,
   "metadata": {},
   "outputs": [],
   "source": [
    "# plot target function\n",
    "plt.plot(X_, f(X_), \"r--\")\n",
    "\n",
    "# plot data\n",
    "plt.plot(X, y, \"bo\")\n",
    "\n",
    "# plot fitted line\n",
    "y_ = vqr.predict(X_)\n",
    "plt.plot(X_, y_, \"g-\")\n",
    "plt.show()"
   ]
  }
 ],
 "metadata": {
  "kernelspec": {
   "display_name": "base",
   "language": "python",
   "name": "python3"
  },
  "language_info": {
   "codemirror_mode": {
    "name": "ipython",
    "version": 3
   },
   "file_extension": ".py",
   "mimetype": "text/x-python",
   "name": "python",
   "nbconvert_exporter": "python",
   "pygments_lexer": "ipython3",
   "version": "3.9.12 (main, Apr  4 2022, 05:22:27) [MSC v.1916 64 bit (AMD64)]"
  },
  "orig_nbformat": 4,
  "vscode": {
   "interpreter": {
    "hash": "2043299c89c8cd0b4d1a6f5cf4529bd58e6a4e0fe3181a25e0d328c821cdc5c5"
   }
  }
 },
 "nbformat": 4,
 "nbformat_minor": 2
}
